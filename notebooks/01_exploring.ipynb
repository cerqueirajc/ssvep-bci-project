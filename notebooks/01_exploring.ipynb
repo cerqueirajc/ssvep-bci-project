{
 "cells": [
  {
   "cell_type": "code",
   "execution_count": null,
   "id": "57857eaa-5455-4147-b73d-895a8a0b9b7f",
   "metadata": {
    "tags": []
   },
   "outputs": [],
   "source": [
    "%load_ext autoreload\n",
    "%autoreload 2"
   ]
  },
  {
   "cell_type": "code",
   "execution_count": null,
   "id": "26ff8f1f-f4f1-41f3-a9e9-2741c02b4472",
   "metadata": {
    "tags": []
   },
   "outputs": [],
   "source": [
    "import numpy as np\n",
    "from scipy import pi\n",
    "from scipy.io import loadmat\n",
    "from scipy.fft import fft, ifft, fftfreq"
   ]
  },
  {
   "cell_type": "code",
   "execution_count": null,
   "id": "849551d3-a1fd-4fcd-b81b-dfef0664b19d",
   "metadata": {
    "tags": []
   },
   "outputs": [],
   "source": [
    "import pandas as pd"
   ]
  },
  {
   "cell_type": "code",
   "execution_count": null,
   "id": "7265afd6-d1c8-4954-a33a-0337fc63e336",
   "metadata": {
    "tags": []
   },
   "outputs": [],
   "source": [
    "from ssvepcca.definitions import (\n",
    "    NUM_BLOCKS,\n",
    "    NUM_TARGETS,\n",
    "    NUM_SAMPLES,\n",
    "    NUM_ELECTRODES,\n",
    "    SAMPLE_FREQ,\n",
    "    SAMPLE_T,\n",
    "    TARGET_FREQUENCY,\n",
    "    TARGET_PHASE,\n",
    "    ELECTRODE_INDEX\n",
    ")"
   ]
  },
  {
   "cell_type": "code",
   "execution_count": null,
   "id": "be315a87-f8e0-48b1-9d71-bace55f1adeb",
   "metadata": {
    "tags": []
   },
   "outputs": [],
   "source": [
    "from ssvepcca.utils import (_get_time_column,\n",
    "                   # transform_mat_to_pandas,\n",
    "                  get_harmonic_columns)"
   ]
  },
  {
   "cell_type": "markdown",
   "id": "8396f3f9-3349-4fe5-aad6-a8dfa85faef6",
   "metadata": {},
   "source": [
    "# Exploring Sample"
   ]
  },
  {
   "cell_type": "markdown",
   "id": "572a07e2-a3bc-43ff-8242-133e14be31a8",
   "metadata": {
    "execution": {
     "iopub.execute_input": "2023-05-14T15:09:23.426889Z",
     "iopub.status.busy": "2023-05-14T15:09:23.426526Z",
     "iopub.status.idle": "2023-05-14T15:09:23.464978Z",
     "shell.execute_reply": "2023-05-14T15:09:23.464091Z",
     "shell.execute_reply.started": "2023-05-14T15:09:23.426860Z"
    },
    "tags": []
   },
   "source": [
    "## Parsing input dataset for S1 (subject 1)"
   ]
  },
  {
   "cell_type": "code",
   "execution_count": null,
   "id": "f51e69ba-4e5c-41fd-bf93-b4535869bc53",
   "metadata": {
    "tags": []
   },
   "outputs": [],
   "source": [
    "s1 = loadmat(\"dataset_chines/S1.mat\")"
   ]
  },
  {
   "cell_type": "code",
   "execution_count": null,
   "id": "84f857e0-d385-4d49-a74c-d5489c702fbb",
   "metadata": {
    "tags": []
   },
   "outputs": [],
   "source": [
    "s1.keys()"
   ]
  },
  {
   "cell_type": "code",
   "execution_count": null,
   "id": "358cfd4b-1e73-4520-acda-0b7ff98a93ca",
   "metadata": {
    "tags": []
   },
   "outputs": [],
   "source": [
    "s1['__header__']"
   ]
  },
  {
   "cell_type": "code",
   "execution_count": null,
   "id": "65ae714a-5503-4a43-8221-f86c9b9f42c5",
   "metadata": {
    "tags": []
   },
   "outputs": [],
   "source": [
    "s1['__version__']"
   ]
  },
  {
   "cell_type": "code",
   "execution_count": null,
   "id": "dd447fca-ab23-4147-ada0-ba492c0c2c39",
   "metadata": {
    "tags": []
   },
   "outputs": [],
   "source": [
    "s1['__globals__']"
   ]
  },
  {
   "cell_type": "code",
   "execution_count": null,
   "id": "230c8e33-a141-4090-8914-b2397af60dee",
   "metadata": {
    "tags": []
   },
   "outputs": [],
   "source": [
    "m1 = s1['data']"
   ]
  },
  {
   "cell_type": "code",
   "execution_count": null,
   "id": "2b6fa63c-727e-4006-b37a-129c87f7e639",
   "metadata": {
    "tags": []
   },
   "outputs": [],
   "source": [
    "m1.shape"
   ]
  },
  {
   "cell_type": "code",
   "execution_count": null,
   "id": "cad580d6-b01e-4ff5-8eb1-30b229540d84",
   "metadata": {
    "tags": []
   },
   "outputs": [],
   "source": [
    "m1[:, :, 0, 0]"
   ]
  },
  {
   "cell_type": "code",
   "execution_count": null,
   "id": "87518fdf-1460-42b2-88e9-097091c424c8",
   "metadata": {
    "tags": []
   },
   "outputs": [],
   "source": [
    "df1 = transform_mat_to_pandas(m1)"
   ]
  },
  {
   "cell_type": "code",
   "execution_count": null,
   "id": "e7c07e75-804d-4671-a80d-4df9fa05cbdf",
   "metadata": {
    "tags": []
   },
   "outputs": [],
   "source": [
    "df1"
   ]
  },
  {
   "cell_type": "code",
   "execution_count": null,
   "id": "4b67676d-2786-4a18-97ad-89b37a84290f",
   "metadata": {
    "tags": []
   },
   "outputs": [],
   "source": [
    "df = df1.set_index([\"block\", \"target\", \"time_ms\"])"
   ]
  },
  {
   "cell_type": "code",
   "execution_count": null,
   "id": "c92f069f-8afd-46d3-8296-94eb8e6fa5cc",
   "metadata": {
    "tags": []
   },
   "outputs": [],
   "source": [
    "df.loc[0,0].loc[0:1000][\"electrode_0\"].plot()"
   ]
  },
  {
   "cell_type": "code",
   "execution_count": null,
   "id": "c5204ce8-4365-4212-b8d8-528262847f59",
   "metadata": {
    "tags": []
   },
   "outputs": [],
   "source": [
    "df.loc[0,0][\"electrode_20\"].plot()"
   ]
  },
  {
   "cell_type": "code",
   "execution_count": null,
   "id": "ad0189ef-f940-454a-b279-f71bc40cf381",
   "metadata": {
    "tags": []
   },
   "outputs": [],
   "source": [
    "df.loc[0,6][\"electrode_20\"].plot()"
   ]
  },
  {
   "cell_type": "markdown",
   "id": "4e413bb8-c859-4298-a4fe-4e951ea48bac",
   "metadata": {},
   "source": [
    "## Playing with FFT, just to see what happens"
   ]
  },
  {
   "cell_type": "code",
   "execution_count": null,
   "id": "71f705e4-2fc8-4b23-8a0c-5bd081c37b0c",
   "metadata": {
    "tags": []
   },
   "outputs": [],
   "source": [
    "N = NUM_SAMPLES # Number of sample points\n",
    "T = SAMPLE_T # sample spacing \n",
    "y = df.loc[0,6][\"electrode_50\"].values\n",
    "\n",
    "yf = fft(y)\n",
    "xf = fftfreq(N, T)[:N//8]\n",
    "import matplotlib.pyplot as plt\n",
    "plt.plot(xf, 2.0/N * np.abs(yf[:N//8]))\n",
    "plt.grid()\n",
    "plt.show()"
   ]
  },
  {
   "cell_type": "code",
   "execution_count": null,
   "id": "f4c8df5e-af1a-480d-9c51-09cf3d19ba47",
   "metadata": {
    "tags": []
   },
   "outputs": [],
   "source": [
    "from scipy.signal import blackman\n",
    "import matplotlib.pyplot as plt\n",
    "\n",
    "xf = fftfreq(N, T)[:N//2]\n",
    "yf = fft(y)\n",
    "w = blackman(N)\n",
    "ywf = fft(y*w)\n",
    "\n",
    "plt.semilogy(xf[1:N//8], 2.0/N * np.abs(yf[1:N//8]), '-b')\n",
    "plt.semilogy(xf[1:N//8], 2.0/N * np.abs(ywf[1:N//8]), '-r')\n",
    "plt.legend(['FFT', 'FFT w. window'])\n",
    "plt.grid()\n",
    "plt.show()"
   ]
  },
  {
   "cell_type": "markdown",
   "id": "c7d8aff8-04ea-4ee3-a8bf-5eecba2d6518",
   "metadata": {},
   "source": [
    "## Exploring Phase Dataset"
   ]
  },
  {
   "cell_type": "code",
   "execution_count": null,
   "id": "c220a150-44e2-4991-bd7a-9fe1a0239517",
   "metadata": {
    "tags": []
   },
   "outputs": [],
   "source": [
    "freqphase = loadmat(\"dataset_chines/Freq_Phase.mat\")"
   ]
  },
  {
   "cell_type": "code",
   "execution_count": null,
   "id": "d153286b-94fd-4a0a-82fb-6a9f739751b9",
   "metadata": {
    "tags": []
   },
   "outputs": [],
   "source": [
    "freqphase"
   ]
  },
  {
   "cell_type": "code",
   "execution_count": null,
   "id": "82142aa0-1bf5-4fa1-a6b4-f2b343269990",
   "metadata": {
    "tags": []
   },
   "outputs": [],
   "source": [
    "freqphase[\"phases\"].shape"
   ]
  },
  {
   "cell_type": "code",
   "execution_count": null,
   "id": "843dac96-05e2-467d-834b-eb7868388b27",
   "metadata": {
    "tags": []
   },
   "outputs": [],
   "source": [
    "freqphase[\"freqs\"].reshape(-1, 8)"
   ]
  },
  {
   "cell_type": "code",
   "execution_count": null,
   "id": "84ceb286-8c8a-4071-9e34-6ce3bbc6ad2e",
   "metadata": {
    "tags": []
   },
   "outputs": [],
   "source": [
    "freqphase[\"phases\"].round(4).reshape(-1, 8)"
   ]
  },
  {
   "cell_type": "markdown",
   "id": "773d13e5-fecb-44df-b6a9-523d1b83326b",
   "metadata": {},
   "source": [
    "# POC with CCA (original algorithm)"
   ]
  },
  {
   "cell_type": "markdown",
   "id": "7376a35a-18af-463d-a156-424aefbe48a7",
   "metadata": {},
   "source": [
    "**Plan:**\n",
    "\n",
    "- get sin and cos components (6 components/columns)\n",
    "- for each observation, we are going to estimate the correlation with all possible frequencies."
   ]
  },
  {
   "cell_type": "code",
   "execution_count": null,
   "id": "83626973-43c5-4456-b3f0-c9c80ccb12bf",
   "metadata": {
    "tags": []
   },
   "outputs": [],
   "source": [
    "np.sin(2*pi)"
   ]
  },
  {
   "cell_type": "code",
   "execution_count": null,
   "id": "0dc8d4bf-072e-4d2c-ab67-93f98a3a0f21",
   "metadata": {
    "tags": []
   },
   "outputs": [],
   "source": [
    "freqs = freqphase[\"freqs\"].reshape(-1)\n",
    "phases =  freqphase[\"phases\"].reshape(-1)"
   ]
  },
  {
   "cell_type": "code",
   "execution_count": null,
   "id": "a4d65f3b-f64b-4010-b049-9ecd355c477a",
   "metadata": {
    "tags": []
   },
   "outputs": [],
   "source": [
    "BLOCK = 0\n",
    "TARGET = 0"
   ]
  },
  {
   "cell_type": "code",
   "execution_count": null,
   "id": "4dfab52b-7a82-4011-86cf-bdde0065b92e",
   "metadata": {
    "tags": []
   },
   "outputs": [],
   "source": [
    "obs_dataframe = df.loc[BLOCK, TARGET]"
   ]
  },
  {
   "cell_type": "code",
   "execution_count": null,
   "id": "d309324f-b090-4d77-bc4e-555b9c636b9e",
   "metadata": {
    "tags": []
   },
   "outputs": [],
   "source": [
    "obs_dataframe"
   ]
  },
  {
   "cell_type": "code",
   "execution_count": null,
   "id": "64f3e98b-b0ed-429d-a91d-7190f574469a",
   "metadata": {
    "tags": []
   },
   "outputs": [],
   "source": [
    "obs_dataframe['time_index'] * 1 / 250"
   ]
  },
  {
   "cell_type": "code",
   "execution_count": null,
   "id": "64c3d1ab-144a-4ebb-8dec-d99c06ebb4ee",
   "metadata": {
    "tags": []
   },
   "outputs": [],
   "source": [
    "m1.shape"
   ]
  },
  {
   "cell_type": "code",
   "execution_count": null,
   "id": "bf535b52-fe1c-426c-8aa6-cb2ffd841ac4",
   "metadata": {
    "tags": []
   },
   "outputs": [],
   "source": [
    "trial = m1[:, :, TARGET, BLOCK].T"
   ]
  },
  {
   "cell_type": "code",
   "execution_count": null,
   "id": "a3e01e9e-2119-4f34-befb-8c0eeb188590",
   "metadata": {
    "tags": []
   },
   "outputs": [],
   "source": [
    "trial.shape"
   ]
  },
  {
   "cell_type": "code",
   "execution_count": null,
   "id": "b22b5345-c4a5-4780-952b-d9aa2cec575c",
   "metadata": {
    "tags": []
   },
   "outputs": [],
   "source": [
    "get_harmonic_columns(2).shape"
   ]
  },
  {
   "cell_type": "code",
   "execution_count": null,
   "id": "404fb6f7-5e54-4f2a-b116-99b46ef9296b",
   "metadata": {
    "tags": []
   },
   "outputs": [],
   "source": [
    "harmonics_8 = get_harmonic_columns(8)"
   ]
  },
  {
   "cell_type": "code",
   "execution_count": null,
   "id": "5060c434-0404-417c-b070-5ce13d85d17a",
   "metadata": {
    "tags": []
   },
   "outputs": [],
   "source": [
    "harmonics_8.shape"
   ]
  },
  {
   "cell_type": "code",
   "execution_count": null,
   "id": "0072c5a0-92b4-49cf-9670-0b5052fe8ad2",
   "metadata": {
    "tags": []
   },
   "outputs": [],
   "source": [
    "from sklearn.cross_decomposition import CCA\n"
   ]
  },
  {
   "cell_type": "code",
   "execution_count": null,
   "id": "4e3fb27a-9b8d-49cd-aa81-3c2ba1dae0ff",
   "metadata": {
    "tags": []
   },
   "outputs": [],
   "source": [
    "from definitions import ELECTRODE_INDEX\n",
    "from parameters import electrode_list_fbcca"
   ]
  },
  {
   "cell_type": "code",
   "execution_count": null,
   "id": "ca6d0d09-950a-46d8-a511-1bf78bee3e92",
   "metadata": {
    "tags": []
   },
   "outputs": [],
   "source": [
    "electrode_index = [ELECTRODE_INDEX[electrode_name] for electrode_name in electrode_list_fbcca]"
   ]
  },
  {
   "cell_type": "code",
   "execution_count": null,
   "id": "5bcfd032-c6d4-4946-ab7a-45bf0dd96589",
   "metadata": {
    "tags": []
   },
   "outputs": [],
   "source": [
    "from learners import CCASingleComponent, CCACorrelation"
   ]
  },
  {
   "cell_type": "code",
   "execution_count": null,
   "id": "d42608d5-1296-43e2-b521-1f789ecf6cd9",
   "metadata": {
    "tags": []
   },
   "outputs": [],
   "source": [
    "trial[:, electrode_index].shape"
   ]
  },
  {
   "cell_type": "code",
   "execution_count": null,
   "id": "b676a9ae-cc04-4672-913d-fd7ec2a4e6ed",
   "metadata": {
    "tags": []
   },
   "outputs": [],
   "source": [
    "m = CCASingleComponent()\n",
    "m.predict_proba(trial[:, electrode_index])"
   ]
  },
  {
   "cell_type": "code",
   "execution_count": null,
   "id": "570e8433-e555-4417-9718-81ece80ee651",
   "metadata": {
    "tags": []
   },
   "outputs": [],
   "source": [
    "m = CCASingleComponent()\n",
    "m.predict(trial[:, electrode_index])"
   ]
  },
  {
   "cell_type": "code",
   "execution_count": null,
   "id": "4ca97792-834a-41cf-80ca-3a2b765bec48",
   "metadata": {
    "tags": []
   },
   "outputs": [],
   "source": [
    "model = CCACorrelation(n_components=2)\n",
    "\n",
    "model.fit(trial[:, electrode_index], get_harmonic_columns(8))"
   ]
  },
  {
   "cell_type": "code",
   "execution_count": null,
   "id": "dc14bacc-fc0f-48bb-abff-2af0b388da76",
   "metadata": {
    "tags": []
   },
   "outputs": [],
   "source": [
    "trial"
   ]
  },
  {
   "cell_type": "code",
   "execution_count": null,
   "id": "5a5b7e50-48df-4746-bd27-d2b15389e50c",
   "metadata": {
    "tags": []
   },
   "outputs": [],
   "source": [
    "model.fit_correlation(trial[:, electrode_index], get_harmonic_columns(8))"
   ]
  },
  {
   "cell_type": "code",
   "execution_count": null,
   "id": "388f26df-d00d-41e3-a691-2756946971af",
   "metadata": {
    "tags": []
   },
   "outputs": [],
   "source": [
    "get_harmonic_columns?"
   ]
  },
  {
   "cell_type": "code",
   "execution_count": null,
   "id": "5fada9d5-c98e-4b7a-b183-34aa157d30ce",
   "metadata": {
    "tags": []
   },
   "outputs": [],
   "source": [
    "model2 = CCACorrelation(n_components=2)\n",
    "model2.fit_correlation(trial[:, electrode_index], get_harmonic_columns(8))"
   ]
  },
  {
   "cell_type": "code",
   "execution_count": null,
   "id": "1a3776b7-dcf8-45dd-b10b-345c0452789c",
   "metadata": {
    "tags": []
   },
   "outputs": [],
   "source": [
    "import statsmodels.multivariate.cancorr"
   ]
  },
  {
   "cell_type": "code",
   "execution_count": null,
   "id": "34333e5d-cc5b-4da6-9ff8-338622fbfe2b",
   "metadata": {
    "tags": []
   },
   "outputs": [],
   "source": [
    "cca_stats = statsmodels.multivariate.cancorr.CanCorr(\n",
    "    endog = get_harmonic_columns(8),\n",
    "    exog = trial[:, electrode_index],\n",
    ")\n",
    "cca_stats.cancorr"
   ]
  },
  {
   "cell_type": "markdown",
   "id": "83b1b702-962c-4952-b0c5-92805085a0d5",
   "metadata": {},
   "source": [
    "## Design experiments\n",
    "\n",
    "We need to benchmark different algorithms.\n",
    "For this, we need to do a workflow of:\n",
    "\n",
    "- For each subject (35)\n",
    "    - For each key (40)\n",
    "        - If the model need training\n",
    "            - For each BLOCK (6)\n",
    "                - Train a model on the other 5 BLOCKS (leave-one-out scheme)\n",
    "                - Predict the label of this trial\n",
    "                - Store prediction in a response object\n",
    "        - If the model doesn't need training\n",
    "            - For each BLOCK (6)\n",
    "                - Predict label of this BLOCK\n",
    "                - Store prediction in a response object\n",
    "\n",
    "*We need to filter the electrodes somewhere. It can be learned for each subject. If learned, it should be done within the leave-one-out scheme.*\n",
    "\n",
    "Output: matrix with dimension (40, 6) for each subject\n",
    "\n",
    "Create a function to calculate:\n",
    "\n",
    "- accuracy\n",
    "- confusion matrix"
   ]
  },
  {
   "cell_type": "code",
   "execution_count": null,
   "id": "55d3451c-d669-47d2-9f7b-57a3f3ceac9d",
   "metadata": {
    "tags": []
   },
   "outputs": [],
   "source": [
    "m1[0, 0, 0, :]"
   ]
  },
  {
   "cell_type": "code",
   "execution_count": null,
   "id": "778e5724-e789-4f18-a69c-6846185cf511",
   "metadata": {
    "tags": []
   },
   "outputs": [],
   "source": [
    "np.identity(6, dtype=bool)[0]"
   ]
  },
  {
   "cell_type": "code",
   "execution_count": null,
   "id": "6efb668e-72c1-4aa2-bcb7-5278b16d3036",
   "metadata": {
    "tags": []
   },
   "outputs": [],
   "source": [
    "masked = (np.identity(6)[0] - 1) * -1"
   ]
  },
  {
   "cell_type": "code",
   "execution_count": null,
   "id": "d33ca027-c997-40f6-ab25-f67dacd5ddc2",
   "metadata": {
    "tags": []
   },
   "outputs": [],
   "source": [
    "masked"
   ]
  },
  {
   "cell_type": "code",
   "execution_count": null,
   "id": "0e6dcbc3-5825-4961-9016-fced7995ebb9",
   "metadata": {
    "tags": []
   },
   "outputs": [],
   "source": [
    "m1[:, :, :, ~np.identity(6, dtype=bool)[5]].shape"
   ]
  },
  {
   "cell_type": "code",
   "execution_count": null,
   "id": "7cd7282d-8dcb-4199-9c5b-28e6be1df979",
   "metadata": {
    "tags": []
   },
   "outputs": [],
   "source": [
    "m1_key = m1[:, :, 0, :]"
   ]
  },
  {
   "cell_type": "code",
   "execution_count": null,
   "id": "ff382eb6-4e8c-4559-90af-c9d89829f63a",
   "metadata": {
    "tags": []
   },
   "outputs": [],
   "source": [
    "m1_key.shape"
   ]
  },
  {
   "cell_type": "code",
   "execution_count": null,
   "id": "16b875bc-c974-4c76-a87e-ce10fb13686f",
   "metadata": {
    "tags": []
   },
   "outputs": [],
   "source": [
    "np.empty([5])"
   ]
  },
  {
   "cell_type": "code",
   "execution_count": null,
   "id": "cb5827e4-25cc-4f67-96ea-dd52907d047b",
   "metadata": {
    "tags": []
   },
   "outputs": [],
   "source": [
    "m1_key.shape == (64, 1500, 6)"
   ]
  },
  {
   "cell_type": "markdown",
   "id": "fea30a3f-443f-4a80-9a48-409724a0d6a2",
   "metadata": {},
   "source": [
    "**Learner**\n",
    "\n",
    "The learner should comprise everything needed to estimate a prediction. It should be a full pipeline.\n",
    "If, for example, it is necessary to apply a filtering technique, such as filterbank, it should be learned and applied by the same object. It is an object that can learn everything necessary.\n",
    "\n",
    "It can be either an object or a curried function. Good moment to learn how to use SKLEARN PIPELINES and custom transformers. Custom transformers are a very cool feature to use.\n",
    "\n",
    "If need to learn with labels, it should be trained with other observations with same target."
   ]
  },
  {
   "cell_type": "code",
   "execution_count": null,
   "id": "7be63f76-f139-4608-88b8-8c41ebe677a5",
   "metadata": {
    "tags": []
   },
   "outputs": [],
   "source": [
    "from pipelines import *"
   ]
  },
  {
   "cell_type": "code",
   "execution_count": null,
   "id": "c2237b94-67a3-4de7-a474-87ba1472a4aa",
   "metadata": {
    "tags": []
   },
   "outputs": [],
   "source": [
    "test_fit_predict"
   ]
  },
  {
   "cell_type": "code",
   "execution_count": null,
   "id": "c1fe391a-6191-491c-a6c1-625e6918b4af",
   "metadata": {
    "tags": []
   },
   "outputs": [],
   "source": [
    "M1 = m1.T"
   ]
  },
  {
   "cell_type": "code",
   "execution_count": null,
   "id": "fa9a405e-dc0f-4c4c-b054-30ab3d0fad98",
   "metadata": {
    "tags": []
   },
   "outputs": [],
   "source": [
    "M1.shape"
   ]
  },
  {
   "cell_type": "code",
   "execution_count": null,
   "id": "d223c587-cfea-402c-bf3c-d9fc8d94d568",
   "metadata": {
    "tags": []
   },
   "outputs": [],
   "source": [
    "M1[0, 0, :, :]"
   ]
  },
  {
   "cell_type": "code",
   "execution_count": null,
   "id": "b8d662a3-2795-4894-a3d2-eaea00167c2f",
   "metadata": {
    "tags": []
   },
   "outputs": [],
   "source": [
    "m = CCASingleComponent()"
   ]
  },
  {
   "cell_type": "code",
   "execution_count": null,
   "id": "b00e32b2-8ad3-4c0b-b77b-7d5e343d52dd",
   "metadata": {
    "tags": []
   },
   "outputs": [],
   "source": [
    "r = test_fit_predict(m, M1)"
   ]
  },
  {
   "cell_type": "code",
   "execution_count": null,
   "id": "213113fa-3c9f-4160-8909-a098567b2e0e",
   "metadata": {
    "tags": []
   },
   "outputs": [],
   "source": [
    "r.shape"
   ]
  },
  {
   "cell_type": "code",
   "execution_count": null,
   "id": "771c6ce6-6e66-45f0-a0fa-9feea8a36ec7",
   "metadata": {
    "tags": []
   },
   "outputs": [],
   "source": [
    "r[:, 0]"
   ]
  },
  {
   "cell_type": "code",
   "execution_count": null,
   "id": "53408a00-621d-4bed-8f5e-5c6752c51a2c",
   "metadata": {
    "tags": []
   },
   "outputs": [],
   "source": [
    "r.T.shape"
   ]
  },
  {
   "cell_type": "code",
   "execution_count": null,
   "id": "59e0305d-59eb-47eb-ace4-e0ec1a8f06ff",
   "metadata": {
    "tags": []
   },
   "outputs": [],
   "source": [
    "r.T[0, 0]"
   ]
  },
  {
   "cell_type": "code",
   "execution_count": null,
   "id": "ea6fb95e-0ded-4a27-a964-752b987b6983",
   "metadata": {
    "tags": []
   },
   "outputs": [],
   "source": [
    "r.T"
   ]
  },
  {
   "cell_type": "code",
   "execution_count": null,
   "id": "79e4feae-71fc-4b50-9e93-ec13fc4abd94",
   "metadata": {
    "tags": []
   },
   "outputs": [],
   "source": [
    "count = 0\n",
    "for l in range(40):\n",
    "    for c in range(6):\n",
    "        if r.T[l, c] == l:\n",
    "            count += 1\n",
    "\n",
    "count, count/(40*6)"
   ]
  },
  {
   "cell_type": "code",
   "execution_count": null,
   "id": "c4d0cca1-b6ff-4ce6-9868-14c706f1a1bc",
   "metadata": {
    "tags": []
   },
   "outputs": [],
   "source": [
    "np.array(TARGET_FREQUENCY).reshape(5, -1)"
   ]
  },
  {
   "cell_type": "code",
   "execution_count": null,
   "id": "37f9d402-3435-42f6-b2a1-6be5262e7197",
   "metadata": {
    "tags": []
   },
   "outputs": [],
   "source": [
    "np.array(range(40)).reshape(5,-1)"
   ]
  },
  {
   "cell_type": "code",
   "execution_count": null,
   "id": "fb5b8578-fb82-4f9e-9b46-8f3b7641759b",
   "metadata": {
    "tags": []
   },
   "outputs": [],
   "source": [
    "np.array(TARGET_PHASE).round(3).reshape(5, -1)"
   ]
  },
  {
   "cell_type": "code",
   "execution_count": null,
   "id": "31fdbdfc-44e1-4497-985d-874b58ec5a18",
   "metadata": {},
   "outputs": [],
   "source": []
  }
 ],
 "metadata": {
  "kernelspec": {
   "display_name": "Python 3 (ipykernel)",
   "language": "python",
   "name": "python3"
  },
  "language_info": {
   "codemirror_mode": {
    "name": "ipython",
    "version": 3
   },
   "file_extension": ".py",
   "mimetype": "text/x-python",
   "name": "python",
   "nbconvert_exporter": "python",
   "pygments_lexer": "ipython3",
   "version": "3.9.16"
  }
 },
 "nbformat": 4,
 "nbformat_minor": 5
}
