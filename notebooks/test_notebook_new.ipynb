{
 "cells": [
  {
   "cell_type": "code",
   "execution_count": 1,
   "id": "74ff819f-20eb-4ff6-976e-80b784bcd92b",
   "metadata": {
    "tags": []
   },
   "outputs": [],
   "source": [
    "%load_ext autoreload\n",
    "%autoreload 2"
   ]
  },
  {
   "cell_type": "code",
   "execution_count": 2,
   "id": "5d6be23b-04dd-450d-9f55-feaacff40b51",
   "metadata": {
    "tags": []
   },
   "outputs": [],
   "source": [
    "import numpy as np\n",
    "import pandas as pd\n",
    "import scipy"
   ]
  },
  {
   "cell_type": "code",
   "execution_count": 3,
   "id": "8601a22a-e74b-4950-b2fe-c441d84eb6d0",
   "metadata": {
    "tags": []
   },
   "outputs": [],
   "source": [
    "from scipy.fft import fft, ifft, fftfreq"
   ]
  },
  {
   "cell_type": "code",
   "execution_count": 4,
   "id": "9c9a9b55-d31a-46c8-81d1-304ff4024426",
   "metadata": {
    "tags": []
   },
   "outputs": [
    {
     "ename": "ImportError",
     "evalue": "cannot import name 'SSVEPAlgorithm' from 'ssvepcca.transformers' (/home/cerqueirajc/Workspace/masters/ssvep-bci-project/src/ssvepcca/transformers.py)",
     "output_type": "error",
     "traceback": [
      "\u001b[0;31m---------------------------------------------------------------------------\u001b[0m",
      "\u001b[0;31mImportError\u001b[0m                               Traceback (most recent call last)",
      "Cell \u001b[0;32mIn[4], line 3\u001b[0m\n\u001b[1;32m      1\u001b[0m \u001b[38;5;28;01mimport\u001b[39;00m \u001b[38;5;21;01mssvepcca\u001b[39;00m\n\u001b[1;32m      2\u001b[0m \u001b[38;5;28;01mfrom\u001b[39;00m \u001b[38;5;21;01mssvepcca\u001b[39;00m\u001b[38;5;21;01m.\u001b[39;00m\u001b[38;5;21;01mutils\u001b[39;00m \u001b[38;5;28;01mimport\u001b[39;00m load_mat_data_array\n\u001b[0;32m----> 3\u001b[0m \u001b[38;5;28;01mfrom\u001b[39;00m \u001b[38;5;21;01mssvepcca\u001b[39;00m\u001b[38;5;21;01m.\u001b[39;00m\u001b[38;5;21;01mpipelines\u001b[39;00m \u001b[38;5;28;01mimport\u001b[39;00m test_fit_predict, k_fold_predict\n\u001b[1;32m      4\u001b[0m ssvepcca\u001b[38;5;241m.\u001b[39mruntime_configuration\u001b[38;5;241m.\u001b[39mload_from_name(\u001b[38;5;124m\"\u001b[39m\u001b[38;5;124mtsinghua-bci-lab\u001b[39m\u001b[38;5;124m\"\u001b[39m)\n",
      "File \u001b[0;32m~/Workspace/masters/ssvep-bci-project/src/ssvepcca/pipelines.py:8\u001b[0m\n\u001b[1;32m      6\u001b[0m \u001b[38;5;28;01mfrom\u001b[39;00m \u001b[38;5;21;01m.\u001b[39;00m \u001b[38;5;28;01mimport\u001b[39;00m runtime_configuration \u001b[38;5;28;01mas\u001b[39;00m rc\n\u001b[1;32m      7\u001b[0m \u001b[38;5;28;01mfrom\u001b[39;00m \u001b[38;5;21;01m.\u001b[39;00m\u001b[38;5;21;01mutils\u001b[39;00m \u001b[38;5;28;01mimport\u001b[39;00m check_input_data, eval_accuracy, load_mat_data_array\n\u001b[0;32m----> 8\u001b[0m \u001b[38;5;28;01mfrom\u001b[39;00m \u001b[38;5;21;01m.\u001b[39;00m\u001b[38;5;21;01mtransformers\u001b[39;00m \u001b[38;5;28;01mimport\u001b[39;00m SSVEPAlgorithm, EEGType\n\u001b[1;32m     11\u001b[0m \u001b[38;5;129m@fp\u001b[39m\u001b[38;5;241m.\u001b[39mcurry\n\u001b[1;32m     12\u001b[0m \u001b[38;5;28;01mdef\u001b[39;00m \u001b[38;5;21mk_fold_predict\u001b[39m(data: np\u001b[38;5;241m.\u001b[39mndarray, learner: SSVEPAlgorithm):\n\u001b[1;32m     13\u001b[0m \u001b[38;5;250m    \u001b[39m\u001b[38;5;124;03m\"\"\"\u001b[39;00m\n\u001b[1;32m     14\u001b[0m \u001b[38;5;124;03m    leave_one_out_predict\u001b[39;00m\n\u001b[1;32m     15\u001b[0m \u001b[38;5;124;03m    ------------\u001b[39;00m\n\u001b[0;32m   (...)\u001b[0m\n\u001b[1;32m     18\u001b[0m \u001b[38;5;124;03m    as the number of folds (k=NUM_BLOCKS).\u001b[39;00m\n\u001b[1;32m     19\u001b[0m \u001b[38;5;124;03m    \"\"\"\u001b[39;00m\n",
      "\u001b[0;31mImportError\u001b[0m: cannot import name 'SSVEPAlgorithm' from 'ssvepcca.transformers' (/home/cerqueirajc/Workspace/masters/ssvep-bci-project/src/ssvepcca/transformers.py)"
     ]
    }
   ],
   "source": [
    "import ssvepcca\n",
    "from ssvepcca.utils import load_mat_data_array\n",
    "from ssvepcca.pipelines import test_fit_predict, k_fold_predict\n",
    "ssvepcca.runtime_configuration.load_from_name(\"tsinghua-bci-lab\")"
   ]
  },
  {
   "cell_type": "code",
   "execution_count": null,
   "id": "80ff3900-a689-41dd-843b-f18ebf9f75aa",
   "metadata": {
    "tags": []
   },
   "outputs": [],
   "source": [
    "from ssvepcca.transformers import (StandardCCA, StandardCCAFilter, FilterbankCCA,\n",
    "    FilterbankCCAFilter, SpatioTemporalCCA)"
   ]
  },
  {
   "cell_type": "code",
   "execution_count": null,
   "id": "a077c784-a520-4ee2-8a3c-3e0a2a5277fc",
   "metadata": {
    "tags": []
   },
   "outputs": [],
   "source": [
    "electrode_list_fbcca = ssvepcca.parameters.electrode_list_fbcca"
   ]
  },
  {
   "cell_type": "code",
   "execution_count": null,
   "id": "6b52669a-6998-4de7-aa30-c41b213bd780",
   "metadata": {
    "tags": []
   },
   "outputs": [],
   "source": [
    "import time"
   ]
  },
  {
   "cell_type": "markdown",
   "id": "50a76f3c-d364-4ebc-8dd6-4a5435052c87",
   "metadata": {},
   "source": [
    "## Configs"
   ]
  },
  {
   "cell_type": "code",
   "execution_count": 7,
   "id": "7bf25130-b0c4-47d9-9f57-0ff5e178e1ad",
   "metadata": {
    "tags": []
   },
   "outputs": [],
   "source": [
    "start_time_index = 125\n",
    "stop_time_index = 875"
   ]
  },
  {
   "cell_type": "code",
   "execution_count": 6,
   "id": "336f7548-338b-4fbe-8832-ba809e2462ad",
   "metadata": {
    "tags": []
   },
   "outputs": [],
   "source": [
    "input_data = load_mat_data_array(\"/media/cerqueirajc/windows_heavy_data/Ubuntu/masters/dataset/tsinghua_bci_lab/S2.mat\")"
   ]
  },
  {
   "cell_type": "code",
   "execution_count": null,
   "id": "7bc29ceb-983a-406f-aa09-8e7733282599",
   "metadata": {},
   "outputs": [],
   "source": []
  },
  {
   "cell_type": "code",
   "execution_count": 9,
   "id": "0d1452b0-36cc-4adc-8f62-1035ffd21cb7",
   "metadata": {
    "tags": []
   },
   "outputs": [
    {
     "data": {
      "text/plain": [
       "(6, 40, 1500, 64)"
      ]
     },
     "execution_count": 9,
     "metadata": {},
     "output_type": "execute_result"
    }
   ],
   "source": [
    "input_data.shape"
   ]
  },
  {
   "cell_type": "markdown",
   "id": "e0df79a6-e4cd-43d4-b5a3-aa58c6594d1f",
   "metadata": {
    "execution": {
     "iopub.execute_input": "2023-07-30T21:34:40.148748Z",
     "iopub.status.busy": "2023-07-30T21:34:40.147867Z",
     "iopub.status.idle": "2023-07-30T21:34:40.188579Z",
     "shell.execute_reply": "2023-07-30T21:34:40.187686Z",
     "shell.execute_reply.started": "2023-07-30T21:34:40.148704Z"
    },
    "tags": []
   },
   "source": [
    "## Tests"
   ]
  },
  {
   "cell_type": "code",
   "execution_count": 11,
   "id": "52b1ada8-5efe-431c-8382-4061f4318335",
   "metadata": {
    "scrolled": true,
    "tags": []
   },
   "outputs": [
    {
     "name": "stdout",
     "output_type": "stream",
     "text": [
      "[block 0] | Started\n",
      "[block 0] | Fit-predict for target 0\n",
      "[block 0] | Fit-predict for target 1\n",
      "[block 0] | Fit-predict for target 2\n",
      "[block 0] | Fit-predict for target 3\n",
      "[block 0] | Fit-predict for target 4\n",
      "[block 0] | Fit-predict for target 5\n",
      "[block 0] | Fit-predict for target 6\n",
      "[block 0] | Fit-predict for target 7\n",
      "[block 0] | Fit-predict for target 8\n",
      "[block 0] | Fit-predict for target 9\n",
      "[block 0] | Fit-predict for target 10\n",
      "[block 0] | Fit-predict for target 11\n",
      "[block 0] | Fit-predict for target 12\n",
      "[block 0] | Fit-predict for target 13\n",
      "[block 0] | Fit-predict for target 14\n",
      "[block 0] | Fit-predict for target 15\n",
      "[block 0] | Fit-predict for target 16\n",
      "[block 0] | Fit-predict for target 17\n",
      "[block 0] | Fit-predict for target 18\n",
      "[block 0] | Fit-predict for target 19\n",
      "[block 0] | Fit-predict for target 20\n",
      "[block 0] | Fit-predict for target 21\n",
      "[block 0] | Fit-predict for target 22\n",
      "[block 0] | Fit-predict for target 23\n",
      "[block 0] | Fit-predict for target 24\n",
      "[block 0] | Fit-predict for target 25\n",
      "[block 0] | Fit-predict for target 26\n",
      "[block 0] | Fit-predict for target 27\n",
      "[block 0] | Fit-predict for target 28\n",
      "[block 0] | Fit-predict for target 29\n",
      "[block 0] | Fit-predict for target 30\n",
      "[block 0] | Fit-predict for target 31\n",
      "[block 0] | Fit-predict for target 32\n",
      "[block 0] | Fit-predict for target 33\n",
      "[block 0] | Fit-predict for target 34\n",
      "[block 0] | Fit-predict for target 35\n",
      "[block 0] | Fit-predict for target 36\n",
      "[block 0] | Fit-predict for target 37\n",
      "[block 0] | Fit-predict for target 38\n",
      "[block 0] | Fit-predict for target 39\n",
      "[block 1] | Started\n",
      "[block 1] | Fit-predict for target 0\n",
      "[block 1] | Fit-predict for target 1\n",
      "[block 1] | Fit-predict for target 2\n",
      "[block 1] | Fit-predict for target 3\n",
      "[block 1] | Fit-predict for target 4\n",
      "[block 1] | Fit-predict for target 5\n",
      "[block 1] | Fit-predict for target 6\n",
      "[block 1] | Fit-predict for target 7\n",
      "[block 1] | Fit-predict for target 8\n",
      "[block 1] | Fit-predict for target 9\n",
      "[block 1] | Fit-predict for target 10\n",
      "[block 1] | Fit-predict for target 11\n",
      "[block 1] | Fit-predict for target 12\n",
      "[block 1] | Fit-predict for target 13\n",
      "[block 1] | Fit-predict for target 14\n",
      "[block 1] | Fit-predict for target 15\n",
      "[block 1] | Fit-predict for target 16\n",
      "[block 1] | Fit-predict for target 17\n",
      "[block 1] | Fit-predict for target 18\n",
      "[block 1] | Fit-predict for target 19\n",
      "[block 1] | Fit-predict for target 20\n",
      "[block 1] | Fit-predict for target 21\n",
      "[block 1] | Fit-predict for target 22\n",
      "[block 1] | Fit-predict for target 23\n",
      "[block 1] | Fit-predict for target 24\n",
      "[block 1] | Fit-predict for target 25\n",
      "[block 1] | Fit-predict for target 26\n",
      "[block 1] | Fit-predict for target 27\n",
      "[block 1] | Fit-predict for target 28\n",
      "[block 1] | Fit-predict for target 29\n",
      "[block 1] | Fit-predict for target 30\n",
      "[block 1] | Fit-predict for target 31\n",
      "[block 1] | Fit-predict for target 32\n",
      "[block 1] | Fit-predict for target 33\n",
      "[block 1] | Fit-predict for target 34\n",
      "[block 1] | Fit-predict for target 35\n",
      "[block 1] | Fit-predict for target 36\n",
      "[block 1] | Fit-predict for target 37\n",
      "[block 1] | Fit-predict for target 38\n",
      "[block 1] | Fit-predict for target 39\n",
      "[block 2] | Started\n",
      "[block 2] | Fit-predict for target 0\n",
      "[block 2] | Fit-predict for target 1\n",
      "[block 2] | Fit-predict for target 2\n",
      "[block 2] | Fit-predict for target 3\n",
      "[block 2] | Fit-predict for target 4\n",
      "[block 2] | Fit-predict for target 5\n",
      "[block 2] | Fit-predict for target 6\n",
      "[block 2] | Fit-predict for target 7\n",
      "[block 2] | Fit-predict for target 8\n",
      "[block 2] | Fit-predict for target 9\n",
      "[block 2] | Fit-predict for target 10\n",
      "[block 2] | Fit-predict for target 11\n",
      "[block 2] | Fit-predict for target 12\n",
      "[block 2] | Fit-predict for target 13\n",
      "[block 2] | Fit-predict for target 14\n",
      "[block 2] | Fit-predict for target 15\n",
      "[block 2] | Fit-predict for target 16\n",
      "[block 2] | Fit-predict for target 17\n",
      "[block 2] | Fit-predict for target 18\n",
      "[block 2] | Fit-predict for target 19\n",
      "[block 2] | Fit-predict for target 20\n",
      "[block 2] | Fit-predict for target 21\n",
      "[block 2] | Fit-predict for target 22\n",
      "[block 2] | Fit-predict for target 23\n",
      "[block 2] | Fit-predict for target 24\n",
      "[block 2] | Fit-predict for target 25\n",
      "[block 2] | Fit-predict for target 26\n",
      "[block 2] | Fit-predict for target 27\n",
      "[block 2] | Fit-predict for target 28\n",
      "[block 2] | Fit-predict for target 29\n",
      "[block 2] | Fit-predict for target 30\n",
      "[block 2] | Fit-predict for target 31\n",
      "[block 2] | Fit-predict for target 32\n",
      "[block 2] | Fit-predict for target 33\n",
      "[block 2] | Fit-predict for target 34\n",
      "[block 2] | Fit-predict for target 35\n",
      "[block 2] | Fit-predict for target 36\n",
      "[block 2] | Fit-predict for target 37\n",
      "[block 2] | Fit-predict for target 38\n",
      "[block 2] | Fit-predict for target 39\n",
      "[block 3] | Started\n",
      "[block 3] | Fit-predict for target 0\n",
      "[block 3] | Fit-predict for target 1\n",
      "[block 3] | Fit-predict for target 2\n",
      "[block 3] | Fit-predict for target 3\n",
      "[block 3] | Fit-predict for target 4\n",
      "[block 3] | Fit-predict for target 5\n",
      "[block 3] | Fit-predict for target 6\n",
      "[block 3] | Fit-predict for target 7\n",
      "[block 3] | Fit-predict for target 8\n",
      "[block 3] | Fit-predict for target 9\n",
      "[block 3] | Fit-predict for target 10\n",
      "[block 3] | Fit-predict for target 11\n",
      "[block 3] | Fit-predict for target 12\n",
      "[block 3] | Fit-predict for target 13\n",
      "[block 3] | Fit-predict for target 14\n",
      "[block 3] | Fit-predict for target 15\n",
      "[block 3] | Fit-predict for target 16\n",
      "[block 3] | Fit-predict for target 17\n",
      "[block 3] | Fit-predict for target 18\n",
      "[block 3] | Fit-predict for target 19\n",
      "[block 3] | Fit-predict for target 20\n",
      "[block 3] | Fit-predict for target 21\n",
      "[block 3] | Fit-predict for target 22\n",
      "[block 3] | Fit-predict for target 23\n",
      "[block 3] | Fit-predict for target 24\n",
      "[block 3] | Fit-predict for target 25\n",
      "[block 3] | Fit-predict for target 26\n",
      "[block 3] | Fit-predict for target 27\n",
      "[block 3] | Fit-predict for target 28\n",
      "[block 3] | Fit-predict for target 29\n",
      "[block 3] | Fit-predict for target 30\n",
      "[block 3] | Fit-predict for target 31\n",
      "[block 3] | Fit-predict for target 32\n",
      "[block 3] | Fit-predict for target 33\n",
      "[block 3] | Fit-predict for target 34\n",
      "[block 3] | Fit-predict for target 35\n",
      "[block 3] | Fit-predict for target 36\n",
      "[block 3] | Fit-predict for target 37\n",
      "[block 3] | Fit-predict for target 38\n",
      "[block 3] | Fit-predict for target 39\n",
      "[block 4] | Started\n",
      "[block 4] | Fit-predict for target 0\n",
      "[block 4] | Fit-predict for target 1\n",
      "[block 4] | Fit-predict for target 2\n",
      "[block 4] | Fit-predict for target 3\n",
      "[block 4] | Fit-predict for target 4\n",
      "[block 4] | Fit-predict for target 5\n",
      "[block 4] | Fit-predict for target 6\n",
      "[block 4] | Fit-predict for target 7\n",
      "[block 4] | Fit-predict for target 8\n",
      "[block 4] | Fit-predict for target 9\n",
      "[block 4] | Fit-predict for target 10\n",
      "[block 4] | Fit-predict for target 11\n",
      "[block 4] | Fit-predict for target 12\n",
      "[block 4] | Fit-predict for target 13\n",
      "[block 4] | Fit-predict for target 14\n",
      "[block 4] | Fit-predict for target 15\n",
      "[block 4] | Fit-predict for target 16\n",
      "[block 4] | Fit-predict for target 17\n",
      "[block 4] | Fit-predict for target 18\n",
      "[block 4] | Fit-predict for target 19\n",
      "[block 4] | Fit-predict for target 20\n",
      "[block 4] | Fit-predict for target 21\n",
      "[block 4] | Fit-predict for target 22\n",
      "[block 4] | Fit-predict for target 23\n",
      "[block 4] | Fit-predict for target 24\n",
      "[block 4] | Fit-predict for target 25\n",
      "[block 4] | Fit-predict for target 26\n",
      "[block 4] | Fit-predict for target 27\n",
      "[block 4] | Fit-predict for target 28\n",
      "[block 4] | Fit-predict for target 29\n",
      "[block 4] | Fit-predict for target 30\n",
      "[block 4] | Fit-predict for target 31\n",
      "[block 4] | Fit-predict for target 32\n",
      "[block 4] | Fit-predict for target 33\n",
      "[block 4] | Fit-predict for target 34\n",
      "[block 4] | Fit-predict for target 35\n",
      "[block 4] | Fit-predict for target 36\n",
      "[block 4] | Fit-predict for target 37\n",
      "[block 4] | Fit-predict for target 38\n",
      "[block 4] | Fit-predict for target 39\n",
      "[block 5] | Started\n",
      "[block 5] | Fit-predict for target 0\n",
      "[block 5] | Fit-predict for target 1\n",
      "[block 5] | Fit-predict for target 2\n",
      "[block 5] | Fit-predict for target 3\n",
      "[block 5] | Fit-predict for target 4\n",
      "[block 5] | Fit-predict for target 5\n",
      "[block 5] | Fit-predict for target 6\n",
      "[block 5] | Fit-predict for target 7\n",
      "[block 5] | Fit-predict for target 8\n",
      "[block 5] | Fit-predict for target 9\n",
      "[block 5] | Fit-predict for target 10\n",
      "[block 5] | Fit-predict for target 11\n",
      "[block 5] | Fit-predict for target 12\n",
      "[block 5] | Fit-predict for target 13\n",
      "[block 5] | Fit-predict for target 14\n",
      "[block 5] | Fit-predict for target 15\n",
      "[block 5] | Fit-predict for target 16\n",
      "[block 5] | Fit-predict for target 17\n",
      "[block 5] | Fit-predict for target 18\n",
      "[block 5] | Fit-predict for target 19\n",
      "[block 5] | Fit-predict for target 20\n",
      "[block 5] | Fit-predict for target 21\n",
      "[block 5] | Fit-predict for target 22\n",
      "[block 5] | Fit-predict for target 23\n",
      "[block 5] | Fit-predict for target 24\n",
      "[block 5] | Fit-predict for target 25\n",
      "[block 5] | Fit-predict for target 26\n",
      "[block 5] | Fit-predict for target 27\n",
      "[block 5] | Fit-predict for target 28\n",
      "[block 5] | Fit-predict for target 29\n",
      "[block 5] | Fit-predict for target 30\n",
      "[block 5] | Fit-predict for target 31\n",
      "[block 5] | Fit-predict for target 32\n",
      "[block 5] | Fit-predict for target 33\n",
      "[block 5] | Fit-predict for target 34\n",
      "[block 5] | Fit-predict for target 35\n",
      "[block 5] | Fit-predict for target 36\n",
      "[block 5] | Fit-predict for target 37\n",
      "[block 5] | Fit-predict for target 38\n",
      "[block 5] | Fit-predict for target 39\n"
     ]
    }
   ],
   "source": [
    "result_cca_single_component = test_fit_predict(\n",
    "    input_data, \n",
    "    StandardCCA(\n",
    "        electrodes_name=electrode_list_fbcca,\n",
    "        start_time_idx=start_time_index,\n",
    "        stop_time_idx=stop_time_index,\n",
    "    )\n",
    ")"
   ]
  },
  {
   "cell_type": "code",
   "execution_count": 13,
   "id": "0510af6b-9e20-4efe-9b19-bdab16e531be",
   "metadata": {
    "tags": []
   },
   "outputs": [
    {
     "data": {
      "text/plain": [
       "[225, 0.9375]"
      ]
     },
     "execution_count": 13,
     "metadata": {},
     "output_type": "execute_result"
    }
   ],
   "source": [
    "result_cca_single_component[2]"
   ]
  },
  {
   "cell_type": "code",
   "execution_count": 14,
   "id": "599d4792-5a3c-4244-94b3-f61b69703196",
   "metadata": {
    "tags": []
   },
   "outputs": [],
   "source": [
    "assert result_cca_single_component[2][0] == 225"
   ]
  },
  {
   "cell_type": "code",
   "execution_count": 29,
   "id": "23f3e1bc-a64a-49c0-b1cf-8ce89989544c",
   "metadata": {},
   "outputs": [],
   "source": [
    "result_cca_fixed_coefficients = k_fold_predict(\n",
    "    input_data, \n",
    "    StandardCCAFilter(\n",
    "        electrodes_name=electrode_list_fbcca,\n",
    "        start_time_idx=start_time_index,\n",
    "        stop_time_idx=stop_time_index,\n",
    "    )\n",
    ")"
   ]
  },
  {
   "cell_type": "code",
   "execution_count": 30,
   "id": "e6bd0146-848a-4c44-9c9a-292390945b82",
   "metadata": {
    "tags": []
   },
   "outputs": [
    {
     "data": {
      "text/plain": [
       "[236, 0.9833333333333333]"
      ]
     },
     "execution_count": 30,
     "metadata": {},
     "output_type": "execute_result"
    }
   ],
   "source": [
    "result_cca_fixed_coefficients[2]"
   ]
  },
  {
   "cell_type": "code",
   "execution_count": 31,
   "id": "c34f38d3-9c68-4b1a-b1ef-fe66cb824c5a",
   "metadata": {
    "tags": []
   },
   "outputs": [],
   "source": [
    "assert result_cca_fixed_coefficients[2][0] == 236"
   ]
  },
  {
   "cell_type": "code",
   "execution_count": null,
   "id": "7692e224-d429-4ef9-8314-29a70d2bb25e",
   "metadata": {
    "tags": []
   },
   "outputs": [],
   "source": [
    "# result_cca_fusion = test_fit_predict(\n",
    "#     input_data, \n",
    "#     CCAMultiComponent(\n",
    "#         electrodes_name=electrode_list_fbcca,\n",
    "#         start_time_index=start_time_index,\n",
    "#         stop_time_index=stop_time_index,\n",
    "#         num_components=3\n",
    "#     )\n",
    "# )"
   ]
  },
  {
   "cell_type": "code",
   "execution_count": null,
   "id": "19631e71-0364-4376-8392-6ff50123db2d",
   "metadata": {
    "tags": []
   },
   "outputs": [],
   "source": [
    "# result_cca_fusion[2]"
   ]
  },
  {
   "cell_type": "code",
   "execution_count": null,
   "id": "bf22808b-7e0a-4383-8cef-8ef548038b60",
   "metadata": {
    "tags": []
   },
   "outputs": [],
   "source": [
    "# assert result_cca_fusion[2][0] == 221"
   ]
  },
  {
   "cell_type": "code",
   "execution_count": 15,
   "id": "45352822-459c-4d84-b701-f04a2d33268a",
   "metadata": {
    "scrolled": true,
    "tags": []
   },
   "outputs": [
    {
     "name": "stdout",
     "output_type": "stream",
     "text": [
      "[block 0] | Started\n",
      "[block 0] | Fit-predict for target 0\n",
      "[block 0] | Fit-predict for target 1\n",
      "[block 0] | Fit-predict for target 2\n",
      "[block 0] | Fit-predict for target 3\n",
      "[block 0] | Fit-predict for target 4\n",
      "[block 0] | Fit-predict for target 5\n",
      "[block 0] | Fit-predict for target 6\n",
      "[block 0] | Fit-predict for target 7\n",
      "[block 0] | Fit-predict for target 8\n",
      "[block 0] | Fit-predict for target 9\n",
      "[block 0] | Fit-predict for target 10\n",
      "[block 0] | Fit-predict for target 11\n",
      "[block 0] | Fit-predict for target 12\n",
      "[block 0] | Fit-predict for target 13\n",
      "[block 0] | Fit-predict for target 14\n",
      "[block 0] | Fit-predict for target 15\n",
      "[block 0] | Fit-predict for target 16\n",
      "[block 0] | Fit-predict for target 17\n",
      "[block 0] | Fit-predict for target 18\n",
      "[block 0] | Fit-predict for target 19\n",
      "[block 0] | Fit-predict for target 20\n",
      "[block 0] | Fit-predict for target 21\n",
      "[block 0] | Fit-predict for target 22\n",
      "[block 0] | Fit-predict for target 23\n",
      "[block 0] | Fit-predict for target 24\n",
      "[block 0] | Fit-predict for target 25\n",
      "[block 0] | Fit-predict for target 26\n",
      "[block 0] | Fit-predict for target 27\n",
      "[block 0] | Fit-predict for target 28\n",
      "[block 0] | Fit-predict for target 29\n",
      "[block 0] | Fit-predict for target 30\n",
      "[block 0] | Fit-predict for target 31\n",
      "[block 0] | Fit-predict for target 32\n",
      "[block 0] | Fit-predict for target 33\n",
      "[block 0] | Fit-predict for target 34\n",
      "[block 0] | Fit-predict for target 35\n",
      "[block 0] | Fit-predict for target 36\n",
      "[block 0] | Fit-predict for target 37\n",
      "[block 0] | Fit-predict for target 38\n",
      "[block 0] | Fit-predict for target 39\n",
      "[block 1] | Started\n",
      "[block 1] | Fit-predict for target 0\n",
      "[block 1] | Fit-predict for target 1\n",
      "[block 1] | Fit-predict for target 2\n",
      "[block 1] | Fit-predict for target 3\n",
      "[block 1] | Fit-predict for target 4\n",
      "[block 1] | Fit-predict for target 5\n",
      "[block 1] | Fit-predict for target 6\n",
      "[block 1] | Fit-predict for target 7\n",
      "[block 1] | Fit-predict for target 8\n",
      "[block 1] | Fit-predict for target 9\n",
      "[block 1] | Fit-predict for target 10\n",
      "[block 1] | Fit-predict for target 11\n",
      "[block 1] | Fit-predict for target 12\n",
      "[block 1] | Fit-predict for target 13\n",
      "[block 1] | Fit-predict for target 14\n",
      "[block 1] | Fit-predict for target 15\n",
      "[block 1] | Fit-predict for target 16\n",
      "[block 1] | Fit-predict for target 17\n",
      "[block 1] | Fit-predict for target 18\n",
      "[block 1] | Fit-predict for target 19\n",
      "[block 1] | Fit-predict for target 20\n",
      "[block 1] | Fit-predict for target 21\n",
      "[block 1] | Fit-predict for target 22\n",
      "[block 1] | Fit-predict for target 23\n",
      "[block 1] | Fit-predict for target 24\n",
      "[block 1] | Fit-predict for target 25\n",
      "[block 1] | Fit-predict for target 26\n",
      "[block 1] | Fit-predict for target 27\n",
      "[block 1] | Fit-predict for target 28\n",
      "[block 1] | Fit-predict for target 29\n",
      "[block 1] | Fit-predict for target 30\n",
      "[block 1] | Fit-predict for target 31\n",
      "[block 1] | Fit-predict for target 32\n",
      "[block 1] | Fit-predict for target 33\n",
      "[block 1] | Fit-predict for target 34\n",
      "[block 1] | Fit-predict for target 35\n",
      "[block 1] | Fit-predict for target 36\n",
      "[block 1] | Fit-predict for target 37\n",
      "[block 1] | Fit-predict for target 38\n",
      "[block 1] | Fit-predict for target 39\n",
      "[block 2] | Started\n",
      "[block 2] | Fit-predict for target 0\n",
      "[block 2] | Fit-predict for target 1\n",
      "[block 2] | Fit-predict for target 2\n",
      "[block 2] | Fit-predict for target 3\n",
      "[block 2] | Fit-predict for target 4\n",
      "[block 2] | Fit-predict for target 5\n",
      "[block 2] | Fit-predict for target 6\n",
      "[block 2] | Fit-predict for target 7\n",
      "[block 2] | Fit-predict for target 8\n",
      "[block 2] | Fit-predict for target 9\n",
      "[block 2] | Fit-predict for target 10\n",
      "[block 2] | Fit-predict for target 11\n",
      "[block 2] | Fit-predict for target 12\n",
      "[block 2] | Fit-predict for target 13\n",
      "[block 2] | Fit-predict for target 14\n",
      "[block 2] | Fit-predict for target 15\n",
      "[block 2] | Fit-predict for target 16\n",
      "[block 2] | Fit-predict for target 17\n",
      "[block 2] | Fit-predict for target 18\n",
      "[block 2] | Fit-predict for target 19\n",
      "[block 2] | Fit-predict for target 20\n",
      "[block 2] | Fit-predict for target 21\n",
      "[block 2] | Fit-predict for target 22\n",
      "[block 2] | Fit-predict for target 23\n",
      "[block 2] | Fit-predict for target 24\n",
      "[block 2] | Fit-predict for target 25\n",
      "[block 2] | Fit-predict for target 26\n",
      "[block 2] | Fit-predict for target 27\n",
      "[block 2] | Fit-predict for target 28\n",
      "[block 2] | Fit-predict for target 29\n",
      "[block 2] | Fit-predict for target 30\n",
      "[block 2] | Fit-predict for target 31\n",
      "[block 2] | Fit-predict for target 32\n",
      "[block 2] | Fit-predict for target 33\n",
      "[block 2] | Fit-predict for target 34\n",
      "[block 2] | Fit-predict for target 35\n",
      "[block 2] | Fit-predict for target 36\n",
      "[block 2] | Fit-predict for target 37\n",
      "[block 2] | Fit-predict for target 38\n",
      "[block 2] | Fit-predict for target 39\n",
      "[block 3] | Started\n",
      "[block 3] | Fit-predict for target 0\n",
      "[block 3] | Fit-predict for target 1\n",
      "[block 3] | Fit-predict for target 2\n",
      "[block 3] | Fit-predict for target 3\n",
      "[block 3] | Fit-predict for target 4\n",
      "[block 3] | Fit-predict for target 5\n",
      "[block 3] | Fit-predict for target 6\n",
      "[block 3] | Fit-predict for target 7\n",
      "[block 3] | Fit-predict for target 8\n",
      "[block 3] | Fit-predict for target 9\n",
      "[block 3] | Fit-predict for target 10\n",
      "[block 3] | Fit-predict for target 11\n"
     ]
    },
    {
     "ename": "KeyboardInterrupt",
     "evalue": "",
     "output_type": "error",
     "traceback": [
      "\u001b[0;31m---------------------------------------------------------------------------\u001b[0m",
      "\u001b[0;31mKeyboardInterrupt\u001b[0m                         Traceback (most recent call last)",
      "Cell \u001b[0;32mIn[15], line 2\u001b[0m\n\u001b[1;32m      1\u001b[0m t1 \u001b[38;5;241m=\u001b[39m time\u001b[38;5;241m.\u001b[39mperf_counter()\n\u001b[0;32m----> 2\u001b[0m result_cca_filter_bank \u001b[38;5;241m=\u001b[39m \u001b[43mtest_fit_predict\u001b[49m\u001b[43m(\u001b[49m\n\u001b[1;32m      3\u001b[0m \u001b[43m    \u001b[49m\u001b[43minput_data\u001b[49m\u001b[43m,\u001b[49m\u001b[43m \u001b[49m\n\u001b[1;32m      4\u001b[0m \u001b[43m    \u001b[49m\u001b[43mFilterbankCCA\u001b[49m\u001b[43m(\u001b[49m\n\u001b[1;32m      5\u001b[0m \u001b[43m        \u001b[49m\u001b[43melectrodes_name\u001b[49m\u001b[38;5;241;43m=\u001b[39;49m\u001b[43melectrode_list_fbcca\u001b[49m\u001b[43m,\u001b[49m\n\u001b[1;32m      6\u001b[0m \u001b[43m        \u001b[49m\u001b[43mstart_time_idx\u001b[49m\u001b[38;5;241;43m=\u001b[39;49m\u001b[43mstart_time_index\u001b[49m\u001b[43m,\u001b[49m\n\u001b[1;32m      7\u001b[0m \u001b[43m        \u001b[49m\u001b[43mstop_time_idx\u001b[49m\u001b[38;5;241;43m=\u001b[39;49m\u001b[43mstop_time_index\u001b[49m\u001b[43m,\u001b[49m\n\u001b[1;32m      8\u001b[0m \u001b[43m        \u001b[49m\u001b[43mnum_harmonics\u001b[49m\u001b[38;5;241;43m=\u001b[39;49m\u001b[38;5;241;43m5\u001b[39;49m\u001b[43m,\u001b[49m\n\u001b[1;32m      9\u001b[0m \u001b[43m        \u001b[49m\u001b[43mfb_num_subband\u001b[49m\u001b[38;5;241;43m=\u001b[39;49m\u001b[38;5;241;43m10\u001b[39;49m\u001b[43m,\u001b[49m\n\u001b[1;32m     10\u001b[0m \u001b[43m        \u001b[49m\u001b[43mfb_fundamental_freq\u001b[49m\u001b[38;5;241;43m=\u001b[39;49m\u001b[38;5;241;43m8\u001b[39;49m\u001b[43m,\u001b[49m\n\u001b[1;32m     11\u001b[0m \u001b[43m        \u001b[49m\u001b[43mfb_upper_bound_freq\u001b[49m\u001b[38;5;241;43m=\u001b[39;49m\u001b[38;5;241;43m88\u001b[39;49m\u001b[43m,\u001b[49m\n\u001b[1;32m     12\u001b[0m \u001b[43m    \u001b[49m\u001b[43m)\u001b[49m\n\u001b[1;32m     13\u001b[0m \u001b[43m)\u001b[49m\n\u001b[1;32m     14\u001b[0m t2 \u001b[38;5;241m=\u001b[39m time\u001b[38;5;241m.\u001b[39mperf_counter()\n",
      "File \u001b[0;32m~/miniforge3/envs/conda-master/lib/python3.10/site-packages/toolz/functoolz.py:304\u001b[0m, in \u001b[0;36mcurry.__call__\u001b[0;34m(self, *args, **kwargs)\u001b[0m\n\u001b[1;32m    302\u001b[0m \u001b[38;5;28;01mdef\u001b[39;00m \u001b[38;5;21m__call__\u001b[39m(\u001b[38;5;28mself\u001b[39m, \u001b[38;5;241m*\u001b[39margs, \u001b[38;5;241m*\u001b[39m\u001b[38;5;241m*\u001b[39mkwargs):\n\u001b[1;32m    303\u001b[0m     \u001b[38;5;28;01mtry\u001b[39;00m:\n\u001b[0;32m--> 304\u001b[0m         \u001b[38;5;28;01mreturn\u001b[39;00m \u001b[38;5;28;43mself\u001b[39;49m\u001b[38;5;241;43m.\u001b[39;49m\u001b[43m_partial\u001b[49m\u001b[43m(\u001b[49m\u001b[38;5;241;43m*\u001b[39;49m\u001b[43margs\u001b[49m\u001b[43m,\u001b[49m\u001b[43m \u001b[49m\u001b[38;5;241;43m*\u001b[39;49m\u001b[38;5;241;43m*\u001b[39;49m\u001b[43mkwargs\u001b[49m\u001b[43m)\u001b[49m\n\u001b[1;32m    305\u001b[0m     \u001b[38;5;28;01mexcept\u001b[39;00m \u001b[38;5;167;01mTypeError\u001b[39;00m \u001b[38;5;28;01mas\u001b[39;00m exc:\n\u001b[1;32m    306\u001b[0m         \u001b[38;5;28;01mif\u001b[39;00m \u001b[38;5;28mself\u001b[39m\u001b[38;5;241m.\u001b[39m_should_curry(args, kwargs, exc):\n",
      "File \u001b[0;32m~/Documents/master/ssvep-bci-project/src/ssvepcca/pipelines.py:67\u001b[0m, in \u001b[0;36mtest_fit_predict\u001b[0;34m(data, learner)\u001b[0m\n\u001b[1;32m     64\u001b[0m \u001b[38;5;28mprint\u001b[39m(\u001b[38;5;124mf\u001b[39m\u001b[38;5;124m\"\u001b[39m\u001b[38;5;124m[block \u001b[39m\u001b[38;5;132;01m{\u001b[39;00mblock\u001b[38;5;132;01m}\u001b[39;00m\u001b[38;5;124m] | Fit-predict for target \u001b[39m\u001b[38;5;132;01m{\u001b[39;00mtarget\u001b[38;5;132;01m}\u001b[39;00m\u001b[38;5;124m\"\u001b[39m)\n\u001b[1;32m     66\u001b[0m score_data \u001b[38;5;241m=\u001b[39m EEGType(data[block, target, :, :], \u001b[38;5;241m0\u001b[39m, rc\u001b[38;5;241m.\u001b[39mnum_samples)\n\u001b[0;32m---> 67\u001b[0m prediction, predict_proba \u001b[38;5;241m=\u001b[39m \u001b[43mlearner\u001b[49m\u001b[43m(\u001b[49m\u001b[43mscore_data\u001b[49m\u001b[43m)\u001b[49m\n\u001b[1;32m     69\u001b[0m predictions[block, target] \u001b[38;5;241m=\u001b[39m prediction\n\u001b[1;32m     70\u001b[0m predict_proba_list[block]\u001b[38;5;241m.\u001b[39mappend(predict_proba)\n",
      "File \u001b[0;32m~/Documents/master/ssvep-bci-project/src/ssvepcca/transformers.py:310\u001b[0m, in \u001b[0;36mSSVEPAlgorithm.__call__\u001b[0;34m(self, eeg)\u001b[0m\n\u001b[1;32m    309\u001b[0m \u001b[38;5;28;01mdef\u001b[39;00m \u001b[38;5;21m__call__\u001b[39m(\u001b[38;5;28mself\u001b[39m, eeg: EEGType) \u001b[38;5;241m-\u001b[39m\u001b[38;5;241m>\u001b[39m Tuple[np\u001b[38;5;241m.\u001b[39mintp, CorrelationType]:\n\u001b[0;32m--> 310\u001b[0m     res: Any \u001b[38;5;241m=\u001b[39m \u001b[43mchain_call_transformers\u001b[49m\u001b[43m(\u001b[49m\u001b[43meeg\u001b[49m\u001b[43m,\u001b[49m\u001b[43m \u001b[49m\u001b[38;5;241;43m*\u001b[39;49m\u001b[38;5;28;43mself\u001b[39;49m\u001b[38;5;241;43m.\u001b[39;49m\u001b[43mpipeline\u001b[49m\u001b[43m)\u001b[49m\n\u001b[1;32m    311\u001b[0m     \u001b[38;5;28;01mreturn\u001b[39;00m np\u001b[38;5;241m.\u001b[39margmax(res), res\n",
      "File \u001b[0;32m~/Documents/master/ssvep-bci-project/src/ssvepcca/transformers.py:299\u001b[0m, in \u001b[0;36mchain_call_transformers\u001b[0;34m(arg, *funcs)\u001b[0m\n\u001b[1;32m    297\u001b[0m result \u001b[38;5;241m=\u001b[39m arg\n\u001b[1;32m    298\u001b[0m \u001b[38;5;28;01mfor\u001b[39;00m f \u001b[38;5;129;01min\u001b[39;00m funcs:\n\u001b[0;32m--> 299\u001b[0m     result \u001b[38;5;241m=\u001b[39m \u001b[43mf\u001b[49m\u001b[43m(\u001b[49m\u001b[43mresult\u001b[49m\u001b[43m)\u001b[49m\n\u001b[1;32m    300\u001b[0m \u001b[38;5;28;01mreturn\u001b[39;00m result\n",
      "File \u001b[0;32m~/Documents/master/ssvep-bci-project/src/ssvepcca/transformers.py:190\u001b[0m, in \u001b[0;36mFilterbankProjector.__call__\u001b[0;34m(self, eeg)\u001b[0m\n\u001b[1;32m    184\u001b[0m eeg_fb \u001b[38;5;241m=\u001b[39m (\n\u001b[1;32m    185\u001b[0m     eeg\u001b[38;5;241m.\u001b[39mdata[\u001b[38;5;241m.\u001b[39m\u001b[38;5;241m.\u001b[39m\u001b[38;5;241m.\u001b[39m, np\u001b[38;5;241m.\u001b[39mnewaxis, :, :]\n\u001b[1;32m    186\u001b[0m     \u001b[38;5;241m.\u001b[39mrepeat(\u001b[38;5;28mself\u001b[39m\u001b[38;5;241m.\u001b[39mfb_num_subband, axis\u001b[38;5;241m=\u001b[39m\u001b[38;5;241m-\u001b[39m\u001b[38;5;241m3\u001b[39m)\n\u001b[1;32m    187\u001b[0m )\n\u001b[1;32m    189\u001b[0m \u001b[38;5;28;01mfor\u001b[39;00m filter_idx, filter_params \u001b[38;5;129;01min\u001b[39;00m \u001b[38;5;28menumerate\u001b[39m(\u001b[38;5;28mself\u001b[39m\u001b[38;5;241m.\u001b[39mfb_filters):\n\u001b[0;32m--> 190\u001b[0m     eeg_fb[\u001b[38;5;241m.\u001b[39m\u001b[38;5;241m.\u001b[39m\u001b[38;5;241m.\u001b[39m, filter_idx, :, :] \u001b[38;5;241m=\u001b[39m \u001b[43mscipy\u001b[49m\u001b[38;5;241;43m.\u001b[39;49m\u001b[43msignal\u001b[49m\u001b[38;5;241;43m.\u001b[39;49m\u001b[43mfiltfilt\u001b[49m\u001b[43m(\u001b[49m\n\u001b[1;32m    191\u001b[0m \u001b[43m        \u001b[49m\u001b[43mx\u001b[49m\u001b[38;5;241;43m=\u001b[39;49m\u001b[43meeg_fb\u001b[49m\u001b[43m[\u001b[49m\u001b[38;5;241;43m.\u001b[39;49m\u001b[38;5;241;43m.\u001b[39;49m\u001b[38;5;241;43m.\u001b[39;49m\u001b[43m,\u001b[49m\u001b[43m \u001b[49m\u001b[43mfilter_idx\u001b[49m\u001b[43m,\u001b[49m\u001b[43m \u001b[49m\u001b[43m:\u001b[49m\u001b[43m,\u001b[49m\u001b[43m \u001b[49m\u001b[43m:\u001b[49m\u001b[43m]\u001b[49m\u001b[43m,\u001b[49m\n\u001b[1;32m    192\u001b[0m \u001b[43m        \u001b[49m\u001b[43mb\u001b[49m\u001b[38;5;241;43m=\u001b[39;49m\u001b[43mfilter_params\u001b[49m\u001b[43m[\u001b[49m\u001b[38;5;124;43m\"\u001b[39;49m\u001b[38;5;124;43mb\u001b[39;49m\u001b[38;5;124;43m\"\u001b[39;49m\u001b[43m]\u001b[49m\u001b[43m,\u001b[49m\n\u001b[1;32m    193\u001b[0m \u001b[43m        \u001b[49m\u001b[43ma\u001b[49m\u001b[38;5;241;43m=\u001b[39;49m\u001b[43mfilter_params\u001b[49m\u001b[43m[\u001b[49m\u001b[38;5;124;43m\"\u001b[39;49m\u001b[38;5;124;43ma\u001b[39;49m\u001b[38;5;124;43m\"\u001b[39;49m\u001b[43m]\u001b[49m\u001b[43m,\u001b[49m\n\u001b[1;32m    194\u001b[0m \u001b[43m        \u001b[49m\u001b[43mpadtype\u001b[49m\u001b[38;5;241;43m=\u001b[39;49m\u001b[38;5;28;43mself\u001b[39;49m\u001b[38;5;241;43m.\u001b[39;49m\u001b[43mFB_PADDING_TYPE\u001b[49m\u001b[43m,\u001b[49m\n\u001b[1;32m    195\u001b[0m \u001b[43m        \u001b[49m\u001b[43maxis\u001b[49m\u001b[38;5;241;43m=\u001b[39;49m\u001b[38;5;241;43m-\u001b[39;49m\u001b[38;5;241;43m2\u001b[39;49m\n\u001b[1;32m    196\u001b[0m \u001b[43m    \u001b[49m\u001b[43m)\u001b[49m\n\u001b[1;32m    198\u001b[0m \u001b[38;5;28;01mreturn\u001b[39;00m replace(eeg, data\u001b[38;5;241m=\u001b[39meeg_fb)\n",
      "File \u001b[0;32m~/miniforge3/envs/conda-master/lib/python3.10/site-packages/scipy/signal/_signaltools.py:4186\u001b[0m, in \u001b[0;36mfiltfilt\u001b[0;34m(b, a, x, axis, padtype, padlen, method, irlen)\u001b[0m\n\u001b[1;32m   4182\u001b[0m y \u001b[38;5;241m=\u001b[39m axis_reverse(y, axis\u001b[38;5;241m=\u001b[39maxis)\n\u001b[1;32m   4184\u001b[0m \u001b[38;5;28;01mif\u001b[39;00m edge \u001b[38;5;241m>\u001b[39m \u001b[38;5;241m0\u001b[39m:\n\u001b[1;32m   4185\u001b[0m     \u001b[38;5;66;03m# Slice the actual signal from the extended signal.\u001b[39;00m\n\u001b[0;32m-> 4186\u001b[0m     y \u001b[38;5;241m=\u001b[39m \u001b[43maxis_slice\u001b[49m\u001b[43m(\u001b[49m\u001b[43my\u001b[49m\u001b[43m,\u001b[49m\u001b[43m \u001b[49m\u001b[43mstart\u001b[49m\u001b[38;5;241;43m=\u001b[39;49m\u001b[43medge\u001b[49m\u001b[43m,\u001b[49m\u001b[43m \u001b[49m\u001b[43mstop\u001b[49m\u001b[38;5;241;43m=\u001b[39;49m\u001b[38;5;241;43m-\u001b[39;49m\u001b[43medge\u001b[49m\u001b[43m,\u001b[49m\u001b[43m \u001b[49m\u001b[43maxis\u001b[49m\u001b[38;5;241;43m=\u001b[39;49m\u001b[43maxis\u001b[49m\u001b[43m)\u001b[49m\n\u001b[1;32m   4188\u001b[0m \u001b[38;5;28;01mreturn\u001b[39;00m y\n",
      "File \u001b[0;32m~/miniforge3/envs/conda-master/lib/python3.10/site-packages/scipy/signal/_arraytools.py:41\u001b[0m, in \u001b[0;36maxis_slice\u001b[0;34m(a, start, stop, step, axis)\u001b[0m\n\u001b[1;32m      7\u001b[0m \u001b[38;5;28;01mdef\u001b[39;00m \u001b[38;5;21maxis_slice\u001b[39m(a, start\u001b[38;5;241m=\u001b[39m\u001b[38;5;28;01mNone\u001b[39;00m, stop\u001b[38;5;241m=\u001b[39m\u001b[38;5;28;01mNone\u001b[39;00m, step\u001b[38;5;241m=\u001b[39m\u001b[38;5;28;01mNone\u001b[39;00m, axis\u001b[38;5;241m=\u001b[39m\u001b[38;5;241m-\u001b[39m\u001b[38;5;241m1\u001b[39m):\n\u001b[1;32m      8\u001b[0m \u001b[38;5;250m    \u001b[39m\u001b[38;5;124;03m\"\"\"Take a slice along axis 'axis' from 'a'.\u001b[39;00m\n\u001b[1;32m      9\u001b[0m \n\u001b[1;32m     10\u001b[0m \u001b[38;5;124;03m    Parameters\u001b[39;00m\n\u001b[0;32m   (...)\u001b[0m\n\u001b[1;32m     39\u001b[0m \u001b[38;5;124;03m    to remove trivial axes.)\u001b[39;00m\n\u001b[1;32m     40\u001b[0m \u001b[38;5;124;03m    \"\"\"\u001b[39;00m\n\u001b[0;32m---> 41\u001b[0m     a_slice \u001b[38;5;241m=\u001b[39m [\u001b[38;5;28;43mslice\u001b[39;49m\u001b[43m(\u001b[49m\u001b[38;5;28;43;01mNone\u001b[39;49;00m\u001b[43m)\u001b[49m] \u001b[38;5;241m*\u001b[39m a\u001b[38;5;241m.\u001b[39mndim\n\u001b[1;32m     42\u001b[0m     a_slice[axis] \u001b[38;5;241m=\u001b[39m \u001b[38;5;28mslice\u001b[39m(start, stop, step)\n\u001b[1;32m     43\u001b[0m     b \u001b[38;5;241m=\u001b[39m a[\u001b[38;5;28mtuple\u001b[39m(a_slice)]\n",
      "\u001b[0;31mKeyboardInterrupt\u001b[0m: "
     ]
    }
   ],
   "source": [
    "t1 = time.perf_counter()\n",
    "result_cca_filter_bank = test_fit_predict(\n",
    "    input_data, \n",
    "    FilterbankCCA(\n",
    "        electrodes_name=electrode_list_fbcca,\n",
    "        start_time_idx=start_time_index,\n",
    "        stop_time_idx=stop_time_index,\n",
    "        num_harmonics=5,\n",
    "        fb_num_subband=10,\n",
    "        fb_fundamental_freq=8,\n",
    "        fb_upper_bound_freq=88,\n",
    "    )\n",
    ")\n",
    "t2 = time.perf_counter()"
   ]
  },
  {
   "cell_type": "code",
   "execution_count": null,
   "id": "c420da20-f2a4-4e96-a619-c402cf1b5131",
   "metadata": {},
   "outputs": [],
   "source": [
    "print(t2 - t1)"
   ]
  },
  {
   "cell_type": "code",
   "execution_count": null,
   "id": "a43bd4ff-e4c1-48ed-8f5d-d8558c4f3313",
   "metadata": {
    "tags": []
   },
   "outputs": [],
   "source": [
    "result_cca_filter_bank[2]"
   ]
  },
  {
   "cell_type": "code",
   "execution_count": 36,
   "id": "27896a84-1bf9-4d8b-9ce8-4d10afb834b7",
   "metadata": {
    "tags": []
   },
   "outputs": [],
   "source": [
    "assert result_cca_filter_bank[2][0] == 238"
   ]
  },
  {
   "cell_type": "code",
   "execution_count": 45,
   "id": "39b21378-8371-4676-a95d-dd51529ac387",
   "metadata": {
    "scrolled": true,
    "tags": []
   },
   "outputs": [
    {
     "name": "stdout",
     "output_type": "stream",
     "text": [
      "fit block:  0\n",
      "block:  0 target:  0\n",
      "block:  0 target:  1\n",
      "block:  0 target:  2\n",
      "block:  0 target:  3\n",
      "block:  0 target:  4\n",
      "block:  0 target:  5\n",
      "block:  0 target:  6\n",
      "block:  0 target:  7\n",
      "block:  0 target:  8\n",
      "block:  0 target:  9\n",
      "block:  0 target:  10\n",
      "block:  0 target:  11\n",
      "block:  0 target:  12\n",
      "block:  0 target:  13\n",
      "block:  0 target:  14\n",
      "block:  0 target:  15\n",
      "block:  0 target:  16\n",
      "block:  0 target:  17\n",
      "block:  0 target:  18\n",
      "block:  0 target:  19\n",
      "block:  0 target:  20\n",
      "block:  0 target:  21\n",
      "block:  0 target:  22\n",
      "block:  0 target:  23\n",
      "block:  0 target:  24\n",
      "block:  0 target:  25\n",
      "block:  0 target:  26\n",
      "block:  0 target:  27\n",
      "block:  0 target:  28\n",
      "block:  0 target:  29\n",
      "block:  0 target:  30\n",
      "block:  0 target:  31\n",
      "block:  0 target:  32\n",
      "block:  0 target:  33\n",
      "block:  0 target:  34\n",
      "block:  0 target:  35\n",
      "block:  0 target:  36\n",
      "block:  0 target:  37\n",
      "block:  0 target:  38\n",
      "block:  0 target:  39\n",
      "fit block:  1\n",
      "block:  1 target:  0\n",
      "block:  1 target:  1\n",
      "block:  1 target:  2\n",
      "block:  1 target:  3\n",
      "block:  1 target:  4\n",
      "block:  1 target:  5\n",
      "block:  1 target:  6\n",
      "block:  1 target:  7\n",
      "block:  1 target:  8\n",
      "block:  1 target:  9\n",
      "block:  1 target:  10\n",
      "block:  1 target:  11\n",
      "block:  1 target:  12\n",
      "block:  1 target:  13\n",
      "block:  1 target:  14\n",
      "block:  1 target:  15\n",
      "block:  1 target:  16\n",
      "block:  1 target:  17\n",
      "block:  1 target:  18\n",
      "block:  1 target:  19\n",
      "block:  1 target:  20\n",
      "block:  1 target:  21\n",
      "block:  1 target:  22\n",
      "block:  1 target:  23\n",
      "block:  1 target:  24\n",
      "block:  1 target:  25\n",
      "block:  1 target:  26\n",
      "block:  1 target:  27\n",
      "block:  1 target:  28\n",
      "block:  1 target:  29\n",
      "block:  1 target:  30\n",
      "block:  1 target:  31\n",
      "block:  1 target:  32\n",
      "block:  1 target:  33\n",
      "block:  1 target:  34\n",
      "block:  1 target:  35\n",
      "block:  1 target:  36\n",
      "block:  1 target:  37\n",
      "block:  1 target:  38\n",
      "block:  1 target:  39\n",
      "fit block:  2\n"
     ]
    },
    {
     "ename": "KeyboardInterrupt",
     "evalue": "",
     "output_type": "error",
     "traceback": [
      "\u001b[0;31m---------------------------------------------------------------------------\u001b[0m",
      "\u001b[0;31mKeyboardInterrupt\u001b[0m                         Traceback (most recent call last)",
      "Cell \u001b[0;32mIn[45], line 1\u001b[0m\n\u001b[0;32m----> 1\u001b[0m result_fb_cca_fixed_coefficients \u001b[38;5;241m=\u001b[39m \u001b[43mk_fold_predict\u001b[49m\u001b[43m(\u001b[49m\n\u001b[1;32m      2\u001b[0m \u001b[43m    \u001b[49m\u001b[43minput_data\u001b[49m\u001b[43m,\u001b[49m\u001b[43m \u001b[49m\n\u001b[1;32m      3\u001b[0m \u001b[43m    \u001b[49m\u001b[43mFilterbankCCAFilter\u001b[49m\u001b[43m(\u001b[49m\n\u001b[1;32m      4\u001b[0m \u001b[43m        \u001b[49m\u001b[43melectrodes_name\u001b[49m\u001b[38;5;241;43m=\u001b[39;49m\u001b[43melectrode_list_fbcca\u001b[49m\u001b[43m,\u001b[49m\n\u001b[1;32m      5\u001b[0m \u001b[43m        \u001b[49m\u001b[43mstart_time_idx\u001b[49m\u001b[38;5;241;43m=\u001b[39;49m\u001b[43mstart_time_index\u001b[49m\u001b[43m,\u001b[49m\n\u001b[1;32m      6\u001b[0m \u001b[43m        \u001b[49m\u001b[43mstop_time_idx\u001b[49m\u001b[38;5;241;43m=\u001b[39;49m\u001b[43mstop_time_index\u001b[49m\u001b[43m,\u001b[49m\n\u001b[1;32m      7\u001b[0m \u001b[43m        \u001b[49m\u001b[43mnum_harmonics\u001b[49m\u001b[38;5;241;43m=\u001b[39;49m\u001b[38;5;241;43m5\u001b[39;49m\u001b[43m,\u001b[49m\n\u001b[1;32m      8\u001b[0m \u001b[43m        \u001b[49m\u001b[43mfb_num_subband\u001b[49m\u001b[38;5;241;43m=\u001b[39;49m\u001b[38;5;241;43m10\u001b[39;49m\u001b[43m,\u001b[49m\n\u001b[1;32m      9\u001b[0m \u001b[43m        \u001b[49m\u001b[43mfb_fundamental_freq\u001b[49m\u001b[38;5;241;43m=\u001b[39;49m\u001b[38;5;241;43m8\u001b[39;49m\u001b[43m,\u001b[49m\n\u001b[1;32m     10\u001b[0m \u001b[43m        \u001b[49m\u001b[43mfb_upper_bound_freq\u001b[49m\u001b[38;5;241;43m=\u001b[39;49m\u001b[38;5;241;43m88\u001b[39;49m\u001b[43m,\u001b[49m\n\u001b[1;32m     11\u001b[0m \u001b[43m    \u001b[49m\u001b[43m)\u001b[49m\n\u001b[1;32m     12\u001b[0m \u001b[43m)\u001b[49m\n",
      "File \u001b[0;32m~/miniforge3/envs/conda-master/lib/python3.10/site-packages/toolz/functoolz.py:304\u001b[0m, in \u001b[0;36mcurry.__call__\u001b[0;34m(self, *args, **kwargs)\u001b[0m\n\u001b[1;32m    302\u001b[0m \u001b[38;5;28;01mdef\u001b[39;00m \u001b[38;5;21m__call__\u001b[39m(\u001b[38;5;28mself\u001b[39m, \u001b[38;5;241m*\u001b[39margs, \u001b[38;5;241m*\u001b[39m\u001b[38;5;241m*\u001b[39mkwargs):\n\u001b[1;32m    303\u001b[0m     \u001b[38;5;28;01mtry\u001b[39;00m:\n\u001b[0;32m--> 304\u001b[0m         \u001b[38;5;28;01mreturn\u001b[39;00m \u001b[38;5;28;43mself\u001b[39;49m\u001b[38;5;241;43m.\u001b[39;49m\u001b[43m_partial\u001b[49m\u001b[43m(\u001b[49m\u001b[38;5;241;43m*\u001b[39;49m\u001b[43margs\u001b[49m\u001b[43m,\u001b[49m\u001b[43m \u001b[49m\u001b[38;5;241;43m*\u001b[39;49m\u001b[38;5;241;43m*\u001b[39;49m\u001b[43mkwargs\u001b[49m\u001b[43m)\u001b[49m\n\u001b[1;32m    305\u001b[0m     \u001b[38;5;28;01mexcept\u001b[39;00m \u001b[38;5;167;01mTypeError\u001b[39;00m \u001b[38;5;28;01mas\u001b[39;00m exc:\n\u001b[1;32m    306\u001b[0m         \u001b[38;5;28;01mif\u001b[39;00m \u001b[38;5;28mself\u001b[39m\u001b[38;5;241m.\u001b[39m_should_curry(args, kwargs, exc):\n",
      "File \u001b[0;32m~/Documents/master/ssvep-bci-project/src/ssvepcca/pipelines.py:32\u001b[0m, in \u001b[0;36mk_fold_predict\u001b[0;34m(data, learner)\u001b[0m\n\u001b[1;32m     30\u001b[0m valid_data_raw \u001b[38;5;241m=\u001b[39m data[valid_masks[block], :, :, :]\u001b[38;5;241m.\u001b[39msqueeze()\n\u001b[1;32m     31\u001b[0m \u001b[38;5;28mprint\u001b[39m(\u001b[38;5;124m\"\u001b[39m\u001b[38;5;124mfit block: \u001b[39m\u001b[38;5;124m\"\u001b[39m, block)\n\u001b[0;32m---> 32\u001b[0m \u001b[43mlearner\u001b[49m\u001b[38;5;241;43m.\u001b[39;49m\u001b[43mfit\u001b[49m\u001b[43m(\u001b[49m\u001b[43mEEGType\u001b[49m\u001b[43m(\u001b[49m\u001b[43mtrain_data_raw\u001b[49m\u001b[43m,\u001b[49m\u001b[43m \u001b[49m\u001b[38;5;241;43m0\u001b[39;49m\u001b[43m,\u001b[49m\u001b[43m \u001b[49m\u001b[43mrc\u001b[49m\u001b[38;5;241;43m.\u001b[39;49m\u001b[43mnum_samples\u001b[49m\u001b[43m)\u001b[49m\u001b[43m)\u001b[49m\n\u001b[1;32m     34\u001b[0m \u001b[38;5;28;01mfor\u001b[39;00m target \u001b[38;5;129;01min\u001b[39;00m \u001b[38;5;28mrange\u001b[39m(rc\u001b[38;5;241m.\u001b[39mnum_targets):\n\u001b[1;32m     35\u001b[0m     valid_data \u001b[38;5;241m=\u001b[39m EEGType(valid_data_raw[target, :, :], \u001b[38;5;241m0\u001b[39m, rc\u001b[38;5;241m.\u001b[39mnum_samples)\n",
      "File \u001b[0;32m~/Documents/master/ssvep-bci-project/src/ssvepcca/transformers.py:314\u001b[0m, in \u001b[0;36mSSVEPAlgorithm.fit\u001b[0;34m(self, eeg_tensor)\u001b[0m\n\u001b[1;32m    313\u001b[0m \u001b[38;5;28;01mdef\u001b[39;00m \u001b[38;5;21mfit\u001b[39m(\u001b[38;5;28mself\u001b[39m, eeg_tensor: EEGType) \u001b[38;5;241m-\u001b[39m\u001b[38;5;241m>\u001b[39m TransformerReturnType:\n\u001b[0;32m--> 314\u001b[0m     res \u001b[38;5;241m=\u001b[39m \u001b[43mchain_call_transformers\u001b[49m\u001b[43m(\u001b[49m\u001b[43meeg_tensor\u001b[49m\u001b[43m,\u001b[49m\u001b[43m \u001b[49m\u001b[38;5;241;43m*\u001b[39;49m\u001b[43m[\u001b[49m\u001b[43mp\u001b[49m\u001b[38;5;241;43m.\u001b[39;49m\u001b[43mfit\u001b[49m\u001b[43m \u001b[49m\u001b[38;5;28;43;01mfor\u001b[39;49;00m\u001b[43m \u001b[49m\u001b[43mp\u001b[49m\u001b[43m \u001b[49m\u001b[38;5;129;43;01min\u001b[39;49;00m\u001b[43m \u001b[49m\u001b[38;5;28;43mself\u001b[39;49m\u001b[38;5;241;43m.\u001b[39;49m\u001b[43mpipeline\u001b[49m\u001b[43m]\u001b[49m\u001b[43m)\u001b[49m\n\u001b[1;32m    315\u001b[0m     \u001b[38;5;28;01mreturn\u001b[39;00m res\n",
      "File \u001b[0;32m~/Documents/master/ssvep-bci-project/src/ssvepcca/transformers.py:299\u001b[0m, in \u001b[0;36mchain_call_transformers\u001b[0;34m(arg, *funcs)\u001b[0m\n\u001b[1;32m    297\u001b[0m result \u001b[38;5;241m=\u001b[39m arg\n\u001b[1;32m    298\u001b[0m \u001b[38;5;28;01mfor\u001b[39;00m f \u001b[38;5;129;01min\u001b[39;00m funcs:\n\u001b[0;32m--> 299\u001b[0m     result \u001b[38;5;241m=\u001b[39m \u001b[43mf\u001b[49m\u001b[43m(\u001b[49m\u001b[43mresult\u001b[49m\u001b[43m)\u001b[49m\n\u001b[1;32m    300\u001b[0m \u001b[38;5;28;01mreturn\u001b[39;00m result\n",
      "File \u001b[0;32m~/Documents/master/ssvep-bci-project/src/ssvepcca/transformers.py:290\u001b[0m, in \u001b[0;36mCCAModeFilter.fit\u001b[0;34m(self, eeg_tensor)\u001b[0m\n\u001b[1;32m    288\u001b[0m     \u001b[38;5;28;01mfor\u001b[39;00m proj \u001b[38;5;129;01min\u001b[39;00m \u001b[38;5;28mrange\u001b[39m(\u001b[38;5;28mself\u001b[39m\u001b[38;5;241m.\u001b[39mnum_projections):\n\u001b[1;32m    289\u001b[0m         cca_model \u001b[38;5;241m=\u001b[39m CCALearner(n_components\u001b[38;5;241m=\u001b[39m\u001b[38;5;28mself\u001b[39m\u001b[38;5;241m.\u001b[39mnum_components, max_iter\u001b[38;5;241m=\u001b[39m\u001b[38;5;28mself\u001b[39m\u001b[38;5;241m.\u001b[39mCCA_MAX_ITER, scale\u001b[38;5;241m=\u001b[39m\u001b[38;5;28;01mFalse\u001b[39;00m)\n\u001b[0;32m--> 290\u001b[0m         \u001b[43mcca_model\u001b[49m\u001b[38;5;241;43m.\u001b[39;49m\u001b[43mfit\u001b[49m\u001b[43m(\u001b[49m\u001b[43meeg_blocks\u001b[49m\u001b[43m[\u001b[49m\u001b[43mproj\u001b[49m\u001b[43m,\u001b[49m\u001b[43m \u001b[49m\u001b[38;5;241;43m.\u001b[39;49m\u001b[38;5;241;43m.\u001b[39;49m\u001b[38;5;241;43m.\u001b[39;49m\u001b[43m]\u001b[49m\u001b[43m,\u001b[49m\u001b[43m \u001b[49m\u001b[43mharmonic_concatenated\u001b[49m\u001b[43m)\u001b[49m\n\u001b[1;32m    291\u001b[0m         \u001b[38;5;28mself\u001b[39m\u001b[38;5;241m.\u001b[39mcca_models[target][proj] \u001b[38;5;241m=\u001b[39m cca_model\n\u001b[1;32m    293\u001b[0m \u001b[38;5;28;01mreturn\u001b[39;00m \u001b[38;5;28mself\u001b[39m\u001b[38;5;241m.\u001b[39m\u001b[38;5;21m__call__\u001b[39m(replace(eeg_tensor, data\u001b[38;5;241m=\u001b[39meeg_tensor\u001b[38;5;241m.\u001b[39mdata[\u001b[38;5;241m0\u001b[39m,\u001b[38;5;241m0\u001b[39m,\u001b[38;5;241m.\u001b[39m\u001b[38;5;241m.\u001b[39m\u001b[38;5;241m.\u001b[39m]))\n",
      "File \u001b[0;32m~/miniforge3/envs/conda-master/lib/python3.10/site-packages/sklearn/base.py:1152\u001b[0m, in \u001b[0;36m_fit_context.<locals>.decorator.<locals>.wrapper\u001b[0;34m(estimator, *args, **kwargs)\u001b[0m\n\u001b[1;32m   1145\u001b[0m     estimator\u001b[38;5;241m.\u001b[39m_validate_params()\n\u001b[1;32m   1147\u001b[0m \u001b[38;5;28;01mwith\u001b[39;00m config_context(\n\u001b[1;32m   1148\u001b[0m     skip_parameter_validation\u001b[38;5;241m=\u001b[39m(\n\u001b[1;32m   1149\u001b[0m         prefer_skip_nested_validation \u001b[38;5;129;01mor\u001b[39;00m global_skip_validation\n\u001b[1;32m   1150\u001b[0m     )\n\u001b[1;32m   1151\u001b[0m ):\n\u001b[0;32m-> 1152\u001b[0m     \u001b[38;5;28;01mreturn\u001b[39;00m \u001b[43mfit_method\u001b[49m\u001b[43m(\u001b[49m\u001b[43mestimator\u001b[49m\u001b[43m,\u001b[49m\u001b[43m \u001b[49m\u001b[38;5;241;43m*\u001b[39;49m\u001b[43margs\u001b[49m\u001b[43m,\u001b[49m\u001b[43m \u001b[49m\u001b[38;5;241;43m*\u001b[39;49m\u001b[38;5;241;43m*\u001b[39;49m\u001b[43mkwargs\u001b[49m\u001b[43m)\u001b[49m\n",
      "File \u001b[0;32m~/miniforge3/envs/conda-master/lib/python3.10/site-packages/sklearn/cross_decomposition/_pls.py:294\u001b[0m, in \u001b[0;36m_PLS.fit\u001b[0;34m(self, X, Y)\u001b[0m\n\u001b[1;32m    287\u001b[0m Yk[:, Yk_mask] \u001b[38;5;241m=\u001b[39m \u001b[38;5;241m0.0\u001b[39m\n\u001b[1;32m    289\u001b[0m \u001b[38;5;28;01mtry\u001b[39;00m:\n\u001b[1;32m    290\u001b[0m     (\n\u001b[1;32m    291\u001b[0m         x_weights,\n\u001b[1;32m    292\u001b[0m         y_weights,\n\u001b[1;32m    293\u001b[0m         n_iter_,\n\u001b[0;32m--> 294\u001b[0m     ) \u001b[38;5;241m=\u001b[39m \u001b[43m_get_first_singular_vectors_power_method\u001b[49m\u001b[43m(\u001b[49m\n\u001b[1;32m    295\u001b[0m \u001b[43m        \u001b[49m\u001b[43mXk\u001b[49m\u001b[43m,\u001b[49m\n\u001b[1;32m    296\u001b[0m \u001b[43m        \u001b[49m\u001b[43mYk\u001b[49m\u001b[43m,\u001b[49m\n\u001b[1;32m    297\u001b[0m \u001b[43m        \u001b[49m\u001b[43mmode\u001b[49m\u001b[38;5;241;43m=\u001b[39;49m\u001b[38;5;28;43mself\u001b[39;49m\u001b[38;5;241;43m.\u001b[39;49m\u001b[43mmode\u001b[49m\u001b[43m,\u001b[49m\n\u001b[1;32m    298\u001b[0m \u001b[43m        \u001b[49m\u001b[43mmax_iter\u001b[49m\u001b[38;5;241;43m=\u001b[39;49m\u001b[38;5;28;43mself\u001b[39;49m\u001b[38;5;241;43m.\u001b[39;49m\u001b[43mmax_iter\u001b[49m\u001b[43m,\u001b[49m\n\u001b[1;32m    299\u001b[0m \u001b[43m        \u001b[49m\u001b[43mtol\u001b[49m\u001b[38;5;241;43m=\u001b[39;49m\u001b[38;5;28;43mself\u001b[39;49m\u001b[38;5;241;43m.\u001b[39;49m\u001b[43mtol\u001b[49m\u001b[43m,\u001b[49m\n\u001b[1;32m    300\u001b[0m \u001b[43m        \u001b[49m\u001b[43mnorm_y_weights\u001b[49m\u001b[38;5;241;43m=\u001b[39;49m\u001b[43mnorm_y_weights\u001b[49m\u001b[43m,\u001b[49m\n\u001b[1;32m    301\u001b[0m \u001b[43m    \u001b[49m\u001b[43m)\u001b[49m\n\u001b[1;32m    302\u001b[0m \u001b[38;5;28;01mexcept\u001b[39;00m \u001b[38;5;167;01mStopIteration\u001b[39;00m \u001b[38;5;28;01mas\u001b[39;00m e:\n\u001b[1;32m    303\u001b[0m     \u001b[38;5;28;01mif\u001b[39;00m \u001b[38;5;28mstr\u001b[39m(e) \u001b[38;5;241m!=\u001b[39m \u001b[38;5;124m\"\u001b[39m\u001b[38;5;124mY residual is constant\u001b[39m\u001b[38;5;124m\"\u001b[39m:\n",
      "File \u001b[0;32m~/miniforge3/envs/conda-master/lib/python3.10/site-packages/sklearn/cross_decomposition/_pls.py:85\u001b[0m, in \u001b[0;36m_get_first_singular_vectors_power_method\u001b[0;34m(X, Y, mode, max_iter, tol, norm_y_weights)\u001b[0m\n\u001b[1;32m     76\u001b[0m x_weights_old \u001b[38;5;241m=\u001b[39m \u001b[38;5;241m100\u001b[39m  \u001b[38;5;66;03m# init to big value for first convergence check\u001b[39;00m\n\u001b[1;32m     78\u001b[0m \u001b[38;5;28;01mif\u001b[39;00m mode \u001b[38;5;241m==\u001b[39m \u001b[38;5;124m\"\u001b[39m\u001b[38;5;124mB\u001b[39m\u001b[38;5;124m\"\u001b[39m:\n\u001b[1;32m     79\u001b[0m     \u001b[38;5;66;03m# Precompute pseudo inverse matrices\u001b[39;00m\n\u001b[1;32m     80\u001b[0m     \u001b[38;5;66;03m# Basically: X_pinv = (X.T X)^-1 X.T\u001b[39;00m\n\u001b[0;32m   (...)\u001b[0m\n\u001b[1;32m     83\u001b[0m     \u001b[38;5;66;03m# B) will be unstable if n_features > n_samples or n_targets >\u001b[39;00m\n\u001b[1;32m     84\u001b[0m     \u001b[38;5;66;03m# n_samples\u001b[39;00m\n\u001b[0;32m---> 85\u001b[0m     X_pinv, Y_pinv \u001b[38;5;241m=\u001b[39m \u001b[43m_pinv2_old\u001b[49m\u001b[43m(\u001b[49m\u001b[43mX\u001b[49m\u001b[43m)\u001b[49m, _pinv2_old(Y)\n\u001b[1;32m     87\u001b[0m \u001b[38;5;28;01mfor\u001b[39;00m i \u001b[38;5;129;01min\u001b[39;00m \u001b[38;5;28mrange\u001b[39m(max_iter):\n\u001b[1;32m     88\u001b[0m     \u001b[38;5;28;01mif\u001b[39;00m mode \u001b[38;5;241m==\u001b[39m \u001b[38;5;124m\"\u001b[39m\u001b[38;5;124mB\u001b[39m\u001b[38;5;124m\"\u001b[39m:\n",
      "File \u001b[0;32m~/miniforge3/envs/conda-master/lib/python3.10/site-packages/sklearn/cross_decomposition/_pls.py:47\u001b[0m, in \u001b[0;36m_pinv2_old\u001b[0;34m(a)\u001b[0m\n\u001b[1;32m     41\u001b[0m \u001b[38;5;28;01mdef\u001b[39;00m \u001b[38;5;21m_pinv2_old\u001b[39m(a):\n\u001b[1;32m     42\u001b[0m     \u001b[38;5;66;03m# Used previous scipy pinv2 that was updated in:\u001b[39;00m\n\u001b[1;32m     43\u001b[0m     \u001b[38;5;66;03m# https://github.com/scipy/scipy/pull/10067\u001b[39;00m\n\u001b[1;32m     44\u001b[0m     \u001b[38;5;66;03m# We can not set `cond` or `rcond` for pinv2 in scipy >= 1.3 to keep the\u001b[39;00m\n\u001b[1;32m     45\u001b[0m     \u001b[38;5;66;03m# same behavior of pinv2 for scipy < 1.3, because the condition used to\u001b[39;00m\n\u001b[1;32m     46\u001b[0m     \u001b[38;5;66;03m# determine the rank is dependent on the output of svd.\u001b[39;00m\n\u001b[0;32m---> 47\u001b[0m     u, s, vh \u001b[38;5;241m=\u001b[39m \u001b[43msvd\u001b[49m\u001b[43m(\u001b[49m\u001b[43ma\u001b[49m\u001b[43m,\u001b[49m\u001b[43m \u001b[49m\u001b[43mfull_matrices\u001b[49m\u001b[38;5;241;43m=\u001b[39;49m\u001b[38;5;28;43;01mFalse\u001b[39;49;00m\u001b[43m,\u001b[49m\u001b[43m \u001b[49m\u001b[43mcheck_finite\u001b[49m\u001b[38;5;241;43m=\u001b[39;49m\u001b[38;5;28;43;01mFalse\u001b[39;49;00m\u001b[43m)\u001b[49m\n\u001b[1;32m     49\u001b[0m     t \u001b[38;5;241m=\u001b[39m u\u001b[38;5;241m.\u001b[39mdtype\u001b[38;5;241m.\u001b[39mchar\u001b[38;5;241m.\u001b[39mlower()\n\u001b[1;32m     50\u001b[0m     factor \u001b[38;5;241m=\u001b[39m {\u001b[38;5;124m\"\u001b[39m\u001b[38;5;124mf\u001b[39m\u001b[38;5;124m\"\u001b[39m: \u001b[38;5;241m1e3\u001b[39m, \u001b[38;5;124m\"\u001b[39m\u001b[38;5;124md\u001b[39m\u001b[38;5;124m\"\u001b[39m: \u001b[38;5;241m1e6\u001b[39m}\n",
      "File \u001b[0;32m~/miniforge3/envs/conda-master/lib/python3.10/site-packages/scipy/linalg/_decomp_svd.py:127\u001b[0m, in \u001b[0;36msvd\u001b[0;34m(a, full_matrices, compute_uv, overwrite_a, check_finite, lapack_driver)\u001b[0m\n\u001b[1;32m    123\u001b[0m lwork \u001b[38;5;241m=\u001b[39m _compute_lwork(gesXd_lwork, a1\u001b[38;5;241m.\u001b[39mshape[\u001b[38;5;241m0\u001b[39m], a1\u001b[38;5;241m.\u001b[39mshape[\u001b[38;5;241m1\u001b[39m],\n\u001b[1;32m    124\u001b[0m                        compute_uv\u001b[38;5;241m=\u001b[39mcompute_uv, full_matrices\u001b[38;5;241m=\u001b[39mfull_matrices)\n\u001b[1;32m    126\u001b[0m \u001b[38;5;66;03m# perform decomposition\u001b[39;00m\n\u001b[0;32m--> 127\u001b[0m u, s, v, info \u001b[38;5;241m=\u001b[39m \u001b[43mgesXd\u001b[49m\u001b[43m(\u001b[49m\u001b[43ma1\u001b[49m\u001b[43m,\u001b[49m\u001b[43m \u001b[49m\u001b[43mcompute_uv\u001b[49m\u001b[38;5;241;43m=\u001b[39;49m\u001b[43mcompute_uv\u001b[49m\u001b[43m,\u001b[49m\u001b[43m \u001b[49m\u001b[43mlwork\u001b[49m\u001b[38;5;241;43m=\u001b[39;49m\u001b[43mlwork\u001b[49m\u001b[43m,\u001b[49m\n\u001b[1;32m    128\u001b[0m \u001b[43m                      \u001b[49m\u001b[43mfull_matrices\u001b[49m\u001b[38;5;241;43m=\u001b[39;49m\u001b[43mfull_matrices\u001b[49m\u001b[43m,\u001b[49m\u001b[43m \u001b[49m\u001b[43moverwrite_a\u001b[49m\u001b[38;5;241;43m=\u001b[39;49m\u001b[43moverwrite_a\u001b[49m\u001b[43m)\u001b[49m\n\u001b[1;32m    130\u001b[0m \u001b[38;5;28;01mif\u001b[39;00m info \u001b[38;5;241m>\u001b[39m \u001b[38;5;241m0\u001b[39m:\n\u001b[1;32m    131\u001b[0m     \u001b[38;5;28;01mraise\u001b[39;00m LinAlgError(\u001b[38;5;124m\"\u001b[39m\u001b[38;5;124mSVD did not converge\u001b[39m\u001b[38;5;124m\"\u001b[39m)\n",
      "\u001b[0;31mKeyboardInterrupt\u001b[0m: "
     ]
    }
   ],
   "source": [
    "result_fb_cca_fixed_coefficients = k_fold_predict(\n",
    "    input_data, \n",
    "    FilterbankCCAFilter(\n",
    "        electrodes_name=electrode_list_fbcca,\n",
    "        start_time_idx=start_time_index,\n",
    "        stop_time_idx=stop_time_index,\n",
    "        num_harmonics=5,\n",
    "        fb_num_subband=10,\n",
    "        fb_fundamental_freq=8,\n",
    "        fb_upper_bound_freq=88,\n",
    "    )\n",
    ")"
   ]
  },
  {
   "cell_type": "code",
   "execution_count": null,
   "id": "3222b99f-c5bb-40ff-afad-a8e407d3eca2",
   "metadata": {
    "tags": []
   },
   "outputs": [],
   "source": [
    "result_fb_cca_fixed_coefficients[2]"
   ]
  },
  {
   "cell_type": "code",
   "execution_count": null,
   "id": "f0990a6c-4f5e-4f04-a9a6-afc370314763",
   "metadata": {
    "tags": []
   },
   "outputs": [],
   "source": [
    "assert result_fb_cca_fixed_coefficients[2][0] == 240"
   ]
  },
  {
   "cell_type": "code",
   "execution_count": 12,
   "id": "c12b759b-003a-4be6-b6b5-fa096cdf1e2b",
   "metadata": {
    "collapsed": true,
    "jupyter": {
     "outputs_hidden": true
    },
    "tags": []
   },
   "outputs": [
    {
     "name": "stdout",
     "output_type": "stream",
     "text": [
      "[block 0] | Started\n",
      "[block 0] | Fit-predict for target 0\n",
      "called id  0 , time elapsed: 0.00025033300335053355\n",
      "called id  1 , time elapsed: 3.583991201594472e-06\n",
      "called id  2 , time elapsed: 0.0003566670056898147\n",
      "called id  3 , time elapsed: 1.7080019460991025e-06\n",
      "called id  4 , time elapsed: 3.3339892979711294e-06\n",
      "called id  5 , time elapsed: 21.627496708999388\n",
      "called id  6 , time elapsed: 1.1665993952192366e-05\n",
      "[block 0] | Fit-predict for target 1\n",
      "called id  0 , time elapsed: 0.0001579590025357902\n",
      "called id  1 , time elapsed: 6.250003934837878e-06\n",
      "called id  2 , time elapsed: 0.00057608300994616\n",
      "called id  3 , time elapsed: 4.125002305954695e-06\n",
      "called id  4 , time elapsed: 8.458999218419194e-06\n"
     ]
    },
    {
     "ename": "KeyboardInterrupt",
     "evalue": "",
     "output_type": "error",
     "traceback": [
      "\u001b[0;31m---------------------------------------------------------------------------\u001b[0m",
      "\u001b[0;31mKeyboardInterrupt\u001b[0m                         Traceback (most recent call last)",
      "Cell \u001b[0;32mIn[12], line 3\u001b[0m\n\u001b[1;32m      1\u001b[0m t1 \u001b[38;5;241m=\u001b[39m time\u001b[38;5;241m.\u001b[39mperf_counter()\n\u001b[0;32m----> 3\u001b[0m result_cca_spatio_temporal \u001b[38;5;241m=\u001b[39m \u001b[43mtest_fit_predict\u001b[49m\u001b[43m(\u001b[49m\n\u001b[1;32m      4\u001b[0m \u001b[43m    \u001b[49m\u001b[43minput_data\u001b[49m\u001b[43m,\u001b[49m\u001b[43m \u001b[49m\n\u001b[1;32m      5\u001b[0m \u001b[43m    \u001b[49m\u001b[43mSpatioTemporalCCA\u001b[49m\u001b[43m(\u001b[49m\n\u001b[1;32m      6\u001b[0m \u001b[43m        \u001b[49m\u001b[43melectrodes_name\u001b[49m\u001b[38;5;241;43m=\u001b[39;49m\u001b[43melectrode_list_fbcca\u001b[49m\u001b[43m,\u001b[49m\n\u001b[1;32m      7\u001b[0m \u001b[43m        \u001b[49m\u001b[43mstart_time_idx\u001b[49m\u001b[38;5;241;43m=\u001b[39;49m\u001b[43mstart_time_index\u001b[49m\u001b[43m,\u001b[49m\n\u001b[1;32m      8\u001b[0m \u001b[43m        \u001b[49m\u001b[43mstop_time_idx\u001b[49m\u001b[38;5;241;43m=\u001b[39;49m\u001b[43mstop_time_index\u001b[49m\u001b[43m,\u001b[49m\n\u001b[1;32m      9\u001b[0m \u001b[43m        \u001b[49m\u001b[43mnum_harmonics\u001b[49m\u001b[38;5;241;43m=\u001b[39;49m\u001b[38;5;241;43m3\u001b[39;49m\u001b[43m,\u001b[49m\n\u001b[1;32m     10\u001b[0m \u001b[43m        \u001b[49m\u001b[43mwindow_gap\u001b[49m\u001b[38;5;241;43m=\u001b[39;49m\u001b[38;5;241;43m0\u001b[39;49m\u001b[43m,\u001b[49m\n\u001b[1;32m     11\u001b[0m \u001b[43m        \u001b[49m\u001b[43mwindow_length\u001b[49m\u001b[38;5;241;43m=\u001b[39;49m\u001b[38;5;241;43m9\u001b[39;49m\u001b[43m,\u001b[49m\n\u001b[1;32m     12\u001b[0m \u001b[43m    \u001b[49m\u001b[43m)\u001b[49m\n\u001b[1;32m     13\u001b[0m \u001b[43m)\u001b[49m\n\u001b[1;32m     14\u001b[0m t2 \u001b[38;5;241m=\u001b[39m time\u001b[38;5;241m.\u001b[39mperf_counter()\n",
      "File \u001b[0;32m~/miniforge3/envs/conda-master/lib/python3.10/site-packages/toolz/functoolz.py:304\u001b[0m, in \u001b[0;36mcurry.__call__\u001b[0;34m(self, *args, **kwargs)\u001b[0m\n\u001b[1;32m    302\u001b[0m \u001b[38;5;28;01mdef\u001b[39;00m \u001b[38;5;21m__call__\u001b[39m(\u001b[38;5;28mself\u001b[39m, \u001b[38;5;241m*\u001b[39margs, \u001b[38;5;241m*\u001b[39m\u001b[38;5;241m*\u001b[39mkwargs):\n\u001b[1;32m    303\u001b[0m     \u001b[38;5;28;01mtry\u001b[39;00m:\n\u001b[0;32m--> 304\u001b[0m         \u001b[38;5;28;01mreturn\u001b[39;00m \u001b[38;5;28;43mself\u001b[39;49m\u001b[38;5;241;43m.\u001b[39;49m\u001b[43m_partial\u001b[49m\u001b[43m(\u001b[49m\u001b[38;5;241;43m*\u001b[39;49m\u001b[43margs\u001b[49m\u001b[43m,\u001b[49m\u001b[43m \u001b[49m\u001b[38;5;241;43m*\u001b[39;49m\u001b[38;5;241;43m*\u001b[39;49m\u001b[43mkwargs\u001b[49m\u001b[43m)\u001b[49m\n\u001b[1;32m    305\u001b[0m     \u001b[38;5;28;01mexcept\u001b[39;00m \u001b[38;5;167;01mTypeError\u001b[39;00m \u001b[38;5;28;01mas\u001b[39;00m exc:\n\u001b[1;32m    306\u001b[0m         \u001b[38;5;28;01mif\u001b[39;00m \u001b[38;5;28mself\u001b[39m\u001b[38;5;241m.\u001b[39m_should_curry(args, kwargs, exc):\n",
      "File \u001b[0;32m~/Documents/master/ssvep-bci-project/src/ssvepcca/pipelines.py:67\u001b[0m, in \u001b[0;36mtest_fit_predict\u001b[0;34m(data, learner)\u001b[0m\n\u001b[1;32m     64\u001b[0m \u001b[38;5;28mprint\u001b[39m(\u001b[38;5;124mf\u001b[39m\u001b[38;5;124m\"\u001b[39m\u001b[38;5;124m[block \u001b[39m\u001b[38;5;132;01m{\u001b[39;00mblock\u001b[38;5;132;01m}\u001b[39;00m\u001b[38;5;124m] | Fit-predict for target \u001b[39m\u001b[38;5;132;01m{\u001b[39;00mtarget\u001b[38;5;132;01m}\u001b[39;00m\u001b[38;5;124m\"\u001b[39m)\n\u001b[1;32m     66\u001b[0m score_data \u001b[38;5;241m=\u001b[39m EEGType(data[block, target, :, :], \u001b[38;5;241m0\u001b[39m, rc\u001b[38;5;241m.\u001b[39mnum_samples)\n\u001b[0;32m---> 67\u001b[0m prediction, predict_proba \u001b[38;5;241m=\u001b[39m \u001b[43mlearner\u001b[49m\u001b[43m(\u001b[49m\u001b[43mscore_data\u001b[49m\u001b[43m)\u001b[49m\n\u001b[1;32m     69\u001b[0m predictions[block, target] \u001b[38;5;241m=\u001b[39m prediction\n\u001b[1;32m     70\u001b[0m predict_proba_list[block]\u001b[38;5;241m.\u001b[39mappend(predict_proba)\n",
      "File \u001b[0;32m~/Documents/master/ssvep-bci-project/src/ssvepcca/transformers.py:314\u001b[0m, in \u001b[0;36mSSVEPAlgorithm.__call__\u001b[0;34m(self, eeg)\u001b[0m\n\u001b[1;32m    313\u001b[0m \u001b[38;5;28;01mdef\u001b[39;00m \u001b[38;5;21m__call__\u001b[39m(\u001b[38;5;28mself\u001b[39m, eeg: EEGType) \u001b[38;5;241m-\u001b[39m\u001b[38;5;241m>\u001b[39m Tuple[np\u001b[38;5;241m.\u001b[39mintp, CorrelationType]:\n\u001b[0;32m--> 314\u001b[0m     res: Any \u001b[38;5;241m=\u001b[39m \u001b[43mchain_call_transformers\u001b[49m\u001b[43m(\u001b[49m\u001b[43meeg\u001b[49m\u001b[43m,\u001b[49m\u001b[43m \u001b[49m\u001b[38;5;241;43m*\u001b[39;49m\u001b[38;5;28;43mself\u001b[39;49m\u001b[38;5;241;43m.\u001b[39;49m\u001b[43mpipeline\u001b[49m\u001b[43m)\u001b[49m\n\u001b[1;32m    315\u001b[0m     \u001b[38;5;28;01mreturn\u001b[39;00m np\u001b[38;5;241m.\u001b[39margmax(res), res\n",
      "File \u001b[0;32m~/Documents/master/ssvep-bci-project/src/ssvepcca/transformers.py:301\u001b[0m, in \u001b[0;36mchain_call_transformers\u001b[0;34m(arg, *funcs)\u001b[0m\n\u001b[1;32m    299\u001b[0m \u001b[38;5;28;01mfor\u001b[39;00m i, f \u001b[38;5;129;01min\u001b[39;00m \u001b[38;5;28menumerate\u001b[39m(funcs):\n\u001b[1;32m    300\u001b[0m     t1 \u001b[38;5;241m=\u001b[39m time\u001b[38;5;241m.\u001b[39mperf_counter()\n\u001b[0;32m--> 301\u001b[0m     result \u001b[38;5;241m=\u001b[39m \u001b[43mf\u001b[49m\u001b[43m(\u001b[49m\u001b[43mresult\u001b[49m\u001b[43m)\u001b[49m\n\u001b[1;32m    302\u001b[0m     t2 \u001b[38;5;241m=\u001b[39m time\u001b[38;5;241m.\u001b[39mperf_counter()\n\u001b[1;32m    303\u001b[0m     \u001b[38;5;28mprint\u001b[39m(\u001b[38;5;124m\"\u001b[39m\u001b[38;5;124mcalled id \u001b[39m\u001b[38;5;124m\"\u001b[39m, i, \u001b[38;5;124m\"\u001b[39m\u001b[38;5;124m, time elapsed:\u001b[39m\u001b[38;5;124m\"\u001b[39m, t2\u001b[38;5;241m-\u001b[39mt1)\n",
      "File \u001b[0;32m~/Documents/master/ssvep-bci-project/src/ssvepcca/transformers.py:127\u001b[0m, in \u001b[0;36mCCAModeCorrelation.__call__\u001b[0;34m(self, eeg)\u001b[0m\n\u001b[1;32m    125\u001b[0m     \u001b[38;5;28;01mfor\u001b[39;00m proj \u001b[38;5;129;01min\u001b[39;00m \u001b[38;5;28mrange\u001b[39m(\u001b[38;5;28mself\u001b[39m\u001b[38;5;241m.\u001b[39mnum_projections):\n\u001b[1;32m    126\u001b[0m         cca_model \u001b[38;5;241m=\u001b[39m CCALearner(n_components\u001b[38;5;241m=\u001b[39m\u001b[38;5;28mself\u001b[39m\u001b[38;5;241m.\u001b[39mnum_components, max_iter\u001b[38;5;241m=\u001b[39m\u001b[38;5;28mself\u001b[39m\u001b[38;5;241m.\u001b[39mCCA_MAX_ITER, scale\u001b[38;5;241m=\u001b[39m\u001b[38;5;28;01mFalse\u001b[39;00m)\n\u001b[0;32m--> 127\u001b[0m         correlations[target, proj, :] \u001b[38;5;241m=\u001b[39m \u001b[43mcca_model\u001b[49m\u001b[38;5;241;43m.\u001b[39;49m\u001b[43mfit_correlation\u001b[49m\u001b[43m(\u001b[49m\u001b[43meeg\u001b[49m\u001b[38;5;241;43m.\u001b[39;49m\u001b[43mdata\u001b[49m\u001b[43m[\u001b[49m\u001b[43mproj\u001b[49m\u001b[43m,\u001b[49m\u001b[43m \u001b[49m\u001b[43m:\u001b[49m\u001b[43m,\u001b[49m\u001b[43m \u001b[49m\u001b[43m:\u001b[49m\u001b[43m]\u001b[49m\u001b[43m,\u001b[49m\u001b[43m \u001b[49m\u001b[43mharmonic\u001b[49m\u001b[43m)\u001b[49m\n\u001b[1;32m    129\u001b[0m \u001b[38;5;28;01mreturn\u001b[39;00m correlations\n",
      "File \u001b[0;32m~/Documents/master/ssvep-bci-project/src/ssvepcca/transformers.py:53\u001b[0m, in \u001b[0;36mCCALearner.fit_correlation\u001b[0;34m(self, X, Y, n_components)\u001b[0m\n\u001b[1;32m     52\u001b[0m \u001b[38;5;28;01mdef\u001b[39;00m \u001b[38;5;21mfit_correlation\u001b[39m(\u001b[38;5;28mself\u001b[39m, X: NDArray, Y: NDArray, n_components: Optional[\u001b[38;5;28mint\u001b[39m] \u001b[38;5;241m=\u001b[39m \u001b[38;5;28;01mNone\u001b[39;00m):\n\u001b[0;32m---> 53\u001b[0m     \u001b[38;5;28;01mreturn\u001b[39;00m \u001b[38;5;28;43mself\u001b[39;49m\u001b[38;5;241;43m.\u001b[39;49m\u001b[43mfit\u001b[49m\u001b[43m(\u001b[49m\u001b[43mX\u001b[49m\u001b[43m,\u001b[49m\u001b[43m \u001b[49m\u001b[43mY\u001b[49m\u001b[43m)\u001b[49m\u001b[38;5;241m.\u001b[39mcorrelation(X, Y, n_components)\n",
      "File \u001b[0;32m~/miniforge3/envs/conda-master/lib/python3.10/site-packages/sklearn/base.py:1152\u001b[0m, in \u001b[0;36m_fit_context.<locals>.decorator.<locals>.wrapper\u001b[0;34m(estimator, *args, **kwargs)\u001b[0m\n\u001b[1;32m   1145\u001b[0m     estimator\u001b[38;5;241m.\u001b[39m_validate_params()\n\u001b[1;32m   1147\u001b[0m \u001b[38;5;28;01mwith\u001b[39;00m config_context(\n\u001b[1;32m   1148\u001b[0m     skip_parameter_validation\u001b[38;5;241m=\u001b[39m(\n\u001b[1;32m   1149\u001b[0m         prefer_skip_nested_validation \u001b[38;5;129;01mor\u001b[39;00m global_skip_validation\n\u001b[1;32m   1150\u001b[0m     )\n\u001b[1;32m   1151\u001b[0m ):\n\u001b[0;32m-> 1152\u001b[0m     \u001b[38;5;28;01mreturn\u001b[39;00m \u001b[43mfit_method\u001b[49m\u001b[43m(\u001b[49m\u001b[43mestimator\u001b[49m\u001b[43m,\u001b[49m\u001b[43m \u001b[49m\u001b[38;5;241;43m*\u001b[39;49m\u001b[43margs\u001b[49m\u001b[43m,\u001b[49m\u001b[43m \u001b[49m\u001b[38;5;241;43m*\u001b[39;49m\u001b[38;5;241;43m*\u001b[39;49m\u001b[43mkwargs\u001b[49m\u001b[43m)\u001b[49m\n",
      "File \u001b[0;32m~/miniforge3/envs/conda-master/lib/python3.10/site-packages/sklearn/cross_decomposition/_pls.py:294\u001b[0m, in \u001b[0;36m_PLS.fit\u001b[0;34m(self, X, Y)\u001b[0m\n\u001b[1;32m    287\u001b[0m Yk[:, Yk_mask] \u001b[38;5;241m=\u001b[39m \u001b[38;5;241m0.0\u001b[39m\n\u001b[1;32m    289\u001b[0m \u001b[38;5;28;01mtry\u001b[39;00m:\n\u001b[1;32m    290\u001b[0m     (\n\u001b[1;32m    291\u001b[0m         x_weights,\n\u001b[1;32m    292\u001b[0m         y_weights,\n\u001b[1;32m    293\u001b[0m         n_iter_,\n\u001b[0;32m--> 294\u001b[0m     ) \u001b[38;5;241m=\u001b[39m \u001b[43m_get_first_singular_vectors_power_method\u001b[49m\u001b[43m(\u001b[49m\n\u001b[1;32m    295\u001b[0m \u001b[43m        \u001b[49m\u001b[43mXk\u001b[49m\u001b[43m,\u001b[49m\n\u001b[1;32m    296\u001b[0m \u001b[43m        \u001b[49m\u001b[43mYk\u001b[49m\u001b[43m,\u001b[49m\n\u001b[1;32m    297\u001b[0m \u001b[43m        \u001b[49m\u001b[43mmode\u001b[49m\u001b[38;5;241;43m=\u001b[39;49m\u001b[38;5;28;43mself\u001b[39;49m\u001b[38;5;241;43m.\u001b[39;49m\u001b[43mmode\u001b[49m\u001b[43m,\u001b[49m\n\u001b[1;32m    298\u001b[0m \u001b[43m        \u001b[49m\u001b[43mmax_iter\u001b[49m\u001b[38;5;241;43m=\u001b[39;49m\u001b[38;5;28;43mself\u001b[39;49m\u001b[38;5;241;43m.\u001b[39;49m\u001b[43mmax_iter\u001b[49m\u001b[43m,\u001b[49m\n\u001b[1;32m    299\u001b[0m \u001b[43m        \u001b[49m\u001b[43mtol\u001b[49m\u001b[38;5;241;43m=\u001b[39;49m\u001b[38;5;28;43mself\u001b[39;49m\u001b[38;5;241;43m.\u001b[39;49m\u001b[43mtol\u001b[49m\u001b[43m,\u001b[49m\n\u001b[1;32m    300\u001b[0m \u001b[43m        \u001b[49m\u001b[43mnorm_y_weights\u001b[49m\u001b[38;5;241;43m=\u001b[39;49m\u001b[43mnorm_y_weights\u001b[49m\u001b[43m,\u001b[49m\n\u001b[1;32m    301\u001b[0m \u001b[43m    \u001b[49m\u001b[43m)\u001b[49m\n\u001b[1;32m    302\u001b[0m \u001b[38;5;28;01mexcept\u001b[39;00m \u001b[38;5;167;01mStopIteration\u001b[39;00m \u001b[38;5;28;01mas\u001b[39;00m e:\n\u001b[1;32m    303\u001b[0m     \u001b[38;5;28;01mif\u001b[39;00m \u001b[38;5;28mstr\u001b[39m(e) \u001b[38;5;241m!=\u001b[39m \u001b[38;5;124m\"\u001b[39m\u001b[38;5;124mY residual is constant\u001b[39m\u001b[38;5;124m\"\u001b[39m:\n",
      "File \u001b[0;32m~/miniforge3/envs/conda-master/lib/python3.10/site-packages/sklearn/cross_decomposition/_pls.py:85\u001b[0m, in \u001b[0;36m_get_first_singular_vectors_power_method\u001b[0;34m(X, Y, mode, max_iter, tol, norm_y_weights)\u001b[0m\n\u001b[1;32m     76\u001b[0m x_weights_old \u001b[38;5;241m=\u001b[39m \u001b[38;5;241m100\u001b[39m  \u001b[38;5;66;03m# init to big value for first convergence check\u001b[39;00m\n\u001b[1;32m     78\u001b[0m \u001b[38;5;28;01mif\u001b[39;00m mode \u001b[38;5;241m==\u001b[39m \u001b[38;5;124m\"\u001b[39m\u001b[38;5;124mB\u001b[39m\u001b[38;5;124m\"\u001b[39m:\n\u001b[1;32m     79\u001b[0m     \u001b[38;5;66;03m# Precompute pseudo inverse matrices\u001b[39;00m\n\u001b[1;32m     80\u001b[0m     \u001b[38;5;66;03m# Basically: X_pinv = (X.T X)^-1 X.T\u001b[39;00m\n\u001b[0;32m   (...)\u001b[0m\n\u001b[1;32m     83\u001b[0m     \u001b[38;5;66;03m# B) will be unstable if n_features > n_samples or n_targets >\u001b[39;00m\n\u001b[1;32m     84\u001b[0m     \u001b[38;5;66;03m# n_samples\u001b[39;00m\n\u001b[0;32m---> 85\u001b[0m     X_pinv, Y_pinv \u001b[38;5;241m=\u001b[39m \u001b[43m_pinv2_old\u001b[49m\u001b[43m(\u001b[49m\u001b[43mX\u001b[49m\u001b[43m)\u001b[49m, _pinv2_old(Y)\n\u001b[1;32m     87\u001b[0m \u001b[38;5;28;01mfor\u001b[39;00m i \u001b[38;5;129;01min\u001b[39;00m \u001b[38;5;28mrange\u001b[39m(max_iter):\n\u001b[1;32m     88\u001b[0m     \u001b[38;5;28;01mif\u001b[39;00m mode \u001b[38;5;241m==\u001b[39m \u001b[38;5;124m\"\u001b[39m\u001b[38;5;124mB\u001b[39m\u001b[38;5;124m\"\u001b[39m:\n",
      "File \u001b[0;32m~/miniforge3/envs/conda-master/lib/python3.10/site-packages/sklearn/cross_decomposition/_pls.py:56\u001b[0m, in \u001b[0;36m_pinv2_old\u001b[0;34m(a)\u001b[0m\n\u001b[1;32m     54\u001b[0m u \u001b[38;5;241m=\u001b[39m u[:, :rank]\n\u001b[1;32m     55\u001b[0m u \u001b[38;5;241m/\u001b[39m\u001b[38;5;241m=\u001b[39m s[:rank]\n\u001b[0;32m---> 56\u001b[0m \u001b[38;5;28;01mreturn\u001b[39;00m np\u001b[38;5;241m.\u001b[39mtranspose(np\u001b[38;5;241m.\u001b[39mconjugate(\u001b[43mnp\u001b[49m\u001b[38;5;241;43m.\u001b[39;49m\u001b[43mdot\u001b[49m\u001b[43m(\u001b[49m\u001b[43mu\u001b[49m\u001b[43m,\u001b[49m\u001b[43m \u001b[49m\u001b[43mvh\u001b[49m\u001b[43m[\u001b[49m\u001b[43m:\u001b[49m\u001b[43mrank\u001b[49m\u001b[43m]\u001b[49m\u001b[43m)\u001b[49m))\n",
      "\u001b[0;31mKeyboardInterrupt\u001b[0m: "
     ]
    }
   ],
   "source": [
    "t1 = time.perf_counter()\n",
    "\n",
    "result_cca_spatio_temporal = test_fit_predict(\n",
    "    input_data, \n",
    "    SpatioTemporalCCA(\n",
    "        electrodes_name=electrode_list_fbcca,\n",
    "        start_time_idx=start_time_index,\n",
    "        stop_time_idx=stop_time_index,\n",
    "        num_harmonics=3,\n",
    "        window_gap=0,\n",
    "        window_length=9,\n",
    "    )\n",
    ")\n",
    "t2 = time.perf_counter()\n"
   ]
  },
  {
   "cell_type": "code",
   "execution_count": null,
   "id": "23d2658a-cf67-4fce-bc6a-a4e004c45e07",
   "metadata": {},
   "outputs": [],
   "source": [
    "print(t2 - t1)"
   ]
  },
  {
   "cell_type": "code",
   "execution_count": null,
   "id": "fc263fbe-29b4-4371-968e-bdb4c0a3ccd5",
   "metadata": {
    "tags": []
   },
   "outputs": [],
   "source": [
    "result_cca_spatio_temporal[2]"
   ]
  },
  {
   "cell_type": "code",
   "execution_count": null,
   "id": "bfed8cd8-7b05-438a-a1e3-682465494386",
   "metadata": {
    "tags": []
   },
   "outputs": [],
   "source": [
    "assert result_cca_spatio_temporal[2][0] == 234"
   ]
  },
  {
   "cell_type": "code",
   "execution_count": 37,
   "id": "05c5dbe3-a2a3-44d0-acff-3307256b0640",
   "metadata": {
    "collapsed": true,
    "jupyter": {
     "outputs_hidden": true
    },
    "scrolled": true,
    "tags": []
   },
   "outputs": [
    {
     "name": "stdout",
     "output_type": "stream",
     "text": [
      "[block 0] | Started\n",
      "[block 0] | Fit-predict for target 0\n",
      "called id  0 , time elapsed: 4.679099947679788e-05\n",
      "called id  1 , time elapsed: 3.459004801698029e-06\n",
      "called id  2 , time elapsed: 7.345899939537048e-05\n",
      "called id  3 , time elapsed: 1.500011421740055e-06\n",
      "called id  4 , time elapsed: 2.6670022634789348e-06\n"
     ]
    },
    {
     "ename": "KeyboardInterrupt",
     "evalue": "",
     "output_type": "error",
     "traceback": [
      "\u001b[0;31m---------------------------------------------------------------------------\u001b[0m",
      "\u001b[0;31mKeyboardInterrupt\u001b[0m                         Traceback (most recent call last)",
      "Cell \u001b[0;32mIn[37], line 1\u001b[0m\n\u001b[0;32m----> 1\u001b[0m result_cca_spatio_temporal2 \u001b[38;5;241m=\u001b[39m \u001b[43mtest_fit_predict\u001b[49m\u001b[43m(\u001b[49m\n\u001b[1;32m      2\u001b[0m \u001b[43m    \u001b[49m\u001b[43minput_data\u001b[49m\u001b[43m,\u001b[49m\u001b[43m \u001b[49m\n\u001b[1;32m      3\u001b[0m \u001b[43m    \u001b[49m\u001b[43mSpatioTemporalCCA\u001b[49m\u001b[43m(\u001b[49m\n\u001b[1;32m      4\u001b[0m \u001b[43m        \u001b[49m\u001b[43melectrodes_name\u001b[49m\u001b[38;5;241;43m=\u001b[39;49m\u001b[43melectrode_list_fbcca\u001b[49m\u001b[43m,\u001b[49m\n\u001b[1;32m      5\u001b[0m \u001b[43m        \u001b[49m\u001b[43mstart_time_idx\u001b[49m\u001b[38;5;241;43m=\u001b[39;49m\u001b[43mstart_time_index\u001b[49m\u001b[43m,\u001b[49m\n\u001b[1;32m      6\u001b[0m \u001b[43m        \u001b[49m\u001b[43mstop_time_idx\u001b[49m\u001b[38;5;241;43m=\u001b[39;49m\u001b[43mstop_time_index\u001b[49m\u001b[43m,\u001b[49m\n\u001b[1;32m      7\u001b[0m \u001b[43m        \u001b[49m\u001b[43mnum_harmonics\u001b[49m\u001b[38;5;241;43m=\u001b[39;49m\u001b[38;5;241;43m3\u001b[39;49m\u001b[43m,\u001b[49m\n\u001b[1;32m      8\u001b[0m \u001b[43m        \u001b[49m\u001b[43mwindow_gap\u001b[49m\u001b[38;5;241;43m=\u001b[39;49m\u001b[38;5;241;43m3\u001b[39;49m\u001b[43m,\u001b[49m\n\u001b[1;32m      9\u001b[0m \u001b[43m        \u001b[49m\u001b[43mwindow_length\u001b[49m\u001b[38;5;241;43m=\u001b[39;49m\u001b[38;5;241;43m1\u001b[39;49m\u001b[43m,\u001b[49m\n\u001b[1;32m     10\u001b[0m \u001b[43m    \u001b[49m\u001b[43m)\u001b[49m\n\u001b[1;32m     11\u001b[0m \u001b[43m)\u001b[49m\n",
      "File \u001b[0;32m~/miniforge3/envs/conda-master/lib/python3.10/site-packages/toolz/functoolz.py:304\u001b[0m, in \u001b[0;36mcurry.__call__\u001b[0;34m(self, *args, **kwargs)\u001b[0m\n\u001b[1;32m    302\u001b[0m \u001b[38;5;28;01mdef\u001b[39;00m \u001b[38;5;21m__call__\u001b[39m(\u001b[38;5;28mself\u001b[39m, \u001b[38;5;241m*\u001b[39margs, \u001b[38;5;241m*\u001b[39m\u001b[38;5;241m*\u001b[39mkwargs):\n\u001b[1;32m    303\u001b[0m     \u001b[38;5;28;01mtry\u001b[39;00m:\n\u001b[0;32m--> 304\u001b[0m         \u001b[38;5;28;01mreturn\u001b[39;00m \u001b[38;5;28;43mself\u001b[39;49m\u001b[38;5;241;43m.\u001b[39;49m\u001b[43m_partial\u001b[49m\u001b[43m(\u001b[49m\u001b[38;5;241;43m*\u001b[39;49m\u001b[43margs\u001b[49m\u001b[43m,\u001b[49m\u001b[43m \u001b[49m\u001b[38;5;241;43m*\u001b[39;49m\u001b[38;5;241;43m*\u001b[39;49m\u001b[43mkwargs\u001b[49m\u001b[43m)\u001b[49m\n\u001b[1;32m    305\u001b[0m     \u001b[38;5;28;01mexcept\u001b[39;00m \u001b[38;5;167;01mTypeError\u001b[39;00m \u001b[38;5;28;01mas\u001b[39;00m exc:\n\u001b[1;32m    306\u001b[0m         \u001b[38;5;28;01mif\u001b[39;00m \u001b[38;5;28mself\u001b[39m\u001b[38;5;241m.\u001b[39m_should_curry(args, kwargs, exc):\n",
      "File \u001b[0;32m~/Documents/master/ssvep-bci-project/src/ssvepcca/pipelines.py:67\u001b[0m, in \u001b[0;36mtest_fit_predict\u001b[0;34m(data, learner)\u001b[0m\n\u001b[1;32m     64\u001b[0m \u001b[38;5;28mprint\u001b[39m(\u001b[38;5;124mf\u001b[39m\u001b[38;5;124m\"\u001b[39m\u001b[38;5;124m[block \u001b[39m\u001b[38;5;132;01m{\u001b[39;00mblock\u001b[38;5;132;01m}\u001b[39;00m\u001b[38;5;124m] | Fit-predict for target \u001b[39m\u001b[38;5;132;01m{\u001b[39;00mtarget\u001b[38;5;132;01m}\u001b[39;00m\u001b[38;5;124m\"\u001b[39m)\n\u001b[1;32m     66\u001b[0m score_data \u001b[38;5;241m=\u001b[39m EEGType(data[block, target, :, :], \u001b[38;5;241m0\u001b[39m, rc\u001b[38;5;241m.\u001b[39mnum_samples)\n\u001b[0;32m---> 67\u001b[0m prediction, predict_proba \u001b[38;5;241m=\u001b[39m \u001b[43mlearner\u001b[49m\u001b[43m(\u001b[49m\u001b[43mscore_data\u001b[49m\u001b[43m)\u001b[49m\n\u001b[1;32m     69\u001b[0m predictions[block, target] \u001b[38;5;241m=\u001b[39m prediction\n\u001b[1;32m     70\u001b[0m predict_proba_list[block]\u001b[38;5;241m.\u001b[39mappend(predict_proba)\n",
      "File \u001b[0;32m~/Documents/master/ssvep-bci-project/src/ssvepcca/transformers.py:314\u001b[0m, in \u001b[0;36mSSVEPAlgorithm.__call__\u001b[0;34m(self, eeg)\u001b[0m\n\u001b[1;32m    313\u001b[0m \u001b[38;5;28;01mdef\u001b[39;00m \u001b[38;5;21m__call__\u001b[39m(\u001b[38;5;28mself\u001b[39m, eeg: EEGType) \u001b[38;5;241m-\u001b[39m\u001b[38;5;241m>\u001b[39m Tuple[np\u001b[38;5;241m.\u001b[39mintp, CorrelationType]:\n\u001b[0;32m--> 314\u001b[0m     res: Any \u001b[38;5;241m=\u001b[39m \u001b[43mchain_call_transformers\u001b[49m\u001b[43m(\u001b[49m\u001b[43meeg\u001b[49m\u001b[43m,\u001b[49m\u001b[43m \u001b[49m\u001b[38;5;241;43m*\u001b[39;49m\u001b[38;5;28;43mself\u001b[39;49m\u001b[38;5;241;43m.\u001b[39;49m\u001b[43mpipeline\u001b[49m\u001b[43m)\u001b[49m\n\u001b[1;32m    315\u001b[0m     \u001b[38;5;28;01mreturn\u001b[39;00m np\u001b[38;5;241m.\u001b[39margmax(res), res\n",
      "File \u001b[0;32m~/Documents/master/ssvep-bci-project/src/ssvepcca/transformers.py:301\u001b[0m, in \u001b[0;36mchain_call_transformers\u001b[0;34m(arg, *funcs)\u001b[0m\n\u001b[1;32m    299\u001b[0m \u001b[38;5;28;01mfor\u001b[39;00m i, f \u001b[38;5;129;01min\u001b[39;00m \u001b[38;5;28menumerate\u001b[39m(funcs):\n\u001b[1;32m    300\u001b[0m     t1 \u001b[38;5;241m=\u001b[39m time\u001b[38;5;241m.\u001b[39mperf_counter()\n\u001b[0;32m--> 301\u001b[0m     result \u001b[38;5;241m=\u001b[39m \u001b[43mf\u001b[49m\u001b[43m(\u001b[49m\u001b[43mresult\u001b[49m\u001b[43m)\u001b[49m\n\u001b[1;32m    302\u001b[0m     t2 \u001b[38;5;241m=\u001b[39m time\u001b[38;5;241m.\u001b[39mperf_counter()\n\u001b[1;32m    303\u001b[0m     \u001b[38;5;28mprint\u001b[39m(\u001b[38;5;124m\"\u001b[39m\u001b[38;5;124mcalled id \u001b[39m\u001b[38;5;124m\"\u001b[39m, i, \u001b[38;5;124m\"\u001b[39m\u001b[38;5;124m, time elapsed:\u001b[39m\u001b[38;5;124m\"\u001b[39m, t2\u001b[38;5;241m-\u001b[39mt1)\n",
      "File \u001b[0;32m~/Documents/master/ssvep-bci-project/src/ssvepcca/transformers.py:127\u001b[0m, in \u001b[0;36mCCAModeCorrelation.__call__\u001b[0;34m(self, eeg)\u001b[0m\n\u001b[1;32m    125\u001b[0m     \u001b[38;5;28;01mfor\u001b[39;00m proj \u001b[38;5;129;01min\u001b[39;00m \u001b[38;5;28mrange\u001b[39m(\u001b[38;5;28mself\u001b[39m\u001b[38;5;241m.\u001b[39mnum_projections):\n\u001b[1;32m    126\u001b[0m         cca_model \u001b[38;5;241m=\u001b[39m CCALearner(n_components\u001b[38;5;241m=\u001b[39m\u001b[38;5;28mself\u001b[39m\u001b[38;5;241m.\u001b[39mnum_components, max_iter\u001b[38;5;241m=\u001b[39m\u001b[38;5;28mself\u001b[39m\u001b[38;5;241m.\u001b[39mCCA_MAX_ITER, scale\u001b[38;5;241m=\u001b[39m\u001b[38;5;28;01mTrue\u001b[39;00m)\n\u001b[0;32m--> 127\u001b[0m         correlations[target, proj, :] \u001b[38;5;241m=\u001b[39m \u001b[43mcca_model\u001b[49m\u001b[38;5;241;43m.\u001b[39;49m\u001b[43mfit_correlation\u001b[49m\u001b[43m(\u001b[49m\u001b[43meeg\u001b[49m\u001b[38;5;241;43m.\u001b[39;49m\u001b[43mdata\u001b[49m\u001b[43m[\u001b[49m\u001b[43mproj\u001b[49m\u001b[43m,\u001b[49m\u001b[43m \u001b[49m\u001b[43m:\u001b[49m\u001b[43m,\u001b[49m\u001b[43m \u001b[49m\u001b[43m:\u001b[49m\u001b[43m]\u001b[49m\u001b[43m,\u001b[49m\u001b[43m \u001b[49m\u001b[43mharmonic\u001b[49m\u001b[43m)\u001b[49m\n\u001b[1;32m    129\u001b[0m \u001b[38;5;28;01mreturn\u001b[39;00m correlations\n",
      "File \u001b[0;32m~/Documents/master/ssvep-bci-project/src/ssvepcca/transformers.py:53\u001b[0m, in \u001b[0;36mCCALearner.fit_correlation\u001b[0;34m(self, X, Y, n_components)\u001b[0m\n\u001b[1;32m     52\u001b[0m \u001b[38;5;28;01mdef\u001b[39;00m \u001b[38;5;21mfit_correlation\u001b[39m(\u001b[38;5;28mself\u001b[39m, X: NDArray, Y: NDArray, n_components: Optional[\u001b[38;5;28mint\u001b[39m] \u001b[38;5;241m=\u001b[39m \u001b[38;5;28;01mNone\u001b[39;00m):\n\u001b[0;32m---> 53\u001b[0m     \u001b[38;5;28;01mreturn\u001b[39;00m \u001b[38;5;28;43mself\u001b[39;49m\u001b[38;5;241;43m.\u001b[39;49m\u001b[43mfit\u001b[49m\u001b[43m(\u001b[49m\u001b[43mX\u001b[49m\u001b[43m,\u001b[49m\u001b[43m \u001b[49m\u001b[43mY\u001b[49m\u001b[43m)\u001b[49m\u001b[38;5;241m.\u001b[39mcorrelation(X, Y, n_components)\n",
      "File \u001b[0;32m~/miniforge3/envs/conda-master/lib/python3.10/site-packages/sklearn/base.py:1152\u001b[0m, in \u001b[0;36m_fit_context.<locals>.decorator.<locals>.wrapper\u001b[0;34m(estimator, *args, **kwargs)\u001b[0m\n\u001b[1;32m   1145\u001b[0m     estimator\u001b[38;5;241m.\u001b[39m_validate_params()\n\u001b[1;32m   1147\u001b[0m \u001b[38;5;28;01mwith\u001b[39;00m config_context(\n\u001b[1;32m   1148\u001b[0m     skip_parameter_validation\u001b[38;5;241m=\u001b[39m(\n\u001b[1;32m   1149\u001b[0m         prefer_skip_nested_validation \u001b[38;5;129;01mor\u001b[39;00m global_skip_validation\n\u001b[1;32m   1150\u001b[0m     )\n\u001b[1;32m   1151\u001b[0m ):\n\u001b[0;32m-> 1152\u001b[0m     \u001b[38;5;28;01mreturn\u001b[39;00m \u001b[43mfit_method\u001b[49m\u001b[43m(\u001b[49m\u001b[43mestimator\u001b[49m\u001b[43m,\u001b[49m\u001b[43m \u001b[49m\u001b[38;5;241;43m*\u001b[39;49m\u001b[43margs\u001b[49m\u001b[43m,\u001b[49m\u001b[43m \u001b[49m\u001b[38;5;241;43m*\u001b[39;49m\u001b[38;5;241;43m*\u001b[39;49m\u001b[43mkwargs\u001b[49m\u001b[43m)\u001b[49m\n",
      "File \u001b[0;32m~/miniforge3/envs/conda-master/lib/python3.10/site-packages/sklearn/cross_decomposition/_pls.py:294\u001b[0m, in \u001b[0;36m_PLS.fit\u001b[0;34m(self, X, Y)\u001b[0m\n\u001b[1;32m    287\u001b[0m Yk[:, Yk_mask] \u001b[38;5;241m=\u001b[39m \u001b[38;5;241m0.0\u001b[39m\n\u001b[1;32m    289\u001b[0m \u001b[38;5;28;01mtry\u001b[39;00m:\n\u001b[1;32m    290\u001b[0m     (\n\u001b[1;32m    291\u001b[0m         x_weights,\n\u001b[1;32m    292\u001b[0m         y_weights,\n\u001b[1;32m    293\u001b[0m         n_iter_,\n\u001b[0;32m--> 294\u001b[0m     ) \u001b[38;5;241m=\u001b[39m \u001b[43m_get_first_singular_vectors_power_method\u001b[49m\u001b[43m(\u001b[49m\n\u001b[1;32m    295\u001b[0m \u001b[43m        \u001b[49m\u001b[43mXk\u001b[49m\u001b[43m,\u001b[49m\n\u001b[1;32m    296\u001b[0m \u001b[43m        \u001b[49m\u001b[43mYk\u001b[49m\u001b[43m,\u001b[49m\n\u001b[1;32m    297\u001b[0m \u001b[43m        \u001b[49m\u001b[43mmode\u001b[49m\u001b[38;5;241;43m=\u001b[39;49m\u001b[38;5;28;43mself\u001b[39;49m\u001b[38;5;241;43m.\u001b[39;49m\u001b[43mmode\u001b[49m\u001b[43m,\u001b[49m\n\u001b[1;32m    298\u001b[0m \u001b[43m        \u001b[49m\u001b[43mmax_iter\u001b[49m\u001b[38;5;241;43m=\u001b[39;49m\u001b[38;5;28;43mself\u001b[39;49m\u001b[38;5;241;43m.\u001b[39;49m\u001b[43mmax_iter\u001b[49m\u001b[43m,\u001b[49m\n\u001b[1;32m    299\u001b[0m \u001b[43m        \u001b[49m\u001b[43mtol\u001b[49m\u001b[38;5;241;43m=\u001b[39;49m\u001b[38;5;28;43mself\u001b[39;49m\u001b[38;5;241;43m.\u001b[39;49m\u001b[43mtol\u001b[49m\u001b[43m,\u001b[49m\n\u001b[1;32m    300\u001b[0m \u001b[43m        \u001b[49m\u001b[43mnorm_y_weights\u001b[49m\u001b[38;5;241;43m=\u001b[39;49m\u001b[43mnorm_y_weights\u001b[49m\u001b[43m,\u001b[49m\n\u001b[1;32m    301\u001b[0m \u001b[43m    \u001b[49m\u001b[43m)\u001b[49m\n\u001b[1;32m    302\u001b[0m \u001b[38;5;28;01mexcept\u001b[39;00m \u001b[38;5;167;01mStopIteration\u001b[39;00m \u001b[38;5;28;01mas\u001b[39;00m e:\n\u001b[1;32m    303\u001b[0m     \u001b[38;5;28;01mif\u001b[39;00m \u001b[38;5;28mstr\u001b[39m(e) \u001b[38;5;241m!=\u001b[39m \u001b[38;5;124m\"\u001b[39m\u001b[38;5;124mY residual is constant\u001b[39m\u001b[38;5;124m\"\u001b[39m:\n",
      "File \u001b[0;32m~/miniforge3/envs/conda-master/lib/python3.10/site-packages/sklearn/cross_decomposition/_pls.py:89\u001b[0m, in \u001b[0;36m_get_first_singular_vectors_power_method\u001b[0;34m(X, Y, mode, max_iter, tol, norm_y_weights)\u001b[0m\n\u001b[1;32m     87\u001b[0m \u001b[38;5;28;01mfor\u001b[39;00m i \u001b[38;5;129;01min\u001b[39;00m \u001b[38;5;28mrange\u001b[39m(max_iter):\n\u001b[1;32m     88\u001b[0m     \u001b[38;5;28;01mif\u001b[39;00m mode \u001b[38;5;241m==\u001b[39m \u001b[38;5;124m\"\u001b[39m\u001b[38;5;124mB\u001b[39m\u001b[38;5;124m\"\u001b[39m:\n\u001b[0;32m---> 89\u001b[0m         x_weights \u001b[38;5;241m=\u001b[39m \u001b[43mnp\u001b[49m\u001b[38;5;241;43m.\u001b[39;49m\u001b[43mdot\u001b[49m\u001b[43m(\u001b[49m\u001b[43mX_pinv\u001b[49m\u001b[43m,\u001b[49m\u001b[43m \u001b[49m\u001b[43my_score\u001b[49m\u001b[43m)\u001b[49m\n\u001b[1;32m     90\u001b[0m     \u001b[38;5;28;01melse\u001b[39;00m:\n\u001b[1;32m     91\u001b[0m         x_weights \u001b[38;5;241m=\u001b[39m np\u001b[38;5;241m.\u001b[39mdot(X\u001b[38;5;241m.\u001b[39mT, y_score) \u001b[38;5;241m/\u001b[39m np\u001b[38;5;241m.\u001b[39mdot(y_score, y_score)\n",
      "\u001b[0;31mKeyboardInterrupt\u001b[0m: "
     ]
    }
   ],
   "source": [
    "result_cca_spatio_temporal2 = test_fit_predict(\n",
    "    input_data, \n",
    "    SpatioTemporalCCA(\n",
    "        electrodes_name=electrode_list_fbcca,\n",
    "        start_time_idx=start_time_index,\n",
    "        stop_time_idx=stop_time_index,\n",
    "        num_harmonics=3,\n",
    "        window_gap=3,\n",
    "        window_length=1,\n",
    "    )\n",
    ")"
   ]
  },
  {
   "cell_type": "code",
   "execution_count": null,
   "id": "3e489f6e-e36b-4b63-a6b4-71a4c37a1f4d",
   "metadata": {
    "tags": []
   },
   "outputs": [],
   "source": [
    "result_cca_spatio_temporal2[2]"
   ]
  },
  {
   "cell_type": "code",
   "execution_count": null,
   "id": "7e1c5697-538c-4d19-bb7b-1fdf90fb1603",
   "metadata": {
    "tags": []
   },
   "outputs": [],
   "source": [
    "result_cca_spatio_temporal_zero = test_fit_predict(\n",
    "    input_data, \n",
    "    SpatioTemporalCCA(\n",
    "        electrodes_name=electrode_list_fbcca,\n",
    "        start_time_idx=start_time_index,\n",
    "        stop_time_idx=stop_time_index,\n",
    "        num_harmonics=3,\n",
    "        window_gap=0,\n",
    "        window_length=0,\n",
    "    )\n",
    ")"
   ]
  },
  {
   "cell_type": "code",
   "execution_count": null,
   "id": "fa987798-71df-44af-a840-113b1e7e55da",
   "metadata": {
    "tags": []
   },
   "outputs": [],
   "source": [
    "result_cca_spatio_temporal_zero[2]"
   ]
  },
  {
   "cell_type": "code",
   "execution_count": null,
   "id": "25e5b2b7-5716-410b-967c-3d887317cdc5",
   "metadata": {
    "tags": []
   },
   "outputs": [],
   "source": [
    "assert result_cca_spatio_temporal_zero[2][0] == 225"
   ]
  },
  {
   "cell_type": "code",
   "execution_count": null,
   "id": "b60e837c-20f2-4094-8ce9-9fd214999393",
   "metadata": {
    "tags": []
   },
   "outputs": [],
   "source": [
    "result_cca_spatio_temporal_fixed = k_fold_predict(\n",
    "    input_data, \n",
    "    CCASpatioTemporalFixed(\n",
    "        electrodes_name=electrode_list_fbcca,\n",
    "        start_time_index=start_time_index,\n",
    "        stop_time_index=stop_time_index,\n",
    "        num_harmonics=3,\n",
    "        window_gap=0,\n",
    "        window_length=9,\n",
    "    )\n",
    ")"
   ]
  },
  {
   "cell_type": "code",
   "execution_count": null,
   "id": "193c42d0-0480-4c92-92ea-6345f1476efe",
   "metadata": {
    "tags": []
   },
   "outputs": [],
   "source": [
    "result_cca_spatio_temporal_fixed[2]"
   ]
  },
  {
   "cell_type": "code",
   "execution_count": null,
   "id": "4931ac9b-dc1c-4326-8780-61c9a0e86879",
   "metadata": {
    "scrolled": true,
    "tags": []
   },
   "outputs": [],
   "source": [
    "result_cca_filter_bank_zero = test_fit_predict(\n",
    "    input_data, \n",
    "    FBSpatioTemporalCCA(\n",
    "        electrodes_name=electrode_list_fbcca,\n",
    "        start_time_index=start_time_index,\n",
    "        stop_time_index=stop_time_index,\n",
    "        num_harmonics=5,\n",
    "        window_gap=0,\n",
    "        window_length=0,\n",
    "        fb_num_subband=10,\n",
    "        fb_fundamental_freq=8,\n",
    "        fb_upper_bound_freq=88,\n",
    "    )\n",
    ")"
   ]
  },
  {
   "cell_type": "code",
   "execution_count": null,
   "id": "f7ae837d-28a5-441a-aa89-78f5911dfc64",
   "metadata": {
    "tags": []
   },
   "outputs": [],
   "source": [
    "result_cca_filter_bank_zero[2]"
   ]
  },
  {
   "cell_type": "code",
   "execution_count": null,
   "id": "52649e34-1e45-40d0-9c67-29c76571fd76",
   "metadata": {
    "tags": []
   },
   "outputs": [],
   "source": [
    "assert result_cca_filter_bank_zero[2][0] == 238"
   ]
  },
  {
   "cell_type": "code",
   "execution_count": null,
   "id": "1d750116-30a1-47e2-bdd6-7d6e1482c0e7",
   "metadata": {
    "tags": []
   },
   "outputs": [],
   "source": [
    "result_cca_filter_bank_0_9 = test_fit_predict(\n",
    "    input_data, \n",
    "    FBSpatioTemporalCCA(\n",
    "        electrodes_name=electrode_list_fbcca,\n",
    "        start_time_index=start_time_index,\n",
    "        stop_time_index=stop_time_index,\n",
    "        num_harmonics=5,\n",
    "        window_gap=0,\n",
    "        window_length=9,\n",
    "        fb_num_subband=10,\n",
    "        fb_fundamental_freq=8,\n",
    "        fb_upper_bound_freq=88,\n",
    "    )\n",
    ")"
   ]
  },
  {
   "cell_type": "code",
   "execution_count": null,
   "id": "52321a70-d435-4875-a111-a66a71457227",
   "metadata": {
    "tags": []
   },
   "outputs": [],
   "source": [
    "result_cca_filter_bank_0_9[2]"
   ]
  },
  {
   "cell_type": "code",
   "execution_count": null,
   "id": "ce91b3c6-01ba-4612-a2ac-3568e0c9c897",
   "metadata": {
    "scrolled": true,
    "tags": []
   },
   "outputs": [],
   "source": [
    "result_cca_filter_bank_5_1 = test_fit_predict(\n",
    "    input_data, \n",
    "    FBSpatioTemporalCCA(\n",
    "        electrodes_name=electrode_list_fbcca,\n",
    "        start_time_index=start_time_index,\n",
    "        stop_time_index=stop_time_index,\n",
    "        num_harmonics=5,\n",
    "        window_gap=5,\n",
    "        window_length=1,\n",
    "        fb_num_subband=10,\n",
    "        fb_fundamental_freq=8,\n",
    "        fb_upper_bound_freq=88,\n",
    "    )\n",
    ")"
   ]
  },
  {
   "cell_type": "code",
   "execution_count": null,
   "id": "561be016-424b-460a-a41d-1fe5effc94d6",
   "metadata": {
    "tags": []
   },
   "outputs": [],
   "source": [
    "result_cca_filter_bank_5_1[2]"
   ]
  },
  {
   "cell_type": "code",
   "execution_count": null,
   "id": "225d7acf-be25-4a3c-b2aa-a327ef0abe16",
   "metadata": {
    "tags": []
   },
   "outputs": [],
   "source": [
    "assert result_cca_filter_bank_5_1[2][0] == 235"
   ]
  },
  {
   "cell_type": "code",
   "execution_count": null,
   "id": "398c061e-6689-4362-951c-f3ffde371748",
   "metadata": {
    "tags": []
   },
   "outputs": [],
   "source": [
    "result_cca_filter_bank_2_1 = test_fit_predict(\n",
    "    input_data, \n",
    "    FBSpatioTemporalCCA(\n",
    "        electrodes_name=electrode_list_fbcca,\n",
    "        start_time_index=start_time_index,\n",
    "        stop_time_index=stop_time_index,\n",
    "        num_harmonics=5,\n",
    "        window_gap=2,\n",
    "        window_length=1,\n",
    "        fb_num_subband=10,\n",
    "        fb_fundamental_freq=8,\n",
    "        fb_upper_bound_freq=88,\n",
    "    )\n",
    ")"
   ]
  },
  {
   "cell_type": "code",
   "execution_count": null,
   "id": "d1450470-9e54-4910-a081-82a6ae644924",
   "metadata": {
    "tags": []
   },
   "outputs": [],
   "source": [
    "result_cca_filter_bank_2_1[2]"
   ]
  },
  {
   "cell_type": "code",
   "execution_count": null,
   "id": "93351e8c-6ed0-4d37-b9e5-ac4f5b358985",
   "metadata": {
    "tags": []
   },
   "outputs": [],
   "source": [
    "assert result_cca_filter_bank_2_1[2][0] == 236"
   ]
  },
  {
   "cell_type": "code",
   "execution_count": null,
   "id": "5b76a1f2-7f30-4489-8548-f132d5bd723a",
   "metadata": {
    "tags": []
   },
   "outputs": [],
   "source": [
    "result_cca_filter_bank_fixed_2_1 = k_fold_predict(\n",
    "    input_data, \n",
    "    FBSpatioTemporalCCAFixed(\n",
    "        electrodes_name=electrode_list_fbcca,\n",
    "        start_time_index=start_time_index,\n",
    "        stop_time_index=stop_time_index,\n",
    "        num_harmonics=5,\n",
    "        window_gap=2,\n",
    "        window_length=1,\n",
    "        fb_num_subband=10,\n",
    "        fb_fundamental_freq=8,\n",
    "        fb_upper_bound_freq=88,\n",
    "    )\n",
    ")"
   ]
  },
  {
   "cell_type": "code",
   "execution_count": null,
   "id": "f7abf2f5-d317-4297-aead-c5044ce5d773",
   "metadata": {
    "tags": []
   },
   "outputs": [],
   "source": [
    "result_cca_filter_bank_fixed_2_1[2]"
   ]
  },
  {
   "cell_type": "code",
   "execution_count": null,
   "id": "3aeaf6f4-450a-4856-8796-59a5f401d0a7",
   "metadata": {
    "tags": []
   },
   "outputs": [],
   "source": [
    "assert result_cca_filter_bank_fixed_2_1[2][0] == 240"
   ]
  },
  {
   "cell_type": "markdown",
   "id": "dade3c69-7ec4-4afd-949c-e3e870e66ecf",
   "metadata": {},
   "source": [
    "## develop"
   ]
  },
  {
   "cell_type": "code",
   "execution_count": null,
   "id": "19a235cd-cae2-4b26-99dd-3d7367ce86c5",
   "metadata": {
    "tags": []
   },
   "outputs": [],
   "source": [
    "input_data_enh = np.concatenate([\n",
    "    input_data,\n",
    "    input_data.mean(axis=3)[..., np.newaxis]\n",
    "], axis=3)"
   ]
  },
  {
   "cell_type": "code",
   "execution_count": null,
   "id": "057d8776-474b-4e12-bfdc-f6332942eef4",
   "metadata": {
    "tags": []
   },
   "outputs": [],
   "source": [
    "result_cca_single_component = test_fit_predict(\n",
    "    input_data_enh, \n",
    "    CCASingleComponent(\n",
    "        electrodes_name=electrode_list_fbcca + (\"dummy\",),\n",
    "        start_time_index=start_time_index,\n",
    "        stop_time_index=stop_time_index,\n",
    "    )\n",
    ")"
   ]
  },
  {
   "cell_type": "code",
   "execution_count": null,
   "id": "84536cbd-614d-4a4c-9a9f-6526b4a84dfd",
   "metadata": {
    "tags": []
   },
   "outputs": [],
   "source": [
    "result_cca_single_component[2]"
   ]
  },
  {
   "cell_type": "code",
   "execution_count": null,
   "id": "dc81ebcb-3011-4faf-8741-d93f14520ae3",
   "metadata": {
    "tags": []
   },
   "outputs": [],
   "source": [
    "result_cca_fixed_coefficients = k_fold_predict(\n",
    "    input_data_enh, \n",
    "    CCAFixedCoefficients(\n",
    "        electrodes_name=electrode_list_fbcca + (\"dummy\",),\n",
    "        start_time_index=start_time_index,\n",
    "        stop_time_index=stop_time_index,\n",
    "    )\n",
    ")"
   ]
  },
  {
   "cell_type": "code",
   "execution_count": null,
   "id": "3242f95c-3c79-4830-9be7-1c7a157ae02d",
   "metadata": {
    "tags": []
   },
   "outputs": [],
   "source": [
    "result_cca_fixed_coefficients[2]"
   ]
  },
  {
   "cell_type": "code",
   "execution_count": null,
   "id": "d3279e43-623f-4f3e-a69f-31897a8d4bec",
   "metadata": {
    "tags": []
   },
   "outputs": [],
   "source": [
    "result_cca_spatio_temporal = test_fit_predict(\n",
    "    input_data_enh, \n",
    "    CCASpatioTemporal(\n",
    "        electrodes_name=electrode_list_fbcca + (\"dummy\",),\n",
    "        start_time_index=start_time_index,\n",
    "        stop_time_index=stop_time_index,\n",
    "        num_harmonics=3,\n",
    "        window_gap=0,\n",
    "        window_length=9,\n",
    "    )\n",
    ")"
   ]
  },
  {
   "cell_type": "code",
   "execution_count": null,
   "id": "b00df4c6-484f-4368-b31a-b0014f35051a",
   "metadata": {
    "tags": []
   },
   "outputs": [],
   "source": [
    "result_cca_spatio_temporal[2]"
   ]
  },
  {
   "cell_type": "code",
   "execution_count": null,
   "id": "a924fb7e-348d-4ed8-8290-432205009da5",
   "metadata": {},
   "outputs": [],
   "source": []
  }
 ],
 "metadata": {
  "kernelspec": {
   "display_name": "Python 3 (ipykernel)",
   "language": "python",
   "name": "python3"
  },
  "language_info": {
   "codemirror_mode": {
    "name": "ipython",
    "version": 3
   },
   "file_extension": ".py",
   "mimetype": "text/x-python",
   "name": "python",
   "nbconvert_exporter": "python",
   "pygments_lexer": "ipython3",
   "version": "3.10.13"
  }
 },
 "nbformat": 4,
 "nbformat_minor": 5
}
