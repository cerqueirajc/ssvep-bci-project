{
 "cells": [
  {
   "cell_type": "code",
   "execution_count": null,
   "id": "e9ece420-01e2-42da-8753-e4927234a0f7",
   "metadata": {
    "tags": []
   },
   "outputs": [],
   "source": [
    "%load_ext autoreload\n",
    "%autoreload 2"
   ]
  },
  {
   "cell_type": "code",
   "execution_count": null,
   "id": "53bf8323-ac17-4abe-b03a-9c4d9cafb9fc",
   "metadata": {
    "tags": []
   },
   "outputs": [],
   "source": [
    "import os\n",
    "\n",
    "import numpy as np\n",
    "import pandas as pd\n",
    "pd.set_option('display.max_rows', 500)\n",
    "pd.set_option('display.max_columns', 500)\n",
    "\n",
    "import re"
   ]
  },
  {
   "cell_type": "code",
   "execution_count": null,
   "id": "fd094e4f-9b38-4aa8-be0b-1f78b9192887",
   "metadata": {
    "tags": []
   },
   "outputs": [],
   "source": [
    "import matplotlib.pyplot as plt\n",
    "import seaborn as sns"
   ]
  },
  {
   "cell_type": "code",
   "execution_count": null,
   "id": "0a47872f-001a-41ef-a45b-56a2824f0f83",
   "metadata": {
    "tags": []
   },
   "outputs": [],
   "source": [
    "results_root_path = \"ssvep-bci-project/results/scripts_new\"\n",
    "script_list = os.listdir(results_root_path)"
   ]
  },
  {
   "cell_type": "code",
   "execution_count": null,
   "id": "4de4756b-c970-4899-9a30-6027cd22e43c",
   "metadata": {
    "tags": []
   },
   "outputs": [],
   "source": [
    "script_list.sort()"
   ]
  },
  {
   "cell_type": "code",
   "execution_count": null,
   "id": "fd73ecfc-f41c-4393-b2c6-ea3c5e46b566",
   "metadata": {
    "tags": []
   },
   "outputs": [],
   "source": [
    "script_list"
   ]
  },
  {
   "cell_type": "code",
   "execution_count": null,
   "id": "fc777daa-b2ab-49bf-9967-d5f929e37b6b",
   "metadata": {
    "tags": []
   },
   "outputs": [],
   "source": [
    "acc_list = []\n",
    "\n",
    "for script in script_list:\n",
    "    runs = os.listdir(f\"{results_root_path}/{script}\")\n",
    "    for run in runs:\n",
    "        acc = np.load(f\"{results_root_path}/{script}/{run}/accuracy.npy\")\n",
    "        acc_list.append(\n",
    "            pd.DataFrame(acc, columns=[\"correct_predictions\", \"accuracy\"])\n",
    "            .assign(script=script, run=run)\n",
    "            .reset_index()\n",
    "            .rename(columns={\"index\": \"subject\"})\n",
    "        )\n",
    "    \n",
    "dataframe = pd.concat(acc_list)"
   ]
  },
  {
   "cell_type": "code",
   "execution_count": null,
   "id": "1f9128b9-8f2c-4c83-a05f-21d293de1317",
   "metadata": {
    "tags": []
   },
   "outputs": [],
   "source": [
    "def add_delta_tau_to_dataframe(df):\n",
    "    \n",
    "    return df.assign(\n",
    "        delta=df[\"run\"].apply(lambda x: int(re.findall(r'\\d+', x)[0])),\n",
    "        tau=df[\"run\"].apply(lambda x: int(re.findall(r'\\d+', x)[1]))\n",
    "    )"
   ]
  },
  {
   "cell_type": "markdown",
   "id": "166f962d-f68d-42f1-be80-2d1da7c451aa",
   "metadata": {},
   "source": [
    "## Experimento 1"
   ]
  },
  {
   "cell_type": "code",
   "execution_count": null,
   "id": "7339e123-76ca-42cb-8d8f-9249f8d5f324",
   "metadata": {
    "tags": []
   },
   "outputs": [],
   "source": [
    "res_ss_cca = (\n",
    "    dataframe\n",
    "    .groupby([\"script\", \"run\",\n",
    "              \"subject\"\n",
    "             ]).agg({\n",
    "        \"accuracy\": \"mean\",\n",
    "        \"correct_predictions\": \"sum\",\n",
    "    })\n",
    "    .loc[\"ss_cca_hp_gridsearch_harmonics_equalized\"]\n",
    "    .sort_values(by=\"accuracy\", ascending=False)\n",
    "    .reset_index()\n",
    "    .pipe(add_delta_tau_to_dataframe)\n",
    ")"
   ]
  },
  {
   "cell_type": "code",
   "execution_count": null,
   "id": "c705a2af-b79a-4284-8ed1-9eefa315e6ca",
   "metadata": {
    "tags": []
   },
   "outputs": [],
   "source": [
    "res_ss_cca.groupby([\"run\", \"tau\", \"delta\"])[\"accuracy\"].mean().reset_index().sort_values(by=\"accuracy\", ascending=False)"
   ]
  },
  {
   "cell_type": "code",
   "execution_count": null,
   "id": "3274413d-9ec1-4a51-a958-e244afa32c9f",
   "metadata": {
    "tags": []
   },
   "outputs": [],
   "source": [
    "# plt.figure(figsize=(8,4))\n",
    "ax = sns.lineplot(\n",
    "    data=res_ss_cca.sort_values(\"delta\"),\n",
    "    x=\"delta\",\n",
    "    y=\"accuracy\"\n",
    ")\n",
    "ax.set_ylabel(\"Acurácia\")\n",
    "ax.set_xlabel(\"Atraso do filtro $\\delta$\")\n",
    "ax.set_title(\"$\\delta$ vs. Acurácia - Algoritmo SS-CCA Correlação\")\n",
    "sns.despine()\n",
    "\n",
    "plt.savefig(\"images/delta_acc_ss_cca_correlacao.svg\", format=\"svg\", dpi=2000)\n",
    "plt.show()"
   ]
  },
  {
   "cell_type": "code",
   "execution_count": null,
   "id": "dd61b271-0eda-4db1-90fe-1a12129728b8",
   "metadata": {
    "tags": []
   },
   "outputs": [],
   "source": [
    "res_ss_cca_fixed = (\n",
    "    dataframe\n",
    "    .groupby([\"script\", \"run\",\n",
    "              \"subject\"\n",
    "             ]).agg({\n",
    "        \"accuracy\": \"mean\",\n",
    "        \"correct_predictions\": \"sum\",\n",
    "    })\n",
    "    .loc[\"ss_cca_fixed_hp_gridsearch_harmonics_equalized\"]\n",
    "    .sort_values(by=\"accuracy\", ascending=False)\n",
    "    .reset_index()\n",
    "    .pipe(add_delta_tau_to_dataframe)\n",
    ")"
   ]
  },
  {
   "cell_type": "code",
   "execution_count": null,
   "id": "01e33bc0-d9e9-4acf-a7b0-701a4748f136",
   "metadata": {
    "tags": []
   },
   "outputs": [],
   "source": [
    "res_ss_cca_fixed.groupby([\"run\", \"tau\", \"delta\"])[\"accuracy\"].mean().reset_index().sort_values(by=\"accuracy\", ascending=False)"
   ]
  },
  {
   "cell_type": "code",
   "execution_count": null,
   "id": "1b794d97-f11f-4cbc-8f4c-c52278831c0f",
   "metadata": {
    "tags": []
   },
   "outputs": [],
   "source": [
    "# plt.figure(figsize=(8,4))\n",
    "ax = sns.lineplot(\n",
    "    data=res_ss_cca_fixed.sort_values(\"delta\"),\n",
    "    x=\"delta\",\n",
    "    y=\"accuracy\",\n",
    "    errorbar=(\"se\", 2)\n",
    ")\n",
    "ax.set_ylabel(\"Acurácia\")\n",
    "ax.set_xlabel(\"Atraso do filtro $\\delta$\")\n",
    "ax.set_title(\"$\\delta$ vs. Acurácia - Algoritmo SS-CCA Filtro\")\n",
    "sns.despine()\n",
    "\n",
    "plt.savefig(\"images/delta_acc_ss_cca_filtro.svg\", format=\"svg\", dpi=2000)\n",
    "plt.show()"
   ]
  },
  {
   "cell_type": "code",
   "execution_count": null,
   "id": "8b28b69f-8e91-4af8-b309-a990f5ca45e0",
   "metadata": {
    "tags": []
   },
   "outputs": [],
   "source": [
    "res_fir_cca_all = (\n",
    "    dataframe\n",
    "    .groupby([\"script\", \"run\",\n",
    "              \"subject\"\n",
    "             ]).agg({\n",
    "        \"accuracy\": \"mean\",\n",
    "        \"correct_predictions\": \"sum\",\n",
    "    })\n",
    "    .loc[[\"ss_cca_hp_gridsearch_harmonics_equalized\", \"ss_cca_fixed_hp_gridsearch_harmonics_equalized\"]]\n",
    "    .sort_values(by=\"accuracy\", ascending=False)\n",
    "    .reset_index()\n",
    "    .pipe(add_delta_tau_to_dataframe)\n",
    "    [lambda x: x[\"tau\"]<=30]\n",
    "    .assign(Algoritmo=lambda x: x[\"script\"].map({\n",
    "        \"ss_cca_hp_gridsearch_harmonics_equalized\": \"SS-CCA Correlação\",\n",
    "        \"ss_cca_fixed_hp_gridsearch_harmonics_equalized\": \"SS-CCA Projeção\",\n",
    "    }))\n",
    ")\n",
    "\n",
    "g = sns.relplot(\n",
    "    data=res_fir_cca_all.sort_values([\"delta\", \"script\"]),\n",
    "    x=\"delta\",\n",
    "    y=\"accuracy\",\n",
    "    col=\"Algoritmo\",\n",
    "    col_order=[\"SS-CCA Correlação\", \"SS-CCA Projeção\"],\n",
    "    errorbar=(\"se\", 2),\n",
    "    kind=\"line\",\n",
    "    facet_kws={\"sharey\": False}\n",
    ")\n",
    "\n",
    "g.set_ylabels(\"Acurácia\")\n",
    "g.set_xlabels(\"Atraso do filtro $\\delta$\")\n",
    "g.fig.suptitle(\"$\\delta$ vs. Acurácia - Algoritmo SS-CCA\", fontsize=16)\n",
    "g.fig.subplots_adjust(top=.85)\n",
    "sns.despine()\n",
    "\n",
    "plt.savefig(\"images/delta_acc_ss_cca_all.svg\", format=\"svg\", dpi=2000)\n",
    "plt.show()"
   ]
  },
  {
   "cell_type": "markdown",
   "id": "dff752d4-e96f-4153-9723-63c36ece8f7f",
   "metadata": {
    "execution": {
     "iopub.execute_input": "2023-08-20T22:24:13.672453Z",
     "iopub.status.busy": "2023-08-20T22:24:13.671975Z",
     "iopub.status.idle": "2023-08-20T22:24:13.712171Z",
     "shell.execute_reply": "2023-08-20T22:24:13.710938Z",
     "shell.execute_reply.started": "2023-08-20T22:24:13.672413Z"
    },
    "tags": []
   },
   "source": [
    "## Experimento 2"
   ]
  },
  {
   "cell_type": "code",
   "execution_count": null,
   "id": "b6fa23ee-9882-4c56-917d-a49da44c7aa7",
   "metadata": {
    "tags": []
   },
   "outputs": [],
   "source": [
    "res_fir_cca = (\n",
    "    dataframe\n",
    "    .groupby([\"script\", \"run\",\n",
    "              \"subject\"\n",
    "             ]).agg({\n",
    "        \"accuracy\": \"mean\",\n",
    "        \"correct_predictions\": \"sum\",\n",
    "    })\n",
    "    .loc[\"fir_cca_hp_gridsearch_harmonics_equalized\"]\n",
    "    .sort_values(by=\"accuracy\", ascending=False)\n",
    "    .reset_index()\n",
    "    .pipe(add_delta_tau_to_dataframe)\n",
    ")"
   ]
  },
  {
   "cell_type": "code",
   "execution_count": null,
   "id": "cc3d051b-051a-4880-ab81-20309f6c3f7e",
   "metadata": {
    "tags": []
   },
   "outputs": [],
   "source": [
    "res_fir_cca.groupby([\"run\", \"tau\", \"delta\"])[\"accuracy\"].mean().reset_index().sort_values(by=\"accuracy\", ascending=False)"
   ]
  },
  {
   "cell_type": "code",
   "execution_count": null,
   "id": "82a46782-af44-4f08-9a25-ef5c6082b47c",
   "metadata": {
    "tags": []
   },
   "outputs": [],
   "source": [
    "# plt.figure(figsize=(8,4))\n",
    "ax = sns.lineplot(\n",
    "    data=res_fir_cca.sort_values(\"delta\"),\n",
    "    x=\"tau\",\n",
    "    y=\"accuracy\",\n",
    "    errorbar=(\"se\", 2)\n",
    ")\n",
    "ax.set_ylabel(\"Acurácia\")\n",
    "ax.set_xlabel(\"Tamanho do filtro $\\u03C4$\")\n",
    "ax.set_title(\"$\\u03C4$ vs. Acurácia - Algoritmo SS-CCA Correlação\")\n",
    "sns.despine()\n",
    "\n",
    "plt.savefig(\"images/tau_acc_fir_cca_correlacao.svg\", format=\"svg\", dpi=2000)\n",
    "plt.show()"
   ]
  },
  {
   "cell_type": "code",
   "execution_count": null,
   "id": "d23bc9e2-c342-43f2-94b7-dca3fc16013b",
   "metadata": {
    "tags": []
   },
   "outputs": [],
   "source": [
    "res_fir_cca_fixed = (\n",
    "    dataframe\n",
    "    .groupby([\"script\", \"run\",\n",
    "              \"subject\"\n",
    "             ]).agg({\n",
    "        \"accuracy\": \"mean\",\n",
    "        \"correct_predictions\": \"sum\",\n",
    "    })\n",
    "    .loc[\"fir_cca_fixed_hp_gridsearch_harmonics_equalized\"]\n",
    "    .sort_values(by=\"accuracy\", ascending=False)\n",
    "    .reset_index()\n",
    "    .pipe(add_delta_tau_to_dataframe)\n",
    ")"
   ]
  },
  {
   "cell_type": "code",
   "execution_count": null,
   "id": "913886ed-8c63-41d4-b6f4-373969d762c9",
   "metadata": {
    "tags": []
   },
   "outputs": [],
   "source": [
    "res_fir_cca_fixed.groupby([\"run\", \"tau\", \"delta\"])[\"accuracy\"].mean().reset_index().sort_values(by=\"accuracy\", ascending=False)"
   ]
  },
  {
   "cell_type": "code",
   "execution_count": null,
   "id": "0b0f801f-4e55-4836-89a3-a3fb9de85765",
   "metadata": {
    "tags": []
   },
   "outputs": [],
   "source": [
    "ax = sns.lineplot(\n",
    "    data=res_fir_cca_fixed.sort_values(\"delta\"),\n",
    "    x=\"tau\",\n",
    "    y=\"accuracy\",\n",
    "    errorbar=(\"se\", 2)\n",
    ")\n",
    "ax.set_ylabel(\"Acurácia\")\n",
    "ax.set_xlabel(\"Tamanho do filtro $\\u03C4$\")\n",
    "ax.set_title(\"$\\u03C4$ vs. Acurácia - Algoritmo SS-CCA Filtro\")\n",
    "sns.despine()\n",
    "\n",
    "plt.savefig(\"images/tau_acc_fir_cca_filtro.svg\", format=\"svg\", dpi=2000)\n",
    "plt.show()"
   ]
  },
  {
   "cell_type": "code",
   "execution_count": null,
   "id": "794d5b91-04bd-4ab2-9e62-759ef3bf6948",
   "metadata": {
    "tags": []
   },
   "outputs": [],
   "source": [
    "res_fir_cca_all = (\n",
    "    dataframe\n",
    "    .groupby([\"script\", \"run\",\n",
    "              \"subject\"\n",
    "             ]).agg({\n",
    "        \"accuracy\": \"mean\",\n",
    "        \"correct_predictions\": \"sum\",\n",
    "    })\n",
    "    .loc[[\"fir_cca_hp_gridsearch_harmonics_equalized\", \"fir_cca_fixed_hp_gridsearch_harmonics_equalized\"]]\n",
    "    .sort_values(by=\"accuracy\", ascending=False)\n",
    "    .reset_index()\n",
    "    .pipe(add_delta_tau_to_dataframe)\n",
    "    [lambda x: x[\"tau\"]<=30]\n",
    "    .assign(Algoritmo=lambda x: x[\"script\"].map({\n",
    "        \"fir_cca_hp_gridsearch_harmonics_equalized\": \"FIR-CCA Correlação\",\n",
    "        \"fir_cca_fixed_hp_gridsearch_harmonics_equalized\": \"FIR-CCA Projeção\",\n",
    "    }))\n",
    ")\n",
    "\n",
    "g = sns.relplot(\n",
    "    data=res_fir_cca_all.sort_values([\"delta\", \"script\"]),\n",
    "    x=\"tau\",\n",
    "    y=\"accuracy\",\n",
    "    col=\"Algoritmo\",\n",
    "    col_order=[\"FIR-CCA Correlação\", \"FIR-CCA Projeção\"],\n",
    "    errorbar=(\"se\", 2),\n",
    "    kind=\"line\",\n",
    "    facet_kws={\"sharey\": False}\n",
    ")\n",
    "\n",
    "g.set_ylabels(\"Acurácia\")\n",
    "g.set_xlabels(\"Tamanho do filtro $\\u03C4$\")\n",
    "g.fig.suptitle(\"$\\u03C4$ vs. Acurácia - Algoritmo FIR-CCA\", fontsize=16)\n",
    "g.fig.subplots_adjust(top=.85)\n",
    "sns.despine()\n",
    "\n",
    "plt.savefig(\"images/tau_acc_fir_cca_all.svg\", format=\"svg\", dpi=2000)\n",
    "plt.show()"
   ]
  },
  {
   "cell_type": "markdown",
   "id": "a06d5cb2-960d-40bc-94cf-931cb5d994c2",
   "metadata": {
    "execution": {
     "iopub.execute_input": "2023-08-20T22:26:02.703428Z",
     "iopub.status.busy": "2023-08-20T22:26:02.702925Z",
     "iopub.status.idle": "2023-08-20T22:26:02.742933Z",
     "shell.execute_reply": "2023-08-20T22:26:02.741689Z",
     "shell.execute_reply.started": "2023-08-20T22:26:02.703390Z"
    },
    "tags": []
   },
   "source": [
    "## Experimento 3"
   ]
  },
  {
   "cell_type": "code",
   "execution_count": null,
   "id": "d70bd7bb-5dfa-446b-8ad5-fe119a9ec5c0",
   "metadata": {
    "tags": []
   },
   "outputs": [],
   "source": [
    "overall_2s = (\n",
    "    dataframe.groupby([\"script\", \"run\"]).agg({\n",
    "        \"accuracy\": \"mean\",\n",
    "        \"correct_predictions\": \"sum\",\n",
    "    })\n",
    "    .sort_values(by=\"accuracy\", ascending=False)\n",
    "    .loc[\"overall_benchmark_harmonics_equalized\"].sort_index()\n",
    ")"
   ]
  },
  {
   "cell_type": "code",
   "execution_count": null,
   "id": "544b910f-7c0a-439c-84f9-d9d1c60eae77",
   "metadata": {
    "tags": []
   },
   "outputs": [],
   "source": [
    "overall_2s = overall_2s.reset_index()"
   ]
  },
  {
   "cell_type": "code",
   "execution_count": null,
   "id": "716a0d57-2fe7-41c7-a967-30e309b0034f",
   "metadata": {
    "tags": []
   },
   "outputs": [],
   "source": [
    "overall_2s[\"Configuracao\"] = overall_2s[\"run\"].str.contains(\"Fixed\").map({False: \"Correlação\",\n",
    "                                                                          True: \"Projeção\"})\n",
    "\n",
    "overall_2s[\"Acurácia\"] = overall_2s[\"accuracy\"].round(3)\n",
    "\n",
    "def clean_run_name(s):\n",
    "    l = s.replace(\"_Fixed\", \"\").split(\"_\")[1:-1]\n",
    "    return \"_\".join(l)\n",
    "\n",
    "overall_2s[\"Algoritmo\"] = overall_2s[\"run\"].apply(clean_run_name)"
   ]
  },
  {
   "cell_type": "code",
   "execution_count": null,
   "id": "2a4adcdd-0178-4a6c-bb61-de29538b5983",
   "metadata": {
    "tags": []
   },
   "outputs": [],
   "source": [
    "overall_2s = overall_2s.set_index([\"Configuracao\", \"Algoritmo\"])[\"Acurácia\"].unstack(0).iloc[[\n",
    "    0, 5, 4, 1, 3, 2\n",
    "]]\n",
    "overall_2s"
   ]
  },
  {
   "cell_type": "code",
   "execution_count": null,
   "id": "95207814-4731-4e79-9eeb-dec50901d7a1",
   "metadata": {
    "tags": []
   },
   "outputs": [],
   "source": [
    "# overall_2s.columns = [[\"Configuracao\", \"Configuracao\"], [\"Correlação\", \"Filtro\"]]\n",
    "overall_2s.index = [\n",
    "    \"CCA Default\",\n",
    "    \"SS-CCA (delta=3)\",\n",
    "    \"FIR-CCA (delta=0, tau=5)\",\n",
    "    \"FB-CCA\",\n",
    "    \"SS-FB-CCA (delta=3)\",\n",
    "    \"FIR-FB-CCA (delta=0, tau=5)\",\n",
    "]\n",
    "overall_2s.index.name = \"Algoritmo\"\n",
    "\n",
    "overall_2s"
   ]
  },
  {
   "cell_type": "code",
   "execution_count": null,
   "id": "c1b2e784-344f-4eb6-939e-7ebed397d893",
   "metadata": {
    "tags": []
   },
   "outputs": [],
   "source": [
    "print(overall_2s.to_latex(decimal=\",\"))\n",
    "overall_2s"
   ]
  },
  {
   "cell_type": "code",
   "execution_count": null,
   "id": "ba97ebc5-a5b8-4c16-9d8f-eaaf5d4be7dd",
   "metadata": {
    "tags": []
   },
   "outputs": [],
   "source": [
    "dataframe.groupby([\"script\", \"run\"]).agg({\n",
    "    \"accuracy\": \"mean\",\n",
    "    \"correct_predictions\": \"sum\",\n",
    "}).sort_values(by=\"accuracy\", ascending=False).loc[\"overall_benchmark_3s\"].sort_index()"
   ]
  },
  {
   "cell_type": "code",
   "execution_count": null,
   "id": "07f2f183-2486-4ab0-988b-be2e3241a660",
   "metadata": {
    "tags": []
   },
   "outputs": [],
   "source": [
    "dataframe.groupby([\"script\", \"run\"]).agg({\n",
    "    \"accuracy\": \"mean\",\n",
    "    \"correct_predictions\": \"sum\",\n",
    "}).sort_values(by=\"accuracy\", ascending=False).loc[\"overall_benchmark_harmonics_equalized\"].sort_index()"
   ]
  },
  {
   "cell_type": "markdown",
   "id": "b6ad1f9a-9a07-4f1a-952c-fd2c9cf758fe",
   "metadata": {},
   "source": [
    "# Anotações"
   ]
  },
  {
   "cell_type": "markdown",
   "id": "920b1ebb-16a7-4568-a2a4-21d57c443a5c",
   "metadata": {},
   "source": [
    "CCA\n",
    "- numero de harmonicas\n",
    "- tamanho da janela\n",
    "- lista de eletrodos\n",
    "\n",
    "Spatial:\n",
    "- tamanho do passo\n",
    "- tamanho da janela\n",
    "+ experimentar fazer a curva de desempenho vs tamanho da janela, fixando o passo em 0\n",
    "+ explicar que estamos usando os primeiro 500ms para preencher o filtro FIR das primeiras amostras\n",
    "\n",
    "Filter bank:\n",
    "- número de filtros\n",
    "- hiperparâmetros do kernel arbitrário"
   ]
  },
  {
   "cell_type": "markdown",
   "id": "3eb81104-0ec9-430e-800e-f9d4a5600e89",
   "metadata": {},
   "source": [
    "## Revisão bibliográfica\n",
    "\n",
    "- Artigo 2011: algoritmo que detecta a fase\n",
    "- Artigo de 2014a: usa o EEG de treino averaged como um sinal de referência para o CCA\n",
    "- Artigo de 2014b: utiliza o CCA como estimador de um filtro espacial que é utilizado em seguida (identico ao que estamos chamando de fixed).\n",
    "\n",
    "\n",
    "## Experimentos\n",
    "\n",
    "Sempre janelas de 2 segundos\n",
    "\n",
    "Hiperparametros:\n",
    "\n",
    "- SS\n",
    "    - testes vários gaps, sempre com janela de tamanho 1\n",
    "    - treinando e sem treino\n",
    "- FIR\n",
    "    - gap = 0, mas vários tamanhos de janela\n",
    "    - treinando e sem treino\n",
    "\n",
    "\n",
    "CCA-correlation\n",
    "\n",
    "- CCA Original\n",
    "- SS-CCA Original (PEGAR HIPERPARAMETRO DO ARTIGO)\n",
    "- CCA FIR\n",
    "- FB-CCA\n",
    "- FB-CCA SS\n",
    "- FB-CCA FIR\n",
    "\n",
    "\n",
    "Depois com fixed\n",
    "\n",
    "- CCA Original (with training)\n",
    "- SS-CCA Original (PEGAR HIPERPARAMETRO DO ARTIGO)\n",
    "- CCA FIR (with training) ==> testar janelas diferentes, variar até algum máximo\n",
    "- FB-CCA (with training)\n",
    "- FB-CCA with FIR-filter (with training)\n",
    "\n",
    "\n",
    "## Ficou faltando:\n",
    "\n",
    "- Utilizar o dado de treinamento inteiro (sem filtrar os primeiros segundos)"
   ]
  },
  {
   "cell_type": "markdown",
   "id": "f21dc6a3-da06-4b9a-8ece-ce4f79adbf1c",
   "metadata": {},
   "source": [
    "Qualificação até final de setembro\n",
    "- 15 dias de antecedência pra entrar com pedido\n",
    "- teria que estar pronto no dia que abre o pedido\n",
    "- olhar instruções na página da pós-graduação da FEEC\n",
    "- aluno que marca\n",
    "- https://www.fee.unicamp.br/pos-graduacao/alunos-regulares/\n",
    "    > vida academica\n",
    "    > >exame de qualificação"
   ]
  },
  {
   "cell_type": "markdown",
   "id": "557bd662-0262-48e2-b18f-0f15a1c5ded3",
   "metadata": {},
   "source": [
    "Proposta:\n",
    "\n",
    "- Uso de mais atrasos no vetor de variáveis aleatórias\n",
    "    - Expandindo o algoritmo proposto Spatio-temporal CCA\n",
    "    - É como se fosse um \"banco de filtros FIR\"\n",
    "- Contraste entre aplicação do CCA janela a janela vs. CCA com a fase e vetor de pesos fixo:\n",
    "    - Fazer uma revisão dos artigos citados no Artigo de 2015\n",
    "    - Subproposta: combinar FB-CCA com CCA pesos fixos para maximizar performance\n",
    "\n",
    "Conclusão: o que está feito e o que falta fazer\n",
    "\n",
    "- Ajuste do kernel linear que combina múltiplos processos CCA numa correlação final"
   ]
  },
  {
   "cell_type": "markdown",
   "id": "58ad693a-d471-4692-a838-9b76eb6f44d1",
   "metadata": {},
   "source": [
    "- No texto, descrever os processos via diagrama\n",
    "- Primeiramente colocar os resultados e ver quanto espaço sobra\n",
    "- Citar o trabalho para explicar os modelos CCA que usam dado de treinamento e\n",
    "    - discutir que essa abordagem faz uso da fase\n",
    "    - por isso é necessario que o sinal de referência tenha sempre a mesma diferença de fase inicial em relação a estimulação\n",
    "- Priorizar explicar o CCA\n",
    "- Os outros algoritmos podem ser explicados de maneira mais simples"
   ]
  },
  {
   "cell_type": "markdown",
   "id": "032cdf0f-ad5c-456b-9a26-89dfa583c316",
   "metadata": {},
   "source": [
    "Próximos passos:\n",
    "\n",
    "- Utilizar dados dos 70 candidatos da base chinesa\n",
    "- Usar dados coletados no lab\n",
    "- Publicação em revista"
   ]
  }
 ],
 "metadata": {
  "kernelspec": {
   "display_name": "Python 3 (ipykernel)",
   "language": "python",
   "name": "python3"
  },
  "language_info": {
   "codemirror_mode": {
    "name": "ipython",
    "version": 3
   },
   "file_extension": ".py",
   "mimetype": "text/x-python",
   "name": "python",
   "nbconvert_exporter": "python",
   "pygments_lexer": "ipython3",
   "version": "3.9.16"
  }
 },
 "nbformat": 4,
 "nbformat_minor": 5
}
