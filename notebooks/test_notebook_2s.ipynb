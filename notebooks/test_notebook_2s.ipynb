{
 "cells": [
  {
   "cell_type": "code",
   "execution_count": null,
   "id": "74ff819f-20eb-4ff6-976e-80b784bcd92b",
   "metadata": {
    "tags": []
   },
   "outputs": [],
   "source": [
    "%load_ext autoreload\n",
    "%autoreload 2"
   ]
  },
  {
   "cell_type": "code",
   "execution_count": null,
   "id": "5d6be23b-04dd-450d-9f55-feaacff40b51",
   "metadata": {
    "tags": []
   },
   "outputs": [],
   "source": [
    "import numpy as np\n",
    "import pandas as pd\n",
    "import scipy"
   ]
  },
  {
   "cell_type": "code",
   "execution_count": null,
   "id": "8601a22a-e74b-4950-b2fe-c441d84eb6d0",
   "metadata": {
    "tags": []
   },
   "outputs": [],
   "source": [
    "from scipy.fft import fft, ifft, fftfreq"
   ]
  },
  {
   "cell_type": "code",
   "execution_count": null,
   "id": "9c9a9b55-d31a-46c8-81d1-304ff4024426",
   "metadata": {
    "tags": []
   },
   "outputs": [],
   "source": [
    "from ssvepcca.utils import load_mat_data_array\n",
    "from ssvepcca.pipelines import test_fit_predict, k_fold_predict\n",
    "from ssvepcca.learners import (\n",
    "    CCASingleComponent, FilterbankCCA, CCAFixedCoefficients, CCAMultiComponent, AlternativeFBCCA,\n",
    "    CCASpatioTemporal, FBCCAFixedCoefficients, CCASpatioTemporalFixed, FBSpatioTemporalCCA,\n",
    "    FBSpatioTemporalCCAFixed\n",
    ")\n",
    "from ssvepcca.parameters import electrode_list_fbcca"
   ]
  },
  {
   "cell_type": "markdown",
   "id": "50a76f3c-d364-4ebc-8dd6-4a5435052c87",
   "metadata": {},
   "source": [
    "## Configs"
   ]
  },
  {
   "cell_type": "code",
   "execution_count": null,
   "id": "7bf25130-b0c4-47d9-9f57-0ff5e178e1ad",
   "metadata": {
    "tags": []
   },
   "outputs": [],
   "source": [
    "start_time_index = 125\n",
    "stop_time_index = 625"
   ]
  },
  {
   "cell_type": "code",
   "execution_count": null,
   "id": "41cfcab2-a306-481d-95c3-b599d6ce967f",
   "metadata": {
    "tags": []
   },
   "outputs": [],
   "source": [
    "input_data = load_mat_data_array(\"dataset_chines/S2.mat\")"
   ]
  },
  {
   "cell_type": "code",
   "execution_count": null,
   "id": "0d1452b0-36cc-4adc-8f62-1035ffd21cb7",
   "metadata": {
    "tags": []
   },
   "outputs": [],
   "source": [
    "input_data.shape"
   ]
  },
  {
   "cell_type": "markdown",
   "id": "e0df79a6-e4cd-43d4-b5a3-aa58c6594d1f",
   "metadata": {
    "execution": {
     "iopub.execute_input": "2023-07-30T21:34:40.148748Z",
     "iopub.status.busy": "2023-07-30T21:34:40.147867Z",
     "iopub.status.idle": "2023-07-30T21:34:40.188579Z",
     "shell.execute_reply": "2023-07-30T21:34:40.187686Z",
     "shell.execute_reply.started": "2023-07-30T21:34:40.148704Z"
    },
    "tags": []
   },
   "source": [
    "## Tests"
   ]
  },
  {
   "cell_type": "code",
   "execution_count": null,
   "id": "52b1ada8-5efe-431c-8382-4061f4318335",
   "metadata": {
    "scrolled": true,
    "tags": []
   },
   "outputs": [],
   "source": [
    "result_cca_single_component = test_fit_predict(\n",
    "    input_data, \n",
    "    CCASingleComponent(\n",
    "        electrodes_name=electrode_list_fbcca,\n",
    "        start_time_index=start_time_index,\n",
    "        stop_time_index=stop_time_index,\n",
    "    )\n",
    ")"
   ]
  },
  {
   "cell_type": "code",
   "execution_count": null,
   "id": "0510af6b-9e20-4efe-9b19-bdab16e531be",
   "metadata": {
    "tags": []
   },
   "outputs": [],
   "source": [
    "result_cca_single_component[2]"
   ]
  },
  {
   "cell_type": "code",
   "execution_count": null,
   "id": "599d4792-5a3c-4244-94b3-f61b69703196",
   "metadata": {
    "tags": []
   },
   "outputs": [],
   "source": [
    "# assert result_cca_single_component[2][0] == 225"
   ]
  },
  {
   "cell_type": "code",
   "execution_count": null,
   "id": "23f3e1bc-a64a-49c0-b1cf-8ce89989544c",
   "metadata": {
    "tags": []
   },
   "outputs": [],
   "source": [
    "result_cca_fixed_coefficients = k_fold_predict(\n",
    "    input_data, \n",
    "    CCAFixedCoefficients(\n",
    "        electrodes_name=electrode_list_fbcca,\n",
    "        start_time_index=start_time_index,\n",
    "        stop_time_index=stop_time_index,\n",
    "    )\n",
    ")"
   ]
  },
  {
   "cell_type": "code",
   "execution_count": null,
   "id": "e6bd0146-848a-4c44-9c9a-292390945b82",
   "metadata": {
    "tags": []
   },
   "outputs": [],
   "source": [
    "result_cca_fixed_coefficients[2]"
   ]
  },
  {
   "cell_type": "code",
   "execution_count": null,
   "id": "c34f38d3-9c68-4b1a-b1ef-fe66cb824c5a",
   "metadata": {
    "tags": []
   },
   "outputs": [],
   "source": [
    "# assert result_cca_fixed_coefficients[2][0] == 236"
   ]
  },
  {
   "cell_type": "code",
   "execution_count": null,
   "id": "7692e224-d429-4ef9-8314-29a70d2bb25e",
   "metadata": {
    "tags": []
   },
   "outputs": [],
   "source": [
    "result_cca_fusion = test_fit_predict(\n",
    "    input_data, \n",
    "    CCAMultiComponent(\n",
    "        electrodes_name=electrode_list_fbcca,\n",
    "        start_time_index=start_time_index,\n",
    "        stop_time_index=stop_time_index,\n",
    "        num_components=3\n",
    "    )\n",
    ")"
   ]
  },
  {
   "cell_type": "code",
   "execution_count": null,
   "id": "19631e71-0364-4376-8392-6ff50123db2d",
   "metadata": {
    "tags": []
   },
   "outputs": [],
   "source": [
    "result_cca_fusion[2]"
   ]
  },
  {
   "cell_type": "code",
   "execution_count": null,
   "id": "bf22808b-7e0a-4383-8cef-8ef548038b60",
   "metadata": {
    "tags": []
   },
   "outputs": [],
   "source": [
    "# assert result_cca_fusion[2][0] == 221"
   ]
  },
  {
   "cell_type": "code",
   "execution_count": null,
   "id": "45352822-459c-4d84-b701-f04a2d33268a",
   "metadata": {
    "scrolled": true,
    "tags": []
   },
   "outputs": [],
   "source": [
    "result_cca_filter_bank = test_fit_predict(\n",
    "    input_data, \n",
    "    FilterbankCCA(\n",
    "        electrodes_name=electrode_list_fbcca,\n",
    "        start_time_index=start_time_index,\n",
    "        stop_time_index=stop_time_index,\n",
    "        num_harmonics=5,\n",
    "        fb_num_subband=10,\n",
    "        fb_fundamental_freq=8,\n",
    "        fb_upper_bound_freq=88,\n",
    "    )\n",
    ")"
   ]
  },
  {
   "cell_type": "code",
   "execution_count": null,
   "id": "a43bd4ff-e4c1-48ed-8f5d-d8558c4f3313",
   "metadata": {
    "tags": []
   },
   "outputs": [],
   "source": [
    "result_cca_filter_bank[2]"
   ]
  },
  {
   "cell_type": "code",
   "execution_count": null,
   "id": "27896a84-1bf9-4d8b-9ce8-4d10afb834b7",
   "metadata": {
    "tags": []
   },
   "outputs": [],
   "source": [
    "# assert result_cca_filter_bank[2][0] == 238"
   ]
  },
  {
   "cell_type": "code",
   "execution_count": null,
   "id": "39b21378-8371-4676-a95d-dd51529ac387",
   "metadata": {
    "scrolled": true,
    "tags": []
   },
   "outputs": [],
   "source": [
    "result_fb_cca_fixed_coefficients = k_fold_predict(\n",
    "    input_data, \n",
    "    FBCCAFixedCoefficients(\n",
    "        electrodes_name=electrode_list_fbcca,\n",
    "        start_time_index=start_time_index,\n",
    "        stop_time_index=stop_time_index,\n",
    "        num_harmonics=5,\n",
    "        fb_num_subband=10,\n",
    "        fb_fundamental_freq=8,\n",
    "        fb_upper_bound_freq=88,\n",
    "    )\n",
    ")"
   ]
  },
  {
   "cell_type": "code",
   "execution_count": null,
   "id": "3222b99f-c5bb-40ff-afad-a8e407d3eca2",
   "metadata": {
    "tags": []
   },
   "outputs": [],
   "source": [
    "result_fb_cca_fixed_coefficients[2]"
   ]
  },
  {
   "cell_type": "code",
   "execution_count": null,
   "id": "f0990a6c-4f5e-4f04-a9a6-afc370314763",
   "metadata": {
    "tags": []
   },
   "outputs": [],
   "source": [
    "# assert result_fb_cca_fixed_coefficients[2][0] == 240"
   ]
  },
  {
   "cell_type": "code",
   "execution_count": null,
   "id": "7fbc707e-eb44-402c-9afa-2bef9c2117ee",
   "metadata": {
    "tags": []
   },
   "outputs": [],
   "source": [
    "result_alt_cca_filter_bank = test_fit_predict(\n",
    "    input_data, \n",
    "    AlternativeFBCCA(\n",
    "        electrodes_name=electrode_list_fbcca,\n",
    "        start_time_index=start_time_index,\n",
    "        stop_time_index=stop_time_index,\n",
    "        num_harmonics=3,\n",
    "        fb_num_subband=3,\n",
    "        fb_fundamental_freq=8,\n",
    "        fb_upper_bound_freq=88,\n",
    "    )\n",
    ")"
   ]
  },
  {
   "cell_type": "code",
   "execution_count": null,
   "id": "76ed746d-cf9d-46ed-9018-2586ca724f32",
   "metadata": {
    "tags": []
   },
   "outputs": [],
   "source": [
    "# assert result_alt_cca_filter_bank[2][0] == 232"
   ]
  },
  {
   "cell_type": "code",
   "execution_count": null,
   "id": "88624a73-fcb2-4be9-98b7-d39a63d6d8e5",
   "metadata": {
    "tags": []
   },
   "outputs": [],
   "source": [
    "result_alt_cca_filter_bank[2]"
   ]
  },
  {
   "cell_type": "code",
   "execution_count": null,
   "id": "c12b759b-003a-4be6-b6b5-fa096cdf1e2b",
   "metadata": {
    "tags": []
   },
   "outputs": [],
   "source": [
    "result_cca_spatio_temporal = test_fit_predict(\n",
    "    input_data, \n",
    "    CCASpatioTemporal(\n",
    "        electrodes_name=electrode_list_fbcca,\n",
    "        start_time_index=start_time_index,\n",
    "        stop_time_index=stop_time_index,\n",
    "        num_harmonics=3,\n",
    "        window_gap=0,\n",
    "        window_length=9,\n",
    "    )\n",
    ")"
   ]
  },
  {
   "cell_type": "code",
   "execution_count": null,
   "id": "fc263fbe-29b4-4371-968e-bdb4c0a3ccd5",
   "metadata": {
    "tags": []
   },
   "outputs": [],
   "source": [
    "result_cca_spatio_temporal[2]"
   ]
  },
  {
   "cell_type": "code",
   "execution_count": null,
   "id": "bfed8cd8-7b05-438a-a1e3-682465494386",
   "metadata": {
    "tags": []
   },
   "outputs": [],
   "source": [
    "# assert result_cca_spatio_temporal[2][0] == 234"
   ]
  },
  {
   "cell_type": "code",
   "execution_count": null,
   "id": "05c5dbe3-a2a3-44d0-acff-3307256b0640",
   "metadata": {
    "tags": []
   },
   "outputs": [],
   "source": [
    "result_cca_spatio_temporal2 = test_fit_predict(\n",
    "    input_data, \n",
    "    CCASpatioTemporal(\n",
    "        electrodes_name=electrode_list_fbcca,\n",
    "        start_time_index=start_time_index,\n",
    "        stop_time_index=stop_time_index,\n",
    "        num_harmonics=3,\n",
    "        window_gap=3,\n",
    "        window_length=1,\n",
    "    )\n",
    ")"
   ]
  },
  {
   "cell_type": "code",
   "execution_count": null,
   "id": "3e489f6e-e36b-4b63-a6b4-71a4c37a1f4d",
   "metadata": {
    "tags": []
   },
   "outputs": [],
   "source": [
    "result_cca_spatio_temporal2[2]"
   ]
  },
  {
   "cell_type": "code",
   "execution_count": null,
   "id": "cc565016-cbba-4005-b64e-c081c2aeffbc",
   "metadata": {
    "tags": []
   },
   "outputs": [],
   "source": [
    "result_cca_spatio_temporal3 = test_fit_predict(\n",
    "    input_data, \n",
    "    CCASpatioTemporal(\n",
    "        electrodes_name=electrode_list_fbcca,\n",
    "        start_time_index=start_time_index,\n",
    "        stop_time_index=stop_time_index,\n",
    "        num_harmonics=3,\n",
    "        window_gap=10,\n",
    "        window_length=9,\n",
    "    )\n",
    ")"
   ]
  },
  {
   "cell_type": "code",
   "execution_count": null,
   "id": "586902b9-5008-4ce1-b838-9d57536d6786",
   "metadata": {
    "tags": []
   },
   "outputs": [],
   "source": [
    "result_cca_spatio_temporal3[2]"
   ]
  },
  {
   "cell_type": "code",
   "execution_count": null,
   "id": "7e1c5697-538c-4d19-bb7b-1fdf90fb1603",
   "metadata": {
    "tags": []
   },
   "outputs": [],
   "source": [
    "result_cca_spatio_temporal_zero = test_fit_predict(\n",
    "    input_data, \n",
    "    CCASpatioTemporal(\n",
    "        electrodes_name=electrode_list_fbcca,\n",
    "        start_time_index=start_time_index,\n",
    "        stop_time_index=stop_time_index,\n",
    "        num_harmonics=3,\n",
    "        window_gap=0,\n",
    "        window_length=0,\n",
    "    )\n",
    ")"
   ]
  },
  {
   "cell_type": "code",
   "execution_count": null,
   "id": "fa987798-71df-44af-a840-113b1e7e55da",
   "metadata": {
    "tags": []
   },
   "outputs": [],
   "source": [
    "result_cca_spatio_temporal_zero[2]"
   ]
  },
  {
   "cell_type": "code",
   "execution_count": null,
   "id": "25e5b2b7-5716-410b-967c-3d887317cdc5",
   "metadata": {
    "tags": []
   },
   "outputs": [],
   "source": [
    "# assert result_cca_spatio_temporal_zero[2][0] == 225"
   ]
  },
  {
   "cell_type": "code",
   "execution_count": null,
   "id": "b60e837c-20f2-4094-8ce9-9fd214999393",
   "metadata": {
    "tags": []
   },
   "outputs": [],
   "source": [
    "result_cca_spatio_temporal_fixed = k_fold_predict(\n",
    "    input_data, \n",
    "    CCASpatioTemporalFixed(\n",
    "        electrodes_name=electrode_list_fbcca,\n",
    "        start_time_index=start_time_index,\n",
    "        stop_time_index=stop_time_index,\n",
    "        num_harmonics=3,\n",
    "        window_gap=0,\n",
    "        window_length=9,\n",
    "    )\n",
    ")"
   ]
  },
  {
   "cell_type": "code",
   "execution_count": null,
   "id": "193c42d0-0480-4c92-92ea-6345f1476efe",
   "metadata": {
    "tags": []
   },
   "outputs": [],
   "source": [
    "result_cca_spatio_temporal_fixed[2]"
   ]
  },
  {
   "cell_type": "code",
   "execution_count": null,
   "id": "4931ac9b-dc1c-4326-8780-61c9a0e86879",
   "metadata": {
    "scrolled": true,
    "tags": []
   },
   "outputs": [],
   "source": [
    "result_cca_filter_bank_zero = test_fit_predict(\n",
    "    input_data, \n",
    "    FBSpatioTemporalCCA(\n",
    "        electrodes_name=electrode_list_fbcca,\n",
    "        start_time_index=start_time_index,\n",
    "        stop_time_index=stop_time_index,\n",
    "        num_harmonics=5,\n",
    "        window_gap=0,\n",
    "        window_length=0,\n",
    "        fb_num_subband=10,\n",
    "        fb_fundamental_freq=8,\n",
    "        fb_upper_bound_freq=88,\n",
    "    )\n",
    ")"
   ]
  },
  {
   "cell_type": "code",
   "execution_count": null,
   "id": "f7ae837d-28a5-441a-aa89-78f5911dfc64",
   "metadata": {
    "tags": []
   },
   "outputs": [],
   "source": [
    "result_cca_filter_bank_zero[2]"
   ]
  },
  {
   "cell_type": "code",
   "execution_count": null,
   "id": "52649e34-1e45-40d0-9c67-29c76571fd76",
   "metadata": {
    "tags": []
   },
   "outputs": [],
   "source": [
    "# assert result_cca_filter_bank_zero[2][0] == 238"
   ]
  },
  {
   "cell_type": "code",
   "execution_count": null,
   "id": "1d750116-30a1-47e2-bdd6-7d6e1482c0e7",
   "metadata": {
    "tags": []
   },
   "outputs": [],
   "source": [
    "result_cca_filter_bank_0_9 = test_fit_predict(\n",
    "    input_data, \n",
    "    FBSpatioTemporalCCA(\n",
    "        electrodes_name=electrode_list_fbcca,\n",
    "        start_time_index=start_time_index,\n",
    "        stop_time_index=stop_time_index,\n",
    "        num_harmonics=5,\n",
    "        window_gap=0,\n",
    "        window_length=9,\n",
    "        fb_num_subband=10,\n",
    "        fb_fundamental_freq=8,\n",
    "        fb_upper_bound_freq=88,\n",
    "    )\n",
    ")"
   ]
  },
  {
   "cell_type": "code",
   "execution_count": null,
   "id": "52321a70-d435-4875-a111-a66a71457227",
   "metadata": {
    "tags": []
   },
   "outputs": [],
   "source": [
    "result_cca_filter_bank_0_9[2]"
   ]
  },
  {
   "cell_type": "code",
   "execution_count": null,
   "id": "ce91b3c6-01ba-4612-a2ac-3568e0c9c897",
   "metadata": {
    "scrolled": true,
    "tags": []
   },
   "outputs": [],
   "source": [
    "result_cca_filter_bank_5_1 = test_fit_predict(\n",
    "    input_data, \n",
    "    FBSpatioTemporalCCA(\n",
    "        electrodes_name=electrode_list_fbcca,\n",
    "        start_time_index=start_time_index,\n",
    "        stop_time_index=stop_time_index,\n",
    "        num_harmonics=5,\n",
    "        window_gap=5,\n",
    "        window_length=1,\n",
    "        fb_num_subband=10,\n",
    "        fb_fundamental_freq=8,\n",
    "        fb_upper_bound_freq=88,\n",
    "    )\n",
    ")"
   ]
  },
  {
   "cell_type": "code",
   "execution_count": null,
   "id": "561be016-424b-460a-a41d-1fe5effc94d6",
   "metadata": {
    "tags": []
   },
   "outputs": [],
   "source": [
    "result_cca_filter_bank_5_1[2]"
   ]
  },
  {
   "cell_type": "code",
   "execution_count": null,
   "id": "225d7acf-be25-4a3c-b2aa-a327ef0abe16",
   "metadata": {
    "tags": []
   },
   "outputs": [],
   "source": [
    "# assert result_cca_filter_bank_5_1[2][0] == 235"
   ]
  },
  {
   "cell_type": "code",
   "execution_count": null,
   "id": "398c061e-6689-4362-951c-f3ffde371748",
   "metadata": {
    "tags": []
   },
   "outputs": [],
   "source": [
    "result_cca_filter_bank_2_1 = test_fit_predict(\n",
    "    input_data, \n",
    "    FBSpatioTemporalCCA(\n",
    "        electrodes_name=electrode_list_fbcca,\n",
    "        start_time_index=start_time_index,\n",
    "        stop_time_index=stop_time_index,\n",
    "        num_harmonics=5,\n",
    "        window_gap=2,\n",
    "        window_length=1,\n",
    "        fb_num_subband=10,\n",
    "        fb_fundamental_freq=8,\n",
    "        fb_upper_bound_freq=88,\n",
    "    )\n",
    ")"
   ]
  },
  {
   "cell_type": "code",
   "execution_count": null,
   "id": "d1450470-9e54-4910-a081-82a6ae644924",
   "metadata": {
    "tags": []
   },
   "outputs": [],
   "source": [
    "result_cca_filter_bank_2_1[2]"
   ]
  },
  {
   "cell_type": "code",
   "execution_count": null,
   "id": "93351e8c-6ed0-4d37-b9e5-ac4f5b358985",
   "metadata": {
    "tags": []
   },
   "outputs": [],
   "source": [
    "# assert result_cca_filter_bank_2_1[2][0] == 236"
   ]
  },
  {
   "cell_type": "code",
   "execution_count": null,
   "id": "5b76a1f2-7f30-4489-8548-f132d5bd723a",
   "metadata": {
    "tags": []
   },
   "outputs": [],
   "source": [
    "result_cca_filter_bank_fixed_2_1 = k_fold_predict(\n",
    "    input_data, \n",
    "    FBSpatioTemporalCCAFixed(\n",
    "        electrodes_name=electrode_list_fbcca,\n",
    "        start_time_index=start_time_index,\n",
    "        stop_time_index=stop_time_index,\n",
    "        num_harmonics=5,\n",
    "        window_gap=2,\n",
    "        window_length=1,\n",
    "        fb_num_subband=10,\n",
    "        fb_fundamental_freq=8,\n",
    "        fb_upper_bound_freq=88,\n",
    "    )\n",
    ")"
   ]
  },
  {
   "cell_type": "code",
   "execution_count": null,
   "id": "f7abf2f5-d317-4297-aead-c5044ce5d773",
   "metadata": {
    "tags": []
   },
   "outputs": [],
   "source": [
    "result_cca_filter_bank_fixed_2_1[2]"
   ]
  },
  {
   "cell_type": "code",
   "execution_count": null,
   "id": "3aeaf6f4-450a-4856-8796-59a5f401d0a7",
   "metadata": {
    "tags": []
   },
   "outputs": [],
   "source": [
    "# assert result_cca_filter_bank_fixed_2_1[2][0] == 240"
   ]
  },
  {
   "cell_type": "markdown",
   "id": "dade3c69-7ec4-4afd-949c-e3e870e66ecf",
   "metadata": {},
   "source": [
    "## develop"
   ]
  }
 ],
 "metadata": {
  "kernelspec": {
   "display_name": "Python 3 (ipykernel)",
   "language": "python",
   "name": "python3"
  },
  "language_info": {
   "codemirror_mode": {
    "name": "ipython",
    "version": 3
   },
   "file_extension": ".py",
   "mimetype": "text/x-python",
   "name": "python",
   "nbconvert_exporter": "python",
   "pygments_lexer": "ipython3",
   "version": "3.9.16"
  }
 },
 "nbformat": 4,
 "nbformat_minor": 5
}
