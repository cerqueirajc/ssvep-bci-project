{
 "cells": [
  {
   "cell_type": "code",
   "execution_count": 13,
   "id": "c1b5c03c-7a0d-437b-9642-c8c3ec55c964",
   "metadata": {
    "tags": []
   },
   "outputs": [
    {
     "name": "stdout",
     "output_type": "stream",
     "text": [
      "The autoreload extension is already loaded. To reload it, use:\n",
      "  %reload_ext autoreload\n"
     ]
    }
   ],
   "source": [
    "%load_ext autoreload\n",
    "%autoreload 2"
   ]
  },
  {
   "cell_type": "code",
   "execution_count": 14,
   "id": "e92372f7-ad1a-4973-83e9-c2bb7ed619c2",
   "metadata": {
    "tags": []
   },
   "outputs": [],
   "source": [
    "import scipy\n",
    "import numpy as np"
   ]
  },
  {
   "cell_type": "code",
   "execution_count": 15,
   "id": "cbafb499-4182-47a1-beff-43a3a53c07c3",
   "metadata": {
    "tags": []
   },
   "outputs": [],
   "source": [
    "import ssvepcca\n",
    "from ssvepcca.utils import load_mat_data_array\n",
    "from ssvepcca.pipelines import test_fit_predict, k_fold_predict\n",
    "\n",
    "ssvepcca.runtime_configuration.load_from_name(\"tsinghua-beta-dataset\")"
   ]
  },
  {
   "cell_type": "code",
   "execution_count": 16,
   "id": "afc9579a-90a5-43e2-bfd7-2281a50793ac",
   "metadata": {
    "tags": []
   },
   "outputs": [],
   "source": [
    "from ssvepcca.transformers import EEGType\n",
    "from ssvepcca.algorithms import (StandardCCA, StandardCCAFilter, FilterbankCCA,\n",
    "    FilterbankCCAFilter, SpatioTemporalCCA)"
   ]
  },
  {
   "cell_type": "code",
   "execution_count": 17,
   "id": "6105afd5-174b-4c1e-bcfe-196a355f51c7",
   "metadata": {
    "tags": []
   },
   "outputs": [],
   "source": [
    "electrode_list_fbcca = ssvepcca.parameters.electrode_list_fbcca"
   ]
  },
  {
   "cell_type": "code",
   "execution_count": 18,
   "id": "b26450f1-212a-40d5-8f93-71ce63061071",
   "metadata": {
    "tags": []
   },
   "outputs": [],
   "source": [
    "import time"
   ]
  },
  {
   "cell_type": "markdown",
   "id": "727675a6-7093-4676-ab90-432898fc16b9",
   "metadata": {},
   "source": [
    "# Test loading data"
   ]
  },
  {
   "cell_type": "code",
   "execution_count": 19,
   "id": "8104a1b7-2d48-4d20-8cfe-5593ff3e4ca8",
   "metadata": {
    "tags": []
   },
   "outputs": [],
   "source": [
    "mat_path = \"/media/cerqueirajc/windows_heavy_data/Ubuntu/masters/dataset/tsinghua_beta_dataset/S10.mat\"\n",
    "# input_data = load_mat_data_array(mat_path)"
   ]
  },
  {
   "cell_type": "code",
   "execution_count": 20,
   "id": "93a06997-d87d-46f8-97c4-f45c27478a70",
   "metadata": {
    "tags": []
   },
   "outputs": [],
   "source": [
    "mat = scipy.io.loadmat(mat_path)"
   ]
  },
  {
   "cell_type": "code",
   "execution_count": 21,
   "id": "4ced8406-1fd1-4a1d-98bc-684456876503",
   "metadata": {
    "tags": []
   },
   "outputs": [],
   "source": [
    "input_data = mat[\"data\"][0][0][0]\n",
    "input_data = input_data.astype(float).T.transpose([1, 0, 2, 3])"
   ]
  },
  {
   "cell_type": "code",
   "execution_count": 22,
   "id": "2694fdeb-9a7a-4053-a8ff-736abaecc791",
   "metadata": {
    "tags": []
   },
   "outputs": [
    {
     "data": {
      "text/plain": [
       "(4, 40, 750, 64)"
      ]
     },
     "execution_count": 22,
     "metadata": {},
     "output_type": "execute_result"
    }
   ],
   "source": [
    "input_data.shape"
   ]
  },
  {
   "cell_type": "code",
   "execution_count": 44,
   "id": "8249ac11-c8ab-4f88-87a3-fda155ee7d62",
   "metadata": {
    "tags": []
   },
   "outputs": [
    {
     "data": {
      "text/plain": [
       "2"
      ]
     },
     "execution_count": 44,
     "metadata": {},
     "output_type": "execute_result"
    }
   ],
   "source": [
    "len(mat[\"data\"][0][0])"
   ]
  },
  {
   "cell_type": "code",
   "execution_count": 45,
   "id": "2f912ce9-7ba1-4986-8b4e-b8e674976239",
   "metadata": {
    "tags": []
   },
   "outputs": [
    {
     "data": {
      "text/plain": [
       "4.0"
      ]
     },
     "execution_count": 45,
     "metadata": {},
     "output_type": "execute_result"
    }
   ],
   "source": [
    "mat[\"data\"][0][0][0].shape[1] / 250"
   ]
  },
  {
   "cell_type": "code",
   "execution_count": 46,
   "id": "a0ad48a2-899e-43a6-a53b-23c863036e35",
   "metadata": {
    "tags": []
   },
   "outputs": [],
   "source": [
    "electrodes_info = mat[\"data\"][0][0][1][0][0][3]"
   ]
  },
  {
   "cell_type": "code",
   "execution_count": 47,
   "id": "c11c88f2-d665-47c2-bd41-57d46cbde172",
   "metadata": {
    "tags": []
   },
   "outputs": [
    {
     "data": {
      "text/html": [
       "<div>\n",
       "<style scoped>\n",
       "    .dataframe tbody tr th:only-of-type {\n",
       "        vertical-align: middle;\n",
       "    }\n",
       "\n",
       "    .dataframe tbody tr th {\n",
       "        vertical-align: top;\n",
       "    }\n",
       "\n",
       "    .dataframe thead th {\n",
       "        text-align: right;\n",
       "    }\n",
       "</style>\n",
       "<table border=\"1\" class=\"dataframe\">\n",
       "  <thead>\n",
       "    <tr style=\"text-align: right;\">\n",
       "      <th></th>\n",
       "      <th>0</th>\n",
       "      <th>1</th>\n",
       "      <th>2</th>\n",
       "      <th>3</th>\n",
       "    </tr>\n",
       "  </thead>\n",
       "  <tbody>\n",
       "    <tr>\n",
       "      <th>0</th>\n",
       "      <td>[1]</td>\n",
       "      <td>[-17.926]</td>\n",
       "      <td>[0.51499]</td>\n",
       "      <td>[FP1]</td>\n",
       "    </tr>\n",
       "    <tr>\n",
       "      <th>1</th>\n",
       "      <td>[2]</td>\n",
       "      <td>[0]</td>\n",
       "      <td>[0.50669]</td>\n",
       "      <td>[FPZ]</td>\n",
       "    </tr>\n",
       "    <tr>\n",
       "      <th>2</th>\n",
       "      <td>[3]</td>\n",
       "      <td>[17.926]</td>\n",
       "      <td>[0.51499]</td>\n",
       "      <td>[FP2]</td>\n",
       "    </tr>\n",
       "    <tr>\n",
       "      <th>3</th>\n",
       "      <td>[4]</td>\n",
       "      <td>[-22.461]</td>\n",
       "      <td>[0.42113]</td>\n",
       "      <td>[AF3]</td>\n",
       "    </tr>\n",
       "    <tr>\n",
       "      <th>4</th>\n",
       "      <td>[5]</td>\n",
       "      <td>[22.461]</td>\n",
       "      <td>[0.42113]</td>\n",
       "      <td>[AF4]</td>\n",
       "    </tr>\n",
       "    <tr>\n",
       "      <th>...</th>\n",
       "      <td>...</td>\n",
       "      <td>...</td>\n",
       "      <td>...</td>\n",
       "      <td>...</td>\n",
       "    </tr>\n",
       "    <tr>\n",
       "      <th>59</th>\n",
       "      <td>[60]</td>\n",
       "      <td>[0]</td>\n",
       "      <td>[0]</td>\n",
       "      <td>[CB1]</td>\n",
       "    </tr>\n",
       "    <tr>\n",
       "      <th>60</th>\n",
       "      <td>[61]</td>\n",
       "      <td>[-162.07]</td>\n",
       "      <td>[0.51499]</td>\n",
       "      <td>[O1]</td>\n",
       "    </tr>\n",
       "    <tr>\n",
       "      <th>61</th>\n",
       "      <td>[62]</td>\n",
       "      <td>[180]</td>\n",
       "      <td>[0.50669]</td>\n",
       "      <td>[OZ]</td>\n",
       "    </tr>\n",
       "    <tr>\n",
       "      <th>62</th>\n",
       "      <td>[63]</td>\n",
       "      <td>[162.07]</td>\n",
       "      <td>[0.51499]</td>\n",
       "      <td>[O2]</td>\n",
       "    </tr>\n",
       "    <tr>\n",
       "      <th>63</th>\n",
       "      <td>[64]</td>\n",
       "      <td>[0]</td>\n",
       "      <td>[0]</td>\n",
       "      <td>[CB2]</td>\n",
       "    </tr>\n",
       "  </tbody>\n",
       "</table>\n",
       "<p>64 rows × 4 columns</p>\n",
       "</div>"
      ],
      "text/plain": [
       "       0          1          2      3\n",
       "0    [1]  [-17.926]  [0.51499]  [FP1]\n",
       "1    [2]        [0]  [0.50669]  [FPZ]\n",
       "2    [3]   [17.926]  [0.51499]  [FP2]\n",
       "3    [4]  [-22.461]  [0.42113]  [AF3]\n",
       "4    [5]   [22.461]  [0.42113]  [AF4]\n",
       "..   ...        ...        ...    ...\n",
       "59  [60]        [0]        [0]  [CB1]\n",
       "60  [61]  [-162.07]  [0.51499]   [O1]\n",
       "61  [62]      [180]  [0.50669]   [OZ]\n",
       "62  [63]   [162.07]  [0.51499]   [O2]\n",
       "63  [64]        [0]        [0]  [CB2]\n",
       "\n",
       "[64 rows x 4 columns]"
      ]
     },
     "execution_count": 47,
     "metadata": {},
     "output_type": "execute_result"
    }
   ],
   "source": [
    "pd.DataFrame(electrodes_info)"
   ]
  },
  {
   "cell_type": "code",
   "execution_count": 48,
   "id": "f5d67882-a545-451c-bc39-76eccfca6588",
   "metadata": {
    "tags": []
   },
   "outputs": [
    {
     "name": "stdout",
     "output_type": "stream",
     "text": [
      "\"FP1\": 0,\n",
      "\"FPZ\": 1,\n",
      "\"FP2\": 2,\n",
      "\"AF3\": 3,\n",
      "\"AF4\": 4,\n",
      "\"F7\": 5,\n",
      "\"F5\": 6,\n",
      "\"F3\": 7,\n",
      "\"F1\": 8,\n",
      "\"FZ\": 9,\n",
      "\"F2\": 10,\n",
      "\"F4\": 11,\n",
      "\"F6\": 12,\n",
      "\"F8\": 13,\n",
      "\"FT7\": 14,\n",
      "\"FC5\": 15,\n",
      "\"FC3\": 16,\n",
      "\"FC1\": 17,\n",
      "\"FCZ\": 18,\n",
      "\"FC2\": 19,\n",
      "\"FC4\": 20,\n",
      "\"FC6\": 21,\n",
      "\"FT8\": 22,\n",
      "\"T7\": 23,\n",
      "\"C5\": 24,\n",
      "\"C3\": 25,\n",
      "\"C1\": 26,\n",
      "\"CZ\": 27,\n",
      "\"C2\": 28,\n",
      "\"C4\": 29,\n",
      "\"C6\": 30,\n",
      "\"T8\": 31,\n",
      "\"M1\": 32,\n",
      "\"TP7\": 33,\n",
      "\"CP5\": 34,\n",
      "\"CP3\": 35,\n",
      "\"CP1\": 36,\n",
      "\"CPZ\": 37,\n",
      "\"CP2\": 38,\n",
      "\"CP4\": 39,\n",
      "\"CP6\": 40,\n",
      "\"TP8\": 41,\n",
      "\"M2\": 42,\n",
      "\"P7\": 43,\n",
      "\"P5\": 44,\n",
      "\"P3\": 45,\n",
      "\"P1\": 46,\n",
      "\"PZ\": 47,\n",
      "\"P2\": 48,\n",
      "\"P4\": 49,\n",
      "\"P6\": 50,\n",
      "\"P8\": 51,\n",
      "\"PO7\": 52,\n",
      "\"PO5\": 53,\n",
      "\"PO3\": 54,\n",
      "\"POZ\": 55,\n",
      "\"PO4\": 56,\n",
      "\"PO6\": 57,\n",
      "\"PO8\": 58,\n",
      "\"CB1\": 59,\n",
      "\"O1\": 60,\n",
      "\"OZ\": 61,\n",
      "\"O2\": 62,\n",
      "\"CB2\": 63,\n"
     ]
    }
   ],
   "source": [
    "for i in range(64):\n",
    "    # print(electrodes_info[i][0][0], electrodes_info[i][3][0])\n",
    "    print(f'\"{electrodes_info[i][3][0]}\": {int(electrodes_info[i][0][0]) - 1},')"
   ]
  },
  {
   "cell_type": "code",
   "execution_count": 49,
   "id": "fbb2ccb6-3729-4d56-9ee1-d96cd2a75515",
   "metadata": {
    "tags": []
   },
   "outputs": [
    {
     "data": {
      "text/plain": [
       "'3'"
      ]
     },
     "execution_count": 49,
     "metadata": {},
     "output_type": "execute_result"
    }
   ],
   "source": [
    "electrodes_info[2][0][0]"
   ]
  },
  {
   "cell_type": "code",
   "execution_count": 51,
   "id": "6fcc24fe-00f4-4443-bda4-8fe29d21fe48",
   "metadata": {
    "tags": []
   },
   "outputs": [
    {
     "data": {
      "text/html": [
       "<div>\n",
       "<style scoped>\n",
       "    .dataframe tbody tr th:only-of-type {\n",
       "        vertical-align: middle;\n",
       "    }\n",
       "\n",
       "    .dataframe tbody tr th {\n",
       "        vertical-align: top;\n",
       "    }\n",
       "\n",
       "    .dataframe thead th {\n",
       "        text-align: right;\n",
       "    }\n",
       "</style>\n",
       "<table border=\"1\" class=\"dataframe\">\n",
       "  <thead>\n",
       "    <tr style=\"text-align: right;\">\n",
       "      <th></th>\n",
       "      <th>sub</th>\n",
       "      <th>age</th>\n",
       "      <th>gender</th>\n",
       "      <th>chan</th>\n",
       "      <th>freqs</th>\n",
       "      <th>phases</th>\n",
       "      <th>bci_quotient</th>\n",
       "      <th>wide_snr</th>\n",
       "      <th>narrow_snr</th>\n",
       "      <th>srate</th>\n",
       "    </tr>\n",
       "  </thead>\n",
       "  <tbody>\n",
       "    <tr>\n",
       "      <th>0</th>\n",
       "      <td>[S30]</td>\n",
       "      <td>[[22.25]]</td>\n",
       "      <td>[female]</td>\n",
       "      <td>[[[1], [-17.926], [0.51499], [FP1]], [[2], [0]...</td>\n",
       "      <td>[[8.6, 8.799999999999999, 9.0, 9.2, 9.4, 9.6, ...</td>\n",
       "      <td>[[4.71238898038469, 0.0, 1.5707963267948966, 3...</td>\n",
       "      <td>[[114.19696894054809]]</td>\n",
       "      <td>[[-11.593666783155593]]</td>\n",
       "      <td>[[7.229504071445169]]</td>\n",
       "      <td>[[250]]</td>\n",
       "    </tr>\n",
       "  </tbody>\n",
       "</table>\n",
       "</div>"
      ],
      "text/plain": [
       "     sub        age    gender  \\\n",
       "0  [S30]  [[22.25]]  [female]   \n",
       "\n",
       "                                                chan  \\\n",
       "0  [[[1], [-17.926], [0.51499], [FP1]], [[2], [0]...   \n",
       "\n",
       "                                               freqs  \\\n",
       "0  [[8.6, 8.799999999999999, 9.0, 9.2, 9.4, 9.6, ...   \n",
       "\n",
       "                                              phases            bci_quotient  \\\n",
       "0  [[4.71238898038469, 0.0, 1.5707963267948966, 3...  [[114.19696894054809]]   \n",
       "\n",
       "                  wide_snr             narrow_snr    srate  \n",
       "0  [[-11.593666783155593]]  [[7.229504071445169]]  [[250]]  "
      ]
     },
     "execution_count": 51,
     "metadata": {},
     "output_type": "execute_result"
    }
   ],
   "source": [
    "pd.DataFrame(mat[\"data\"][0][0][1][0])"
   ]
  },
  {
   "cell_type": "code",
   "execution_count": 53,
   "id": "19b37346-ebd1-4b26-880f-13b481aa724a",
   "metadata": {
    "tags": []
   },
   "outputs": [
    {
     "data": {
      "text/plain": [
       "array([ 8.6,  8.8,  9. ,  9.2,  9.4,  9.6,  9.8, 10. , 10.2, 10.4, 10.6,\n",
       "       10.8, 11. , 11.2, 11.4, 11.6, 11.8, 12. , 12.2, 12.4, 12.6, 12.8,\n",
       "       13. , 13.2, 13.4, 13.6, 13.8, 14. , 14.2, 14.4, 14.6, 14.8, 15. ,\n",
       "       15.2, 15.4, 15.6, 15.8,  8. ,  8.2,  8.4])"
      ]
     },
     "execution_count": 53,
     "metadata": {},
     "output_type": "execute_result"
    }
   ],
   "source": [
    "pd.DataFrame(mat[\"data\"][0][0][1][0])[\"freqs\"].loc[0][0]"
   ]
  },
  {
   "cell_type": "code",
   "execution_count": 54,
   "id": "84ad824a-11aa-4c3b-b276-29ad362986b8",
   "metadata": {
    "tags": []
   },
   "outputs": [
    {
     "data": {
      "text/plain": [
       "array([4.71238898, 0.        , 1.57079633, 3.14159265, 4.71238898,\n",
       "       0.        , 1.57079633, 3.14159265, 4.71238898, 0.        ,\n",
       "       1.57079633, 3.14159265, 4.71238898, 0.        , 1.57079633,\n",
       "       3.14159265, 4.71238898, 0.        , 1.57079633, 3.14159265,\n",
       "       4.71238898, 0.        , 1.57079633, 3.14159265, 4.71238898,\n",
       "       0.        , 1.57079633, 3.14159265, 4.71238898, 0.        ,\n",
       "       1.57079633, 3.14159265, 4.71238898, 0.        , 1.57079633,\n",
       "       3.14159265, 4.71238898, 0.        , 1.57079633, 3.14159265])"
      ]
     },
     "execution_count": 54,
     "metadata": {},
     "output_type": "execute_result"
    }
   ],
   "source": [
    "pd.DataFrame(mat[\"data\"][0][0][1][0])[\"phases\"].loc[0][0]"
   ]
  },
  {
   "cell_type": "markdown",
   "id": "f1df38ce-0b8d-4b5c-99e6-993f0a6adeec",
   "metadata": {},
   "source": [
    "# Test algorithm"
   ]
  },
  {
   "cell_type": "code",
   "execution_count": 26,
   "id": "62da1058-8163-466c-a96b-f89cb9940a6a",
   "metadata": {
    "tags": []
   },
   "outputs": [
    {
     "data": {
      "text/plain": [
       "(158, 875)"
      ]
     },
     "execution_count": 26,
     "metadata": {},
     "output_type": "execute_result"
    }
   ],
   "source": [
    "start_time_index = round(125 + 250 * 0.130)\n",
    "window_size_in_seconds = 3\n",
    "stop_time_index = 125 * (2 * window_size_in_seconds + 1)\n",
    "(start_time_index, stop_time_index)"
   ]
  },
  {
   "cell_type": "code",
   "execution_count": 27,
   "id": "fa87f5ba-8ec3-479d-bbbc-490695ff382c",
   "metadata": {
    "tags": []
   },
   "outputs": [],
   "source": [
    "result_fbcca_single_component = test_fit_predict(\n",
    "    input_data, \n",
    "    FilterbankCCA(\n",
    "        electrodes_name=electrode_list_fbcca,\n",
    "        start_time_idx=start_time_index,\n",
    "        stop_time_idx=stop_time_index,\n",
    "        num_harmonics=5,\n",
    "        fb_num_subband=10,\n",
    "        fb_fundamental_freq=8,\n",
    "        fb_upper_bound_freq=88,\n",
    "    )\n",
    ")"
   ]
  },
  {
   "cell_type": "code",
   "execution_count": 28,
   "id": "cb5b323e-99aa-42e5-ad56-2641ed0614c8",
   "metadata": {
    "tags": []
   },
   "outputs": [
    {
     "data": {
      "text/plain": [
       "[122, 0.7625]"
      ]
     },
     "execution_count": 28,
     "metadata": {},
     "output_type": "execute_result"
    }
   ],
   "source": [
    "result_fbcca_single_component[2]"
   ]
  },
  {
   "cell_type": "code",
   "execution_count": 29,
   "id": "d1b458f6-8bdb-40e6-af21-059b4d7d1903",
   "metadata": {
    "tags": []
   },
   "outputs": [
    {
     "data": {
      "text/plain": [
       "(4, 40)"
      ]
     },
     "execution_count": 29,
     "metadata": {},
     "output_type": "execute_result"
    }
   ],
   "source": [
    "result_fbcca_single_component[0].shape"
   ]
  },
  {
   "cell_type": "code",
   "execution_count": 30,
   "id": "84f0c553-a797-4c09-9cc7-538b4a52ea96",
   "metadata": {
    "tags": []
   },
   "outputs": [
    {
     "data": {
      "text/html": [
       "<div>\n",
       "<style scoped>\n",
       "    .dataframe tbody tr th:only-of-type {\n",
       "        vertical-align: middle;\n",
       "    }\n",
       "\n",
       "    .dataframe tbody tr th {\n",
       "        vertical-align: top;\n",
       "    }\n",
       "\n",
       "    .dataframe thead th {\n",
       "        text-align: right;\n",
       "    }\n",
       "</style>\n",
       "<table border=\"1\" class=\"dataframe\">\n",
       "  <thead>\n",
       "    <tr style=\"text-align: right;\">\n",
       "      <th></th>\n",
       "      <th>0</th>\n",
       "    </tr>\n",
       "  </thead>\n",
       "  <tbody>\n",
       "    <tr>\n",
       "      <th>0</th>\n",
       "      <td>3</td>\n",
       "    </tr>\n",
       "    <tr>\n",
       "      <th>1</th>\n",
       "      <td>0</td>\n",
       "    </tr>\n",
       "    <tr>\n",
       "      <th>2</th>\n",
       "      <td>0</td>\n",
       "    </tr>\n",
       "    <tr>\n",
       "      <th>3</th>\n",
       "      <td>0</td>\n",
       "    </tr>\n",
       "    <tr>\n",
       "      <th>4</th>\n",
       "      <td>4</td>\n",
       "    </tr>\n",
       "    <tr>\n",
       "      <th>5</th>\n",
       "      <td>0</td>\n",
       "    </tr>\n",
       "    <tr>\n",
       "      <th>6</th>\n",
       "      <td>0</td>\n",
       "    </tr>\n",
       "    <tr>\n",
       "      <th>7</th>\n",
       "      <td>0</td>\n",
       "    </tr>\n",
       "    <tr>\n",
       "      <th>8</th>\n",
       "      <td>4</td>\n",
       "    </tr>\n",
       "    <tr>\n",
       "      <th>9</th>\n",
       "      <td>1</td>\n",
       "    </tr>\n",
       "    <tr>\n",
       "      <th>10</th>\n",
       "      <td>4</td>\n",
       "    </tr>\n",
       "    <tr>\n",
       "      <th>11</th>\n",
       "      <td>4</td>\n",
       "    </tr>\n",
       "    <tr>\n",
       "      <th>12</th>\n",
       "      <td>4</td>\n",
       "    </tr>\n",
       "    <tr>\n",
       "      <th>13</th>\n",
       "      <td>3</td>\n",
       "    </tr>\n",
       "    <tr>\n",
       "      <th>14</th>\n",
       "      <td>4</td>\n",
       "    </tr>\n",
       "    <tr>\n",
       "      <th>15</th>\n",
       "      <td>4</td>\n",
       "    </tr>\n",
       "    <tr>\n",
       "      <th>16</th>\n",
       "      <td>4</td>\n",
       "    </tr>\n",
       "    <tr>\n",
       "      <th>17</th>\n",
       "      <td>4</td>\n",
       "    </tr>\n",
       "    <tr>\n",
       "      <th>18</th>\n",
       "      <td>1</td>\n",
       "    </tr>\n",
       "    <tr>\n",
       "      <th>19</th>\n",
       "      <td>4</td>\n",
       "    </tr>\n",
       "    <tr>\n",
       "      <th>20</th>\n",
       "      <td>4</td>\n",
       "    </tr>\n",
       "    <tr>\n",
       "      <th>21</th>\n",
       "      <td>1</td>\n",
       "    </tr>\n",
       "    <tr>\n",
       "      <th>22</th>\n",
       "      <td>4</td>\n",
       "    </tr>\n",
       "    <tr>\n",
       "      <th>23</th>\n",
       "      <td>3</td>\n",
       "    </tr>\n",
       "    <tr>\n",
       "      <th>24</th>\n",
       "      <td>4</td>\n",
       "    </tr>\n",
       "    <tr>\n",
       "      <th>25</th>\n",
       "      <td>4</td>\n",
       "    </tr>\n",
       "    <tr>\n",
       "      <th>26</th>\n",
       "      <td>4</td>\n",
       "    </tr>\n",
       "    <tr>\n",
       "      <th>27</th>\n",
       "      <td>4</td>\n",
       "    </tr>\n",
       "    <tr>\n",
       "      <th>28</th>\n",
       "      <td>4</td>\n",
       "    </tr>\n",
       "    <tr>\n",
       "      <th>29</th>\n",
       "      <td>4</td>\n",
       "    </tr>\n",
       "    <tr>\n",
       "      <th>30</th>\n",
       "      <td>4</td>\n",
       "    </tr>\n",
       "    <tr>\n",
       "      <th>31</th>\n",
       "      <td>4</td>\n",
       "    </tr>\n",
       "    <tr>\n",
       "      <th>32</th>\n",
       "      <td>4</td>\n",
       "    </tr>\n",
       "    <tr>\n",
       "      <th>33</th>\n",
       "      <td>4</td>\n",
       "    </tr>\n",
       "    <tr>\n",
       "      <th>34</th>\n",
       "      <td>4</td>\n",
       "    </tr>\n",
       "    <tr>\n",
       "      <th>35</th>\n",
       "      <td>4</td>\n",
       "    </tr>\n",
       "    <tr>\n",
       "      <th>36</th>\n",
       "      <td>4</td>\n",
       "    </tr>\n",
       "    <tr>\n",
       "      <th>37</th>\n",
       "      <td>3</td>\n",
       "    </tr>\n",
       "    <tr>\n",
       "      <th>38</th>\n",
       "      <td>3</td>\n",
       "    </tr>\n",
       "    <tr>\n",
       "      <th>39</th>\n",
       "      <td>4</td>\n",
       "    </tr>\n",
       "  </tbody>\n",
       "</table>\n",
       "</div>"
      ],
      "text/plain": [
       "    0\n",
       "0   3\n",
       "1   0\n",
       "2   0\n",
       "3   0\n",
       "4   4\n",
       "5   0\n",
       "6   0\n",
       "7   0\n",
       "8   4\n",
       "9   1\n",
       "10  4\n",
       "11  4\n",
       "12  4\n",
       "13  3\n",
       "14  4\n",
       "15  4\n",
       "16  4\n",
       "17  4\n",
       "18  1\n",
       "19  4\n",
       "20  4\n",
       "21  1\n",
       "22  4\n",
       "23  3\n",
       "24  4\n",
       "25  4\n",
       "26  4\n",
       "27  4\n",
       "28  4\n",
       "29  4\n",
       "30  4\n",
       "31  4\n",
       "32  4\n",
       "33  4\n",
       "34  4\n",
       "35  4\n",
       "36  4\n",
       "37  3\n",
       "38  3\n",
       "39  4"
      ]
     },
     "execution_count": 30,
     "metadata": {},
     "output_type": "execute_result"
    }
   ],
   "source": [
    "ground_truth = np.array([i for i in range(40)])[np.newaxis, :].repeat(4, axis=0)\n",
    "pd.DataFrame((result_fbcca_single_component[0] == ground_truth).sum(axis=0))"
   ]
  },
  {
   "cell_type": "code",
   "execution_count": null,
   "id": "4a17ebd6-bc60-47ae-a0ef-bdd50807f75b",
   "metadata": {
    "tags": []
   },
   "outputs": [],
   "source": []
  },
  {
   "cell_type": "code",
   "execution_count": null,
   "id": "163b2c56-ddfa-423d-981f-4fe25ee4a321",
   "metadata": {},
   "outputs": [],
   "source": []
  }
 ],
 "metadata": {
  "kernelspec": {
   "display_name": "Python 3 (ipykernel)",
   "language": "python",
   "name": "python3"
  },
  "language_info": {
   "codemirror_mode": {
    "name": "ipython",
    "version": 3
   },
   "file_extension": ".py",
   "mimetype": "text/x-python",
   "name": "python",
   "nbconvert_exporter": "python",
   "pygments_lexer": "ipython3",
   "version": "3.10.13"
  }
 },
 "nbformat": 4,
 "nbformat_minor": 5
}
