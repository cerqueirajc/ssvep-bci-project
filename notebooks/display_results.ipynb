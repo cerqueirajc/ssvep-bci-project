{
 "cells": [
  {
   "cell_type": "code",
   "execution_count": null,
   "id": "e9ece420-01e2-42da-8753-e4927234a0f7",
   "metadata": {
    "tags": []
   },
   "outputs": [],
   "source": [
    "%load_ext autoreload\n",
    "%autoreload 2"
   ]
  },
  {
   "cell_type": "code",
   "execution_count": null,
   "id": "53bf8323-ac17-4abe-b03a-9c4d9cafb9fc",
   "metadata": {
    "tags": []
   },
   "outputs": [],
   "source": [
    "import numpy as np\n",
    "\n",
    "import pandas as pd\n",
    "pd.set_option('display.max_rows', 500)\n",
    "pd.set_option('display.max_columns', 500)"
   ]
  },
  {
   "cell_type": "code",
   "execution_count": null,
   "id": "0675b80e-84f9-49fe-b471-c8cc9ea2cd72",
   "metadata": {
    "tags": []
   },
   "outputs": [],
   "source": [
    "experiment_names = [\n",
    "    # \"cca_original\",\n",
    "    # \"cca_fixed\",\n",
    "    # \"cca_original_5s_window\",\n",
    "    # \"cca_fb\",\n",
    "    \"cca_original_3s_window\",\n",
    "    \"cca_fixed_3s_window\",\n",
    "    \"cca_fb_3s_window\",\n",
    "    \"cca_spatiotemporal_1_10_3s_window\",\n",
    "    \"cca_spatiotemporal_1_20_3s_window\",\n",
    "    \"cca_fb_alternative_3s_window\",\n",
    "    \"cca_fb_fixed_3s_window\",\n",
    "]"
   ]
  },
  {
   "cell_type": "code",
   "execution_count": null,
   "id": "108e31f6-6760-452b-a52d-ae33ebb242ca",
   "metadata": {
    "tags": []
   },
   "outputs": [],
   "source": [
    "acc_list = []\n",
    "for name in experiment_names:\n",
    "    \n",
    "    acc = np.load(f\"ssvep-bci-project/results/scripts/{name}/accuracy.npy\")\n",
    "    \n",
    "    acc_list.append(\n",
    "        pd.DataFrame(acc, columns=[\"correct_predictions\", \"accuracy\"])\n",
    "        .assign(scenario=name)\n",
    "        .reset_index()\n",
    "        .rename(columns={\"index\": \"subject\"})\n",
    "    )\n",
    "\n",
    "dataframe = pd.concat(acc_list)\n"
   ]
  },
  {
   "cell_type": "code",
   "execution_count": null,
   "id": "96aa3e67-61a2-48cd-a29a-f9c69762b1ae",
   "metadata": {
    "tags": []
   },
   "outputs": [],
   "source": [
    "dataframe.set_index([\"scenario\", \"subject\"])[\"accuracy\"].unstack(1)"
   ]
  },
  {
   "cell_type": "code",
   "execution_count": null,
   "id": "e3e0ca4e-316d-42e4-b358-e1b58c86b381",
   "metadata": {
    "tags": []
   },
   "outputs": [],
   "source": [
    "dataframe.groupby(\"scenario\").agg({\n",
    "    \"accuracy\": \"mean\",\n",
    "    \"correct_predictions\": \"sum\",\n",
    "}).sort_values(by=\"accuracy\")"
   ]
  },
  {
   "cell_type": "markdown",
   "id": "920b1ebb-16a7-4568-a2a4-21d57c443a5c",
   "metadata": {},
   "source": [
    "CCA\n",
    "- numero de harmonicas\n",
    "- tamanho da janela\n",
    "- lista de eletrodos\n",
    "\n",
    "Spatial:\n",
    "- tamanho do passo\n",
    "- tamanho da janela\n",
    "+ experimentar fazer a curva de desempenho vs tamanho da janela, fixando o passo em 0\n",
    "+ explicar que estamos usando os primeiro 500ms para preencher o filtro FIR das primeiras amostras\n",
    "\n",
    "Filter bank:\n",
    "- número de filtros\n",
    "- hiperparâmetros do kernel arbitrário"
   ]
  },
  {
   "cell_type": "markdown",
   "id": "3eb81104-0ec9-430e-800e-f9d4a5600e89",
   "metadata": {},
   "source": [
    "Testar janelas de 2 e 3 segundos\n",
    "\n",
    "- CCA Original\n",
    "- SS-CCA Original (PEGAR HIPERPARAMETRO DO ARTIGO)\n",
    "- CCA FIR-Filter-bank\n",
    "- FB-CCA\n",
    "- FB-CCA with FIR-filter\n",
    "\n",
    "Depois com fixed\n",
    "\n",
    "- CCA Original (with training)\n",
    "- SS-CCA Original (PEGAR HIPERPARAMETRO DO ARTIGO)\n",
    "- CCA FIR-Filter-bank (with training) ==> testar janelas diferentes, variar até algum máximo\n",
    "- FB-CCA (with training)\n",
    "- FB-CCA with FIR-filter (with training)\n"
   ]
  },
  {
   "cell_type": "markdown",
   "id": "f21dc6a3-da06-4b9a-8ece-ce4f79adbf1c",
   "metadata": {},
   "source": [
    "Qualificação até final de setembro\n",
    "- 15 dias de antecedência pra entrar com pedido\n",
    "- teria que estar pronto no dia que abre o pedido\n",
    "- olhar instruções na página da pós-graduação da FEEC\n",
    "- aluno que marca\n",
    "- https://www.fee.unicamp.br/pos-graduacao/alunos-regulares/\n",
    "    > vida academica\n",
    "    > >exame de qualificação"
   ]
  },
  {
   "cell_type": "markdown",
   "id": "557bd662-0262-48e2-b18f-0f15a1c5ded3",
   "metadata": {},
   "source": [
    "Proposta:\n",
    "\n",
    "- Uso de mais atrasos no vetor de variáveis aleatórias\n",
    "    - Expandindo o algoritmo proposto Spatio-temporal CCA\n",
    "    - É como se fosse um \"banco de filtros FIR\"\n",
    "- Contraste entre aplicação do CCA janela a janela vs. CCA com a fase e vetor de pesos fixo:\n",
    "    - Fazer uma revisão dos artigos citados no Artigo de 2015\n",
    "    - Subproposta: combinar FB-CCA com CCA pesos fixos para maximizar performance\n",
    "\n",
    "Conclusão: o que está feito e o que falta fazer\n",
    "\n",
    "- Ajuste do kernel linear que combina múltiplos processos CCA numa correlação final"
   ]
  },
  {
   "cell_type": "markdown",
   "id": "58ad693a-d471-4692-a838-9b76eb6f44d1",
   "metadata": {},
   "source": [
    "No texto, descrever os processos via diagrama\n",
    "Colocar os resultados e ver quanto espaço sobra\n",
    "Priorizar explicar o CCA\n",
    "Os outros algoritmos podem ser explicados de maneira mais simples"
   ]
  },
  {
   "cell_type": "code",
   "execution_count": null,
   "id": "db7b2a80-6d3f-46c0-bd6c-923a345918e6",
   "metadata": {},
   "outputs": [],
   "source": []
  }
 ],
 "metadata": {
  "kernelspec": {
   "display_name": "Python 3 (ipykernel)",
   "language": "python",
   "name": "python3"
  },
  "language_info": {
   "codemirror_mode": {
    "name": "ipython",
    "version": 3
   },
   "file_extension": ".py",
   "mimetype": "text/x-python",
   "name": "python",
   "nbconvert_exporter": "python",
   "pygments_lexer": "ipython3",
   "version": "3.9.16"
  }
 },
 "nbformat": 4,
 "nbformat_minor": 5
}
