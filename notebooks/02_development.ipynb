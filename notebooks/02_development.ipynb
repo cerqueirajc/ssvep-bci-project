{
 "cells": [
  {
   "cell_type": "code",
   "execution_count": null,
   "id": "74ff819f-20eb-4ff6-976e-80b784bcd92b",
   "metadata": {
    "tags": []
   },
   "outputs": [],
   "source": [
    "%load_ext autoreload\n",
    "%autoreload 2"
   ]
  },
  {
   "cell_type": "code",
   "execution_count": null,
   "id": "5d6be23b-04dd-450d-9f55-feaacff40b51",
   "metadata": {
    "tags": []
   },
   "outputs": [],
   "source": [
    "import numpy as np\n",
    "import pandas as pd\n",
    "import scipy"
   ]
  },
  {
   "cell_type": "code",
   "execution_count": null,
   "id": "8601a22a-e74b-4950-b2fe-c441d84eb6d0",
   "metadata": {
    "tags": []
   },
   "outputs": [],
   "source": [
    "from scipy.fft import fft, ifft, fftfreq"
   ]
  },
  {
   "cell_type": "code",
   "execution_count": null,
   "id": "b06d9e12-011a-4a40-a802-770986ffcc18",
   "metadata": {
    "tags": []
   },
   "outputs": [],
   "source": [
    "# from definitions import (\n",
    "#     NUM_BLOCKS,\n",
    "#     NUM_TARGETS,\n",
    "#     NUM_SAMPLES,\n",
    "#     NUM_ELECTRODES,\n",
    "#     SAMPLE_FREQ,\n",
    "#     SAMPLE_T,\n",
    "#     TARGET_FREQUENCY,\n",
    "#     TARGET_PHASE,\n",
    "#     ELECTRODE_INDEX\n",
    "# )"
   ]
  },
  {
   "cell_type": "code",
   "execution_count": null,
   "id": "9c9a9b55-d31a-46c8-81d1-304ff4024426",
   "metadata": {
    "tags": []
   },
   "outputs": [],
   "source": [
    "from ssvepcca.utils import load_mat_to_pandas, get_harmonic_columns"
   ]
  },
  {
   "cell_type": "code",
   "execution_count": null,
   "id": "62f0f01c-9d06-4a2d-8929-eabd5802bd6f",
   "metadata": {
    "tags": []
   },
   "outputs": [],
   "source": [
    "mat_data = scipy.io.loadmat(\"dataset_chines/S2.mat\")"
   ]
  },
  {
   "cell_type": "code",
   "execution_count": null,
   "id": "85865302-739b-4e2f-af74-c05357997024",
   "metadata": {
    "tags": []
   },
   "outputs": [],
   "source": [
    "# mat_data[\"data\"]"
   ]
  },
  {
   "cell_type": "code",
   "execution_count": null,
   "id": "dbc3a7fb-f311-46ec-941c-08059af933f5",
   "metadata": {
    "tags": []
   },
   "outputs": [],
   "source": [
    "df = load_mat_to_pandas(\"dataset_chines/S2.mat\").set_index([\"block\", \"target\", \"time_ms\"])\n",
    "dataset = mat_data[\"data\"].T"
   ]
  },
  {
   "cell_type": "code",
   "execution_count": null,
   "id": "28361f09-e4ce-45ba-8ab3-a821759c1875",
   "metadata": {
    "tags": []
   },
   "outputs": [],
   "source": [
    "(df.loc[0,0].loc[0:1000][\"electrode_54\"].plot())"
   ]
  },
  {
   "cell_type": "code",
   "execution_count": null,
   "id": "89d2db88-c948-4037-81fe-bf623e4e350e",
   "metadata": {
    "tags": []
   },
   "outputs": [],
   "source": [
    "# df[[\"electrode_54\",\n",
    "#     \"electrode_55\",\n",
    "#     \"electrode_56\",\n",
    "#     \"electrode_57\",\n",
    "#     \"electrode_58\",\n",
    "#     \"electrode_59\"]].mean(axis=1).loc[0,1].plot()"
   ]
  },
  {
   "cell_type": "markdown",
   "id": "69af3b31-df09-4045-88b8-1cab3c5d4837",
   "metadata": {},
   "source": [
    "## Test model on the dataset"
   ]
  },
  {
   "cell_type": "code",
   "execution_count": null,
   "id": "3c8060fa-a820-48c3-8d9f-c3ccad33cbd6",
   "metadata": {
    "tags": []
   },
   "outputs": [],
   "source": [
    "import ssvepcca.learners as learners\n",
    "import ssvepcca.pipelines as pipelines\n",
    "import ssvepcca.parameters as parameters\n",
    "import ssvepcca.definitions as definitions\n",
    "import ssvepcca.utils as utils"
   ]
  },
  {
   "cell_type": "code",
   "execution_count": null,
   "id": "20f52cc7-30ae-4d19-8ada-fc04d4b68ce1",
   "metadata": {
    "tags": []
   },
   "outputs": [],
   "source": [
    "dataset.shape"
   ]
  },
  {
   "cell_type": "code",
   "execution_count": null,
   "id": "1079317d-d657-4218-95ec-7ca10d94f656",
   "metadata": {
    "tags": []
   },
   "outputs": [],
   "source": [
    "model_single = learners.CCASingleComponent(\n",
    "    electrodes_name=parameters.electrode_list_fbcca,\n",
    "    start_time_index=0,\n",
    "    stop_time_index=1500,\n",
    ")"
   ]
  },
  {
   "cell_type": "code",
   "execution_count": null,
   "id": "3449b737-3b05-4f23-9cc9-798f6a3bb468",
   "metadata": {
    "tags": []
   },
   "outputs": [],
   "source": [
    "elecs = tuple(utils.electrodes_name_to_index(parameters.electrode_list_fbcca))\n",
    "df = dataset[0, 0, :, :]\n",
    "h = model_single.harmonic_column(8)\n",
    "\n",
    "df[:, elecs].shape, h.shape"
   ]
  },
  {
   "cell_type": "code",
   "execution_count": null,
   "id": "e61a4a4c-4af0-42a7-893a-9a5eb8b1d893",
   "metadata": {
    "tags": []
   },
   "outputs": [],
   "source": [
    "cca_model = learners.CCACorrelation(n_components=1, max_iter=1000, scale=False)"
   ]
  },
  {
   "cell_type": "code",
   "execution_count": null,
   "id": "b1db4fbd-bf22-43c8-a1a6-1da59e8b7e75",
   "metadata": {
    "tags": []
   },
   "outputs": [],
   "source": [
    "cca_model.fit_correlation(df[:, elecs], h)"
   ]
  },
  {
   "cell_type": "code",
   "execution_count": null,
   "id": "5a7ddd6f-8aa3-413b-8460-4683217c0a5a",
   "metadata": {
    "tags": []
   },
   "outputs": [],
   "source": [
    "model_single = learners.CCASingleComponent(\n",
    "    electrodes_name=[\"O1\"],\n",
    "    start_time_index=0,\n",
    "    stop_time_index=1500,\n",
    ")\n",
    "\n",
    "result_single = pipelines.test_fit_predict(dataset, model_single)"
   ]
  },
  {
   "cell_type": "code",
   "execution_count": null,
   "id": "107cd26f-0e30-4388-ba5d-cfb42ff046e3",
   "metadata": {
    "tags": []
   },
   "outputs": [],
   "source": [
    "utils.electrodes_name_to_index(parameters.electrode_list_fbcca)"
   ]
  },
  {
   "cell_type": "code",
   "execution_count": null,
   "id": "7551db53-76b6-4ff8-a87b-00c34bf550e7",
   "metadata": {
    "tags": []
   },
   "outputs": [],
   "source": [
    "l = parameters.electrode_list_fbcca"
   ]
  },
  {
   "cell_type": "code",
   "execution_count": null,
   "id": "e29748b0-dbe9-45bc-ab1d-2058d95fc4a4",
   "metadata": {
    "tags": []
   },
   "outputs": [],
   "source": [
    "l"
   ]
  },
  {
   "cell_type": "code",
   "execution_count": null,
   "id": "fbe2c5c5-9368-48f8-9ab9-7595a587ca09",
   "metadata": {
    "tags": []
   },
   "outputs": [],
   "source": [
    "model = learners.CCASingleComponent(\n",
    "    electrodes_name=parameters.electrode_list_fbcca,\n",
    "    start_time_index=0,\n",
    "    stop_time_index=1500,\n",
    ")\n",
    "\n",
    "result_all = pipelines.test_fit_predict(dataset, model)"
   ]
  },
  {
   "cell_type": "code",
   "execution_count": null,
   "id": "3f730325-e2d7-45eb-8e59-01ecacb4cca8",
   "metadata": {
    "tags": []
   },
   "outputs": [],
   "source": [
    "utils.eval_accuracy(result_all[0])"
   ]
  },
  {
   "cell_type": "markdown",
   "id": "760caa32-b1e3-4dc8-8c2d-09ebf462d19d",
   "metadata": {},
   "source": [
    "## Develop pipeline to k-fold cv a learner that needs training "
   ]
  },
  {
   "cell_type": "code",
   "execution_count": null,
   "id": "d2e962a0-b55b-4a59-96b1-5f140a7e128e",
   "metadata": {
    "tags": []
   },
   "outputs": [],
   "source": [
    "dataset[:-1, :, :, :]"
   ]
  },
  {
   "cell_type": "code",
   "execution_count": null,
   "id": "93b9178c-652c-468b-b1b5-c781c2a236b6",
   "metadata": {
    "tags": []
   },
   "outputs": [],
   "source": [
    "target = np.zeros((5, 40))"
   ]
  },
  {
   "cell_type": "code",
   "execution_count": null,
   "id": "03360feb-cb5e-44cf-85e0-14949e0d5f82",
   "metadata": {
    "tags": []
   },
   "outputs": [],
   "source": [
    "for i in range(target.shape[1]): target[:, i] = i "
   ]
  },
  {
   "cell_type": "code",
   "execution_count": null,
   "id": "1fdf77d1-adcf-42ea-92f7-827400fb62e0",
   "metadata": {
    "tags": []
   },
   "outputs": [],
   "source": [
    "target.reshape(-1).shape"
   ]
  },
  {
   "cell_type": "code",
   "execution_count": null,
   "id": "43509197-a323-4150-a773-1b0e7e23feb6",
   "metadata": {
    "tags": []
   },
   "outputs": [],
   "source": [
    "dataset[:-1, :, :, :].shape"
   ]
  },
  {
   "cell_type": "code",
   "execution_count": null,
   "id": "59ff8c1a-e537-4022-9d9c-c4e2992ae165",
   "metadata": {
    "tags": []
   },
   "outputs": [],
   "source": [
    "dataset.ndim"
   ]
  },
  {
   "cell_type": "code",
   "execution_count": null,
   "id": "2962d4a6-1bd5-46d7-856a-e2f6d4b4a8ec",
   "metadata": {
    "tags": []
   },
   "outputs": [],
   "source": [
    "get_harmonic_columns(8).shape"
   ]
  },
  {
   "cell_type": "code",
   "execution_count": null,
   "id": "c41db44c-17a4-498e-b7d5-6f7d8d450b4b",
   "metadata": {
    "tags": []
   },
   "outputs": [],
   "source": [
    "harmonic_tensor = get_harmonic_columns(8)[np.newaxis, :, :].repeat(3, axis=0)"
   ]
  },
  {
   "cell_type": "code",
   "execution_count": null,
   "id": "ebc9e43a-c261-47dc-9a85-9ca5ab879075",
   "metadata": {
    "tags": []
   },
   "outputs": [],
   "source": [
    "harmonic_tensor.shape"
   ]
  },
  {
   "cell_type": "code",
   "execution_count": null,
   "id": "21df843c-bbb9-4f13-80fd-27de4e16bb04",
   "metadata": {
    "tags": []
   },
   "outputs": [],
   "source": [
    "harmonic_tensor.reshape(-1, 6)"
   ]
  },
  {
   "cell_type": "code",
   "execution_count": null,
   "id": "712c29cf-0318-4d01-beca-41bd308ea606",
   "metadata": {
    "tags": []
   },
   "outputs": [],
   "source": [
    "ccafixed = learners.CCAFixedCoefficients(\n",
    "    electrodes_name=parameters.electrode_list_fbcca\n",
    ")"
   ]
  },
  {
   "cell_type": "code",
   "execution_count": null,
   "id": "6c37c7f4-c71b-4e9d-8ef0-276acbdf3429",
   "metadata": {
    "tags": []
   },
   "outputs": [],
   "source": [
    "ccaoriginal = learners.CCASingleComponent(\n",
    "    electrodes_name=parameters.electrode_list_fbcca\n",
    ")"
   ]
  },
  {
   "cell_type": "code",
   "execution_count": null,
   "id": "39335911-5efb-45b6-83ce-ca191afd9c22",
   "metadata": {
    "tags": []
   },
   "outputs": [],
   "source": [
    "dataset.shape"
   ]
  },
  {
   "cell_type": "code",
   "execution_count": null,
   "id": "c900d366-54fe-453d-a97c-a0d012537404",
   "metadata": {
    "tags": []
   },
   "outputs": [],
   "source": [
    "dataset[..., 0, 0, 0, 0].shape"
   ]
  },
  {
   "cell_type": "code",
   "execution_count": null,
   "id": "b2b1168b-7208-437a-ae60-d46349ea92c3",
   "metadata": {
    "tags": []
   },
   "outputs": [],
   "source": [
    "ccafixed.fit(dataset[:-1, ...])"
   ]
  },
  {
   "cell_type": "code",
   "execution_count": null,
   "id": "877b48c8-639a-4aa7-bf2f-d2e6076b2cf3",
   "metadata": {
    "tags": []
   },
   "outputs": [],
   "source": [
    "ccafixed.predict(\n",
    "    dataset[-1, 39, ...]\n",
    ")[0]"
   ]
  },
  {
   "cell_type": "code",
   "execution_count": null,
   "id": "89348da6-66ff-4bda-8d82-286ee504c071",
   "metadata": {
    "tags": []
   },
   "outputs": [],
   "source": [
    "for i in range(40):\n",
    "    p = ccaoriginal.predict_proba(dataset[-1, i, ...]).argmax()\n",
    "    print(i, p, i==p)"
   ]
  },
  {
   "cell_type": "code",
   "execution_count": null,
   "id": "bdbef7b4-a139-44cf-8f31-9765e5d0f0dc",
   "metadata": {
    "tags": []
   },
   "outputs": [],
   "source": [
    "for i in range(40):\n",
    "    p = ccafixed.predict_proba(dataset[-1, i, ...]).argmax()\n",
    "    print(i, p, i==p)"
   ]
  },
  {
   "cell_type": "code",
   "execution_count": null,
   "id": "8173debf-b4f1-4886-b229-6e723382b40c",
   "metadata": {
    "tags": []
   },
   "outputs": [],
   "source": [
    "r = pipelines.k_fold_predict(dataset, learners.CCAFixedCoefficients(electrodes_name=parameters.electrode_list_fbcca))\n",
    "utils.eval_accuracy(r[0])"
   ]
  },
  {
   "cell_type": "code",
   "execution_count": null,
   "id": "61d2ce62-7b38-4fc2-a214-49e065bc8d75",
   "metadata": {
    "tags": []
   },
   "outputs": [],
   "source": [
    "r = pipelines.k_fold_predict(dataset, learners.CCAFixedCoefficients(\n",
    "    electrodes_name=parameters.electrode_list_fbcca,\n",
    "    start_time_index=125,\n",
    "    stop_time_index=125 + 250 * 3,\n",
    "))\n",
    "utils.eval_accuracy(r[0])"
   ]
  },
  {
   "cell_type": "code",
   "execution_count": null,
   "id": "beb8564a-3509-4433-95ab-041693553525",
   "metadata": {
    "tags": []
   },
   "outputs": [],
   "source": [
    "r = pipelines.test_fit_predict(dataset, learners.CCASingleComponent(electrodes_name=parameters.electrode_list_fbcca))\n",
    "utils.eval_accuracy(r[0])"
   ]
  },
  {
   "cell_type": "code",
   "execution_count": null,
   "id": "f46be51f-1f43-4ea2-a1ce-85ef78fe3a07",
   "metadata": {
    "tags": []
   },
   "outputs": [],
   "source": [
    "r = pipelines.test_fit_predict(dataset, learners.CCASingleComponent(\n",
    "    electrodes_name=parameters.electrode_list_fbcca,\n",
    "    start_time_index=125,\n",
    "    stop_time_index=1375,\n",
    "))\n",
    "utils.eval_accuracy(r[0])"
   ]
  },
  {
   "cell_type": "code",
   "execution_count": null,
   "id": "644206d3-cc68-4638-8b80-12457ec15382",
   "metadata": {
    "tags": []
   },
   "outputs": [],
   "source": [
    "r = pipelines.test_fit_predict(dataset, learners.CCASingleComponent(\n",
    "    electrodes_name=parameters.electrode_list_fbcca,\n",
    "    start_time_index=125,\n",
    "    stop_time_index=125 + 250 * 3,\n",
    "))\n",
    "utils.eval_accuracy(r[0])"
   ]
  },
  {
   "cell_type": "markdown",
   "id": "d30459f9-b3d6-4ddd-b993-cf2dfb7e0df3",
   "metadata": {},
   "source": [
    "## Develop pipeline to test model on all subjects"
   ]
  },
  {
   "cell_type": "code",
   "execution_count": null,
   "id": "d88d8323-b43a-4cab-b156-fba9e46cdb35",
   "metadata": {
    "tags": []
   },
   "outputs": [],
   "source": [
    "sbj = 1\n",
    "data = utils.load_mat_data_array(f\"dataset_chines/S{sbj}.mat\")"
   ]
  },
  {
   "cell_type": "code",
   "execution_count": null,
   "id": "0eca7be4-62c0-408b-8a2a-2b8936518fa8",
   "metadata": {
    "tags": []
   },
   "outputs": [],
   "source": [
    "definitions.NUM_SUBJECTS"
   ]
  },
  {
   "cell_type": "code",
   "execution_count": null,
   "id": "c7791dcb-9544-4fd6-b910-d3be26ae1277",
   "metadata": {
    "tags": []
   },
   "outputs": [],
   "source": [
    "results = dict(\n",
    "    predictions = [],\n",
    "    accuracy = [],\n",
    ")\n",
    "\n",
    "for subject_num in range(1, definitions.NUM_SUBJECTS + 1):\n",
    "    \n",
    "    dataset_path = f\"dataset_chines/S{subject_num}.mat\"\n",
    "    dataset = utils.load_mat_data_array(dataset_path)\n",
    "    \n",
    "    model = learners.CCASingleComponent(\n",
    "        electrodes_name=parameters.electrode_list_fbcca,\n",
    "        start_time_index=0,\n",
    "        stop_time_index=1500,\n",
    "    )\n",
    "    \n",
    "    pred = pipelines.test_fit_predict(dataset, model)\n",
    "    accuracy = utils.metric_accuracy(pred)\n",
    "    \n",
    "    results[\"predictions\"].append(pred)\n",
    "    results[\"accuracy\"].append(accuracy)\n"
   ]
  },
  {
   "cell_type": "code",
   "execution_count": null,
   "id": "dc0e1cb2-ccfd-4406-870e-2d518868e828",
   "metadata": {
    "tags": []
   },
   "outputs": [],
   "source": [
    "results[\"predictions\"][0]"
   ]
  },
  {
   "cell_type": "markdown",
   "id": "019f346f-2505-4f07-900e-77f87f5ee8d7",
   "metadata": {},
   "source": [
    "## Filterbank"
   ]
  },
  {
   "cell_type": "code",
   "execution_count": null,
   "id": "efc33044-9f26-44a2-b892-23373febd9e8",
   "metadata": {
    "tags": []
   },
   "outputs": [],
   "source": [
    "from scipy import signal\n",
    "import matplotlib.pyplot as plt"
   ]
  },
  {
   "cell_type": "code",
   "execution_count": null,
   "id": "0158d1f6-64c1-472d-9faf-73c5cdb22f82",
   "metadata": {
    "tags": []
   },
   "outputs": [],
   "source": [
    "def mfreqz(b, a, Fs):\n",
    "   \n",
    "    # Compute frequency response of the filter\n",
    "    # using signal.freqz function\n",
    "    wz, hz = signal.freqz(b, a)\n",
    " \n",
    "    # Calculate Magnitude from hz in dB\n",
    "    Mag = 20*np.log10(abs(hz))\n",
    " \n",
    "    # Calculate phase angle in degree from hz\n",
    "    Phase = np.unwrap(np.arctan2(np.imag(hz), np.real(hz)))*(180/np.pi)\n",
    "     \n",
    "    # Calculate frequency in Hz from wz\n",
    "    Freq = wz*Fs/(2*np.pi)\n",
    "     \n",
    "    # Plot filter magnitude and phase responses using subplot.\n",
    "    fig = plt.figure(figsize=(10, 6))\n",
    " \n",
    "    # Plot Magnitude response\n",
    "    sub1 = plt.subplot(2, 1, 1)\n",
    "    sub1.plot(Freq, Mag, 'r', linewidth=2)\n",
    "    sub1.axis([1, Fs/2, -100, 5])\n",
    "    sub1.set_title('Magnitude Response', fontsize=20)\n",
    "    sub1.set_xlabel('Frequency [Hz]', fontsize=20)\n",
    "    sub1.set_ylabel('Magnitude [dB]', fontsize=20)\n",
    "    sub1.grid()\n",
    " \n",
    "    # Plot phase angle\n",
    "    sub2 = plt.subplot(2, 1, 2)\n",
    "    sub2.plot(Freq, Phase, 'g', linewidth=2)\n",
    "    sub2.set_ylabel('Phase (degree)', fontsize=20)\n",
    "    sub2.set_xlabel(r'Frequency (Hz)', fontsize=20)\n",
    "    sub2.set_title(r'Phase response', fontsize=20)\n",
    "    sub2.grid()\n",
    " \n",
    "    plt.subplots_adjust(hspace=0.5)\n",
    "    fig.tight_layout()\n",
    "    plt.show()"
   ]
  },
  {
   "cell_type": "code",
   "execution_count": null,
   "id": "ed4cb98b-0b0b-4ded-950a-16ef6b900161",
   "metadata": {
    "tags": []
   },
   "outputs": [],
   "source": [
    "fs = 250\n",
    "fcuts = [8, 16]\n",
    "\n",
    "b, a = signal.cheby1(\n",
    "    N=6,\n",
    "    rp=0.5,\n",
    "    Wn=fcuts,\n",
    "    btype=\"bandpass\",\n",
    "    analog=False,\n",
    "    output=\"ba\",\n",
    "    fs=fs\n",
    ")"
   ]
  },
  {
   "cell_type": "code",
   "execution_count": null,
   "id": "70343520-d5b9-4b92-a8e1-b282bccff332",
   "metadata": {
    "tags": []
   },
   "outputs": [],
   "source": [
    "mfreqz(b, a, fs)"
   ]
  },
  {
   "cell_type": "code",
   "execution_count": null,
   "id": "2b217385-c179-454d-bbe1-a3845b5405a0",
   "metadata": {
    "tags": []
   },
   "outputs": [],
   "source": [
    "x_original = dataset[0, 0, :, 53]"
   ]
  },
  {
   "cell_type": "code",
   "execution_count": null,
   "id": "dba26adf-2fe2-44ac-97af-328cd12fcf85",
   "metadata": {
    "tags": []
   },
   "outputs": [],
   "source": [
    "signal.filtfilt?"
   ]
  },
  {
   "cell_type": "code",
   "execution_count": null,
   "id": "7e305105-999b-496a-9aed-03cf54b08c7c",
   "metadata": {
    "tags": []
   },
   "outputs": [],
   "source": [
    "x_filtered = signal.filtfilt(b=b, a=a, x=x_original)\n",
    "x_filtered_gust = signal.filtfilt(b=b, a=a, x=x_original, padtype=\"odd\")"
   ]
  },
  {
   "cell_type": "code",
   "execution_count": null,
   "id": "19aa9b67-a0da-44e4-97e9-73aed74aadc6",
   "metadata": {
    "tags": []
   },
   "outputs": [],
   "source": [
    "N = 1500 # Number of sample points\n",
    "T = 1/250 # sample spacing \n",
    "\n",
    "fr = fftfreq(N, T)[:N//4]\n",
    "\n",
    "xf_original = fft(x_original)\n",
    "xf_filtered = fft(x_filtered)\n",
    "xf_filtered_gust = fft(x_filtered_gust)\n",
    "\n",
    "\n",
    "plt.semilogy(fr, 2.0/N * np.abs(xf_original[:N//4]))\n",
    "plt.semilogy(fr, 2.0/N * np.abs(xf_filtered[:N//4]))\n",
    "plt.semilogy(fr, 2.0/N * np.abs(xf_filtered_gust[:N//4]))\n",
    "plt.grid()\n",
    "plt.show()"
   ]
  },
  {
   "cell_type": "code",
   "execution_count": null,
   "id": "2568cf07-32b4-4e91-87df-eaca1b595db4",
   "metadata": {
    "tags": []
   },
   "outputs": [],
   "source": [
    "fbcca_model = learners.FBCCA(\n",
    "    electrodes_name=parameters.electrode_list_fbcca,\n",
    "    num_harmonics=5,\n",
    "    fb_num_subband=10,\n",
    "    fb_fundamental_freq=8,\n",
    "    fb_upper_bound_freq=88,\n",
    ")"
   ]
  },
  {
   "cell_type": "code",
   "execution_count": null,
   "id": "55ba3b7b-22bb-48cb-8764-4dc432a51d07",
   "metadata": {
    "tags": []
   },
   "outputs": [],
   "source": [
    "fb_proba = fbcca_model.predict_proba(dataset[0,0,...])"
   ]
  },
  {
   "cell_type": "code",
   "execution_count": null,
   "id": "efec2d58-0028-44a2-8652-62f78e7990ec",
   "metadata": {
    "tags": []
   },
   "outputs": [],
   "source": [
    "fb_proba.shape"
   ]
  },
  {
   "cell_type": "code",
   "execution_count": null,
   "id": "26a596b6-6f65-4073-8f3a-de4a650066a0",
   "metadata": {
    "tags": []
   },
   "outputs": [],
   "source": [
    "r = pipelines.test_fit_predict(dataset, fbcca_model)\n",
    "utils.eval_accuracy(r[0])"
   ]
  },
  {
   "cell_type": "markdown",
   "id": "fbfd5047-854e-4ab5-b196-6c1958ff4fac",
   "metadata": {},
   "source": [
    "## develop FBCCA with SS"
   ]
  },
  {
   "cell_type": "code",
   "execution_count": null,
   "id": "28af2f94-32ff-4431-95bb-60b6274806bd",
   "metadata": {
    "tags": []
   },
   "outputs": [],
   "source": [
    "import matplotlib.pyplot as plt"
   ]
  },
  {
   "cell_type": "code",
   "execution_count": null,
   "id": "5b3b04ac-def5-4268-b843-b13671677728",
   "metadata": {
    "tags": []
   },
   "outputs": [],
   "source": [
    "from ssvepcca.utils import load_mat_data_array\n",
    "from ssvepcca.pipelines import test_fit_predict, k_fold_predict\n",
    "from ssvepcca.learners import (\n",
    "    CCASingleComponent, FilterbankCCA, CCAFixedCoefficients, CCAMultiComponent, AlternativeFBCCA,\n",
    "    CCASpatioTemporal, FBCCAFixedCoefficients, CCASpatioTemporalFixed,\n",
    "    FBSpatioTemporalCCA\n",
    ")\n",
    "from ssvepcca.parameters import electrode_list_fbcca"
   ]
  },
  {
   "cell_type": "code",
   "execution_count": null,
   "id": "733dc9b9-6b1f-4f38-860c-f045de353174",
   "metadata": {
    "tags": []
   },
   "outputs": [],
   "source": [
    "input_data = load_mat_data_array(\"dataset_chines/S2.mat\")"
   ]
  },
  {
   "cell_type": "code",
   "execution_count": null,
   "id": "fc67d15f-7d1b-4e5a-b652-e9bae6432ee1",
   "metadata": {
    "tags": []
   },
   "outputs": [],
   "source": [
    "model = FBSpatioTemporalCCA(\n",
    "    electrodes_name=electrode_list_fbcca,\n",
    "    start_time_index=125,\n",
    "    stop_time_index=875,\n",
    "    num_harmonics=5,\n",
    "    fb_num_subband=10,\n",
    "    fb_fundamental_freq=8,\n",
    "    fb_upper_bound_freq=88,\n",
    "    window_gap=0,\n",
    "    window_length=1,\n",
    ")    "
   ]
  },
  {
   "cell_type": "code",
   "execution_count": null,
   "id": "896d04d4-aa3f-438f-82a6-69532beb6fef",
   "metadata": {
    "tags": []
   },
   "outputs": [],
   "source": [
    "model.harmonic_column(8).shape"
   ]
  },
  {
   "cell_type": "code",
   "execution_count": null,
   "id": "acb1cb7a-e174-4149-a83e-b282d6361a22",
   "metadata": {
    "tags": []
   },
   "outputs": [],
   "source": [
    "input_data.shape"
   ]
  },
  {
   "cell_type": "code",
   "execution_count": null,
   "id": "75241d4f-9088-4555-82e8-96f01d8b2d52",
   "metadata": {
    "tags": []
   },
   "outputs": [],
   "source": [
    "input_measurement = input_data[0, 0, :, :]"
   ]
  },
  {
   "cell_type": "code",
   "execution_count": null,
   "id": "c3434915-131c-4259-9eef-c748aed24dcc",
   "metadata": {
    "tags": []
   },
   "outputs": [],
   "source": [
    "input_measurement.shape"
   ]
  },
  {
   "cell_type": "code",
   "execution_count": null,
   "id": "1d7455d4-77a9-4489-afdc-dd5e7fc94661",
   "metadata": {
    "tags": []
   },
   "outputs": [],
   "source": [
    "len(electrode_list_fbcca)"
   ]
  },
  {
   "cell_type": "code",
   "execution_count": null,
   "id": "8822bb28-0230-44d5-9359-007544264df2",
   "metadata": {
    "tags": []
   },
   "outputs": [],
   "source": [
    "res = model.feature_extractor(input_measurement)"
   ]
  },
  {
   "cell_type": "code",
   "execution_count": null,
   "id": "ac9dcb2a-24c8-4638-8d5d-7b8ebad23fff",
   "metadata": {
    "tags": []
   },
   "outputs": [],
   "source": [
    "res.shape"
   ]
  },
  {
   "cell_type": "code",
   "execution_count": null,
   "id": "a1c54e8d-9bce-4a57-91b9-61daa159db68",
   "metadata": {
    "tags": []
   },
   "outputs": [],
   "source": [
    "res[:, 9].shape"
   ]
  },
  {
   "cell_type": "code",
   "execution_count": null,
   "id": "a2dd9047-ae9a-480a-a1f8-670a2af7de04",
   "metadata": {
    "tags": []
   },
   "outputs": [],
   "source": [
    "plt.plot(res[0, 1:, 1] )"
   ]
  },
  {
   "cell_type": "code",
   "execution_count": null,
   "id": "95252630-0ff9-4d6c-a47e-1c05784be46d",
   "metadata": {
    "tags": []
   },
   "outputs": [],
   "source": [
    "plt.plot(res[0, :-1, 0])"
   ]
  },
  {
   "cell_type": "code",
   "execution_count": null,
   "id": "701f56d4-ae30-4350-ac15-b48cd7ce47b6",
   "metadata": {
    "tags": []
   },
   "outputs": [],
   "source": [
    "plt.plot(res[0, 1:, 1] - res[0, :-1, 0])"
   ]
  },
  {
   "cell_type": "code",
   "execution_count": null,
   "id": "6ab7871c-98c0-4975-9c2c-d4bb4c547ad4",
   "metadata": {
    "tags": []
   },
   "outputs": [],
   "source": [
    "plt.plot(res[0,:,7])"
   ]
  },
  {
   "cell_type": "code",
   "execution_count": null,
   "id": "481fa96e-8efa-4d5b-8411-7012be735717",
   "metadata": {
    "tags": []
   },
   "outputs": [],
   "source": [
    "model.predict_proba(input_measurement)"
   ]
  },
  {
   "cell_type": "code",
   "execution_count": null,
   "id": "89d7ea76-284a-4a80-a425-eba433b1ca11",
   "metadata": {
    "tags": []
   },
   "outputs": [],
   "source": [
    "model.predict(input_measurement)"
   ]
  },
  {
   "cell_type": "code",
   "execution_count": null,
   "id": "7e24da1f-993f-4dfc-a7b0-76f64a9fe5cb",
   "metadata": {
    "tags": []
   },
   "outputs": [],
   "source": [
    "plt.plot(input_measurement[model.start_time_index: model.stop_time_index].mean(axis=1))"
   ]
  },
  {
   "cell_type": "code",
   "execution_count": null,
   "id": "a1cfa233-eb6b-46fa-9616-9ad8ab0a02ca",
   "metadata": {
    "tags": []
   },
   "outputs": [],
   "source": [
    "plt.plot(input_measurement[model.start_time_index: model.stop_time_index, model.electrodes_index].mean(axis=1))"
   ]
  },
  {
   "cell_type": "code",
   "execution_count": null,
   "id": "db6250e6-7865-4089-8008-023596f2dce8",
   "metadata": {
    "tags": []
   },
   "outputs": [],
   "source": [
    "plt.plot(input_measurement[model.start_time_index: model.stop_time_index, model.electrodes_index][:, 7])"
   ]
  },
  {
   "cell_type": "code",
   "execution_count": null,
   "id": "f7b475e9-c109-44a1-8f32-6e0a67ba7e13",
   "metadata": {
    "tags": []
   },
   "outputs": [],
   "source": [
    "plt.plot(\n",
    "    input_measurement[model.start_time_index: model.stop_time_index, model.electrodes_index][:, 0]\n",
    ")"
   ]
  },
  {
   "cell_type": "code",
   "execution_count": null,
   "id": "6b3072fa-db6f-4a39-8d03-6cdda75f6f12",
   "metadata": {
    "tags": []
   },
   "outputs": [],
   "source": [
    "model.feature_extractor(input_measurement).shape"
   ]
  },
  {
   "cell_type": "code",
   "execution_count": null,
   "id": "6c04543c-208e-4b03-94b2-8df5985e896e",
   "metadata": {
    "tags": []
   },
   "outputs": [],
   "source": [
    "model.feature_extractor(input_measurement).shape"
   ]
  },
  {
   "cell_type": "code",
   "execution_count": null,
   "id": "025b925c-2ee1-4f2f-9bd7-993a240f48d6",
   "metadata": {
    "tags": []
   },
   "outputs": [],
   "source": [
    "from ssvepcca.learners import FBSpatioTemporalCCAFixed\n",
    "modelfixed = FBSpatioTemporalCCAFixed(\n",
    "    electrodes_name=electrode_list_fbcca,\n",
    "    start_time_index=125,\n",
    "    stop_time_index=875,\n",
    "    num_harmonics=5,\n",
    "    fb_num_subband=10,\n",
    "    fb_fundamental_freq=8,\n",
    "    fb_upper_bound_freq=88,\n",
    "    window_gap=3,\n",
    "    window_length=1,\n",
    ")    "
   ]
  },
  {
   "cell_type": "code",
   "execution_count": null,
   "id": "39c057bf-4285-4ec6-b271-deec4a315914",
   "metadata": {
    "tags": []
   },
   "outputs": [],
   "source": [
    "input_data[:4, ...].shape"
   ]
  },
  {
   "cell_type": "code",
   "execution_count": null,
   "id": "a34e6748-c22e-4c74-88b9-6ff3072478c9",
   "metadata": {
    "tags": []
   },
   "outputs": [],
   "source": [
    "modelfixed.fit(input_data[:4, ...])"
   ]
  },
  {
   "cell_type": "code",
   "execution_count": null,
   "id": "47515166-ebde-4ed1-aa97-ca862588d01f",
   "metadata": {
    "tags": []
   },
   "outputs": [],
   "source": [
    "input_data[4, ...].shape"
   ]
  },
  {
   "cell_type": "code",
   "execution_count": null,
   "id": "8643c40a-67d2-4df8-a221-bd96bbcfc23e",
   "metadata": {
    "tags": []
   },
   "outputs": [],
   "source": [
    "modelfixed.predict_proba(input_data[4, 0, ...])"
   ]
  },
  {
   "cell_type": "code",
   "execution_count": null,
   "id": "0a6a491d-33e4-430c-8151-e9bce6459faa",
   "metadata": {
    "tags": []
   },
   "outputs": [],
   "source": [
    "input_data[..., 0,:,:,:].shape"
   ]
  },
  {
   "cell_type": "code",
   "execution_count": null,
   "id": "5b28285b-373f-480e-99f0-8f0f9a42c08d",
   "metadata": {
    "tags": []
   },
   "outputs": [],
   "source": [
    "preproc = modelfixed.fit(input_data[:4, ...])"
   ]
  },
  {
   "cell_type": "code",
   "execution_count": null,
   "id": "7aa1f89c-f08b-40f5-8f82-4ecdedcd8a86",
   "metadata": {
    "tags": []
   },
   "outputs": [],
   "source": [
    "preproc"
   ]
  },
  {
   "cell_type": "code",
   "execution_count": null,
   "id": "15832296-b044-4864-ab99-b3af26c72345",
   "metadata": {
    "tags": []
   },
   "outputs": [],
   "source": [
    "preproc2 = preproc.transpose([1, 0, 2, 3])"
   ]
  },
  {
   "cell_type": "code",
   "execution_count": null,
   "id": "492fd00e-c207-40e1-97a4-cb54b724077a",
   "metadata": {
    "tags": []
   },
   "outputs": [],
   "source": [
    "preproc2.reshape(preproc2.shape[0], -1, preproc2.shape[-1]).shape"
   ]
  },
  {
   "cell_type": "code",
   "execution_count": null,
   "id": "24306d0c-f886-47a0-8b6e-4f4e9364f18d",
   "metadata": {
    "tags": []
   },
   "outputs": [],
   "source": [
    "preproc2.shape"
   ]
  },
  {
   "cell_type": "code",
   "execution_count": null,
   "id": "d8ad95ca-7837-4472-800f-72051c2ccb97",
   "metadata": {
    "tags": []
   },
   "outputs": [],
   "source": [
    "(preproc2.shape[0],) + preproc2.shape[-2:]"
   ]
  },
  {
   "cell_type": "markdown",
   "id": "01a13d2c-4182-4ba5-9f7e-36a2f714831b",
   "metadata": {},
   "source": [
    "## Develop windowed training data"
   ]
  },
  {
   "cell_type": "code",
   "execution_count": null,
   "id": "b64a34f4-69dd-478a-9869-498aabd02cfd",
   "metadata": {
    "tags": []
   },
   "outputs": [],
   "source": [
    "START_TIME_INDEX = 125\n",
    "STOP_TIME_INDEX = 875\n",
    "NUM_SAMPLES = 1500\n",
    "USEFUL_NUM_SAMPLES = NUM_SAMPLES - 125\n",
    "\n",
    "extra_offset = 125\n",
    "step_size = 125"
   ]
  },
  {
   "cell_type": "code",
   "execution_count": null,
   "id": "707b8fb4-9293-4c41-a59d-b771a6a6d09a",
   "metadata": {
    "tags": []
   },
   "outputs": [],
   "source": [
    "input_data.shape"
   ]
  },
  {
   "cell_type": "code",
   "execution_count": null,
   "id": "809258a9-8361-4b8a-911a-e70f2e9d4171",
   "metadata": {
    "tags": []
   },
   "outputs": [],
   "source": [
    "window_size = (STOP_TIME_INDEX - START_TIME_INDEX) + extra_offset\n",
    "window_size"
   ]
  },
  {
   "cell_type": "code",
   "execution_count": null,
   "id": "7325fa77-d4d8-4fd2-b8bf-f71d16a0f217",
   "metadata": {
    "tags": []
   },
   "outputs": [],
   "source": [
    "window_size_seconds = window_size / 250\n",
    "window_size_seconds"
   ]
  },
  {
   "cell_type": "code",
   "execution_count": null,
   "id": "aa4bc3c7-591b-42a6-91d1-65fe80af5947",
   "metadata": {
    "tags": []
   },
   "outputs": [],
   "source": [
    "USEFUL_NUM_SAMPLES"
   ]
  },
  {
   "cell_type": "code",
   "execution_count": null,
   "id": "ccf3ad41-557c-412b-9df7-966500998f25",
   "metadata": {
    "tags": []
   },
   "outputs": [],
   "source": [
    "window_size"
   ]
  },
  {
   "cell_type": "code",
   "execution_count": null,
   "id": "3f53fa54-2334-482c-901f-3a2fb5e28c2d",
   "metadata": {
    "tags": []
   },
   "outputs": [],
   "source": [
    "window_size + step_size * 4"
   ]
  },
  {
   "cell_type": "code",
   "execution_count": null,
   "id": "6696e41c-84c1-4e7e-a73f-5ba9cc4e276d",
   "metadata": {
    "tags": []
   },
   "outputs": [],
   "source": [
    "window_size / 250"
   ]
  },
  {
   "cell_type": "code",
   "execution_count": null,
   "id": "fc5c5291-93a7-44a4-96a0-d8d0573c5006",
   "metadata": {
    "tags": []
   },
   "outputs": [],
   "source": [
    "step_size * 4 / 250"
   ]
  },
  {
   "cell_type": "code",
   "execution_count": null,
   "id": "67935cbe-9c5c-4f38-b130-19cd6cafe11b",
   "metadata": {
    "tags": []
   },
   "outputs": [],
   "source": [
    "window_size = 875"
   ]
  },
  {
   "cell_type": "code",
   "execution_count": null,
   "id": "de1471ab-4473-42ac-9530-89d1ce0415ef",
   "metadata": {
    "tags": []
   },
   "outputs": [],
   "source": [
    "steps = (USEFUL_NUM_SAMPLES - window_size) // step_size + 1"
   ]
  },
  {
   "cell_type": "code",
   "execution_count": null,
   "id": "f49a0ce9-0fb1-4438-850e-013eb2281a42",
   "metadata": {
    "tags": []
   },
   "outputs": [],
   "source": [
    "steps"
   ]
  },
  {
   "cell_type": "code",
   "execution_count": null,
   "id": "e2a1d92b-5c3a-4f80-a80f-8e45ebc376f3",
   "metadata": {
    "tags": []
   },
   "outputs": [],
   "source": [
    "for step in range(steps):\n",
    "    window_start_time = step * step_size\n",
    "    window_stop_time = window_size + step * step_size\n",
    "    print(window_start_time/250, window_stop_time/250)"
   ]
  },
  {
   "cell_type": "code",
   "execution_count": null,
   "id": "0611dbcf-6b18-40ef-857a-98a865d7e3ee",
   "metadata": {
    "tags": []
   },
   "outputs": [],
   "source": [
    "a = input_data[:, :, window_start_time:window_stop_time, :]\n",
    "b = input_data[:, :, window_start_time+125:window_stop_time+125, :]"
   ]
  },
  {
   "cell_type": "code",
   "execution_count": null,
   "id": "03be7ee4-cc39-4221-b6a1-9e2d240f4f67",
   "metadata": {
    "tags": []
   },
   "outputs": [],
   "source": [
    "np.concatenate([a, b], axis=2).shape"
   ]
  },
  {
   "cell_type": "code",
   "execution_count": null,
   "id": "1adf6bf3-661a-41e5-b246-82e708c85f4e",
   "metadata": {
    "tags": []
   },
   "outputs": [],
   "source": [
    "window_size, window_size/250"
   ]
  },
  {
   "cell_type": "code",
   "execution_count": null,
   "id": "f69d7404-91f6-4b50-beea-11951cbefd0d",
   "metadata": {},
   "outputs": [],
   "source": []
  }
 ],
 "metadata": {
  "kernelspec": {
   "display_name": "Python 3 (ipykernel)",
   "language": "python",
   "name": "python3"
  },
  "language_info": {
   "codemirror_mode": {
    "name": "ipython",
    "version": 3
   },
   "file_extension": ".py",
   "mimetype": "text/x-python",
   "name": "python",
   "nbconvert_exporter": "python",
   "pygments_lexer": "ipython3",
   "version": "3.9.16"
  }
 },
 "nbformat": 4,
 "nbformat_minor": 5
}
